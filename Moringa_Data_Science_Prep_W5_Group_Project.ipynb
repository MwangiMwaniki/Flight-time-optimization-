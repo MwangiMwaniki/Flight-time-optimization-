{
  "nbformat": 4,
  "nbformat_minor": 0,
  "metadata": {
    "colab": {
      "name": "Moringa_Data_Science_Prep_W5_Group_Project",
      "provenance": [],
      "collapsed_sections": []
    },
    "kernelspec": {
      "name": "python3",
      "display_name": "Python 3"
    }
  },
  "cells": [
    {
      "cell_type": "code",
      "metadata": {
        "id": "kt25iOcO3ILU"
      },
      "source": [
        "# importing python libraries\r\n",
        "import pandas as pd\r\n",
        "import numpy as np"
      ],
      "execution_count": null,
      "outputs": []
    },
    {
      "cell_type": "markdown",
      "metadata": {
        "id": "jOy5bSjDmdTN"
      },
      "source": [
        "LOADING DATASETS"
      ]
    },
    {
      "cell_type": "code",
      "metadata": {
        "colab": {
          "base_uri": "https://localhost:8080/",
          "height": 379
        },
        "id": "_ZKnesfO3Pub",
        "outputId": "1ffe8d74-dae8-4f95-c47c-202b448ee59e"
      },
      "source": [
        "# load our dataset\r\n",
        "df1 = pd.read_csv('flights.csv')\r\n",
        "df1.head(10)"
      ],
      "execution_count": null,
      "outputs": [
        {
          "output_type": "execute_result",
          "data": {
            "text/html": [
              "<div>\n",
              "<style scoped>\n",
              "    .dataframe tbody tr th:only-of-type {\n",
              "        vertical-align: middle;\n",
              "    }\n",
              "\n",
              "    .dataframe tbody tr th {\n",
              "        vertical-align: top;\n",
              "    }\n",
              "\n",
              "    .dataframe thead th {\n",
              "        text-align: right;\n",
              "    }\n",
              "</style>\n",
              "<table border=\"1\" class=\"dataframe\">\n",
              "  <thead>\n",
              "    <tr style=\"text-align: right;\">\n",
              "      <th></th>\n",
              "      <th>YEAR</th>\n",
              "      <th>MONTH</th>\n",
              "      <th>DAY</th>\n",
              "      <th>DAY_OF_WEEK</th>\n",
              "      <th>AIRLINE</th>\n",
              "      <th>FLIGHT_NUMBER</th>\n",
              "      <th>TAIL_NUMBER</th>\n",
              "      <th>ORIGIN_AIRPORT</th>\n",
              "      <th>DESTINATION_AIRPORT</th>\n",
              "      <th>SCHEDULED_DEPARTURE</th>\n",
              "      <th>DEPARTURE_TIME</th>\n",
              "      <th>DEPARTURE_DELAY</th>\n",
              "      <th>TAXI_OUT</th>\n",
              "      <th>WHEELS_OFF</th>\n",
              "      <th>SCHEDULED_TIME</th>\n",
              "      <th>ELAPSED_TIME</th>\n",
              "      <th>AIR_TIME</th>\n",
              "      <th>DISTANCE</th>\n",
              "      <th>WHEELS_ON</th>\n",
              "      <th>TAXI_IN</th>\n",
              "      <th>SCHEDULED_ARRIVAL</th>\n",
              "      <th>ARRIVAL_TIME</th>\n",
              "      <th>ARRIVAL_DELAY</th>\n",
              "      <th>DIVERTED</th>\n",
              "      <th>CANCELLED</th>\n",
              "      <th>CANCELLATION_REASON</th>\n",
              "      <th>AIR_SYSTEM_DELAY</th>\n",
              "      <th>SECURITY_DELAY</th>\n",
              "      <th>AIRLINE_DELAY</th>\n",
              "      <th>LATE_AIRCRAFT_DELAY</th>\n",
              "      <th>WEATHER_DELAY</th>\n",
              "    </tr>\n",
              "  </thead>\n",
              "  <tbody>\n",
              "    <tr>\n",
              "      <th>0</th>\n",
              "      <td>2015</td>\n",
              "      <td>1</td>\n",
              "      <td>1</td>\n",
              "      <td>4</td>\n",
              "      <td>AS</td>\n",
              "      <td>98</td>\n",
              "      <td>N407AS</td>\n",
              "      <td>ANC</td>\n",
              "      <td>SEA</td>\n",
              "      <td>5</td>\n",
              "      <td>2354.0</td>\n",
              "      <td>-11.0</td>\n",
              "      <td>21.0</td>\n",
              "      <td>15.0</td>\n",
              "      <td>205.0</td>\n",
              "      <td>194.0</td>\n",
              "      <td>169.0</td>\n",
              "      <td>1448</td>\n",
              "      <td>404.0</td>\n",
              "      <td>4.0</td>\n",
              "      <td>430</td>\n",
              "      <td>408.0</td>\n",
              "      <td>-22.0</td>\n",
              "      <td>0</td>\n",
              "      <td>0.0</td>\n",
              "      <td>NaN</td>\n",
              "      <td>NaN</td>\n",
              "      <td>NaN</td>\n",
              "      <td>NaN</td>\n",
              "      <td>NaN</td>\n",
              "      <td>NaN</td>\n",
              "    </tr>\n",
              "    <tr>\n",
              "      <th>1</th>\n",
              "      <td>2015</td>\n",
              "      <td>1</td>\n",
              "      <td>1</td>\n",
              "      <td>4</td>\n",
              "      <td>AA</td>\n",
              "      <td>2336</td>\n",
              "      <td>N3KUAA</td>\n",
              "      <td>LAX</td>\n",
              "      <td>PBI</td>\n",
              "      <td>10</td>\n",
              "      <td>2.0</td>\n",
              "      <td>-8.0</td>\n",
              "      <td>12.0</td>\n",
              "      <td>14.0</td>\n",
              "      <td>280.0</td>\n",
              "      <td>279.0</td>\n",
              "      <td>263.0</td>\n",
              "      <td>2330</td>\n",
              "      <td>737.0</td>\n",
              "      <td>4.0</td>\n",
              "      <td>750</td>\n",
              "      <td>741.0</td>\n",
              "      <td>-9.0</td>\n",
              "      <td>0</td>\n",
              "      <td>0.0</td>\n",
              "      <td>NaN</td>\n",
              "      <td>NaN</td>\n",
              "      <td>NaN</td>\n",
              "      <td>NaN</td>\n",
              "      <td>NaN</td>\n",
              "      <td>NaN</td>\n",
              "    </tr>\n",
              "    <tr>\n",
              "      <th>2</th>\n",
              "      <td>2015</td>\n",
              "      <td>1</td>\n",
              "      <td>1</td>\n",
              "      <td>4</td>\n",
              "      <td>US</td>\n",
              "      <td>840</td>\n",
              "      <td>N171US</td>\n",
              "      <td>SFO</td>\n",
              "      <td>CLT</td>\n",
              "      <td>20</td>\n",
              "      <td>18.0</td>\n",
              "      <td>-2.0</td>\n",
              "      <td>16.0</td>\n",
              "      <td>34.0</td>\n",
              "      <td>286.0</td>\n",
              "      <td>293.0</td>\n",
              "      <td>266.0</td>\n",
              "      <td>2296</td>\n",
              "      <td>800.0</td>\n",
              "      <td>11.0</td>\n",
              "      <td>806</td>\n",
              "      <td>811.0</td>\n",
              "      <td>5.0</td>\n",
              "      <td>0</td>\n",
              "      <td>0.0</td>\n",
              "      <td>NaN</td>\n",
              "      <td>NaN</td>\n",
              "      <td>NaN</td>\n",
              "      <td>NaN</td>\n",
              "      <td>NaN</td>\n",
              "      <td>NaN</td>\n",
              "    </tr>\n",
              "    <tr>\n",
              "      <th>3</th>\n",
              "      <td>2015</td>\n",
              "      <td>1</td>\n",
              "      <td>1</td>\n",
              "      <td>4</td>\n",
              "      <td>AA</td>\n",
              "      <td>258</td>\n",
              "      <td>N3HYAA</td>\n",
              "      <td>LAX</td>\n",
              "      <td>MIA</td>\n",
              "      <td>20</td>\n",
              "      <td>15.0</td>\n",
              "      <td>-5.0</td>\n",
              "      <td>15.0</td>\n",
              "      <td>30.0</td>\n",
              "      <td>285.0</td>\n",
              "      <td>281.0</td>\n",
              "      <td>258.0</td>\n",
              "      <td>2342</td>\n",
              "      <td>748.0</td>\n",
              "      <td>8.0</td>\n",
              "      <td>805</td>\n",
              "      <td>756.0</td>\n",
              "      <td>-9.0</td>\n",
              "      <td>0</td>\n",
              "      <td>0.0</td>\n",
              "      <td>NaN</td>\n",
              "      <td>NaN</td>\n",
              "      <td>NaN</td>\n",
              "      <td>NaN</td>\n",
              "      <td>NaN</td>\n",
              "      <td>NaN</td>\n",
              "    </tr>\n",
              "    <tr>\n",
              "      <th>4</th>\n",
              "      <td>2015</td>\n",
              "      <td>1</td>\n",
              "      <td>1</td>\n",
              "      <td>4</td>\n",
              "      <td>AS</td>\n",
              "      <td>135</td>\n",
              "      <td>N527AS</td>\n",
              "      <td>SEA</td>\n",
              "      <td>ANC</td>\n",
              "      <td>25</td>\n",
              "      <td>24.0</td>\n",
              "      <td>-1.0</td>\n",
              "      <td>11.0</td>\n",
              "      <td>35.0</td>\n",
              "      <td>235.0</td>\n",
              "      <td>215.0</td>\n",
              "      <td>199.0</td>\n",
              "      <td>1448</td>\n",
              "      <td>254.0</td>\n",
              "      <td>5.0</td>\n",
              "      <td>320</td>\n",
              "      <td>259.0</td>\n",
              "      <td>-21.0</td>\n",
              "      <td>0</td>\n",
              "      <td>0.0</td>\n",
              "      <td>NaN</td>\n",
              "      <td>NaN</td>\n",
              "      <td>NaN</td>\n",
              "      <td>NaN</td>\n",
              "      <td>NaN</td>\n",
              "      <td>NaN</td>\n",
              "    </tr>\n",
              "    <tr>\n",
              "      <th>5</th>\n",
              "      <td>2015</td>\n",
              "      <td>1</td>\n",
              "      <td>1</td>\n",
              "      <td>4</td>\n",
              "      <td>DL</td>\n",
              "      <td>806</td>\n",
              "      <td>N3730B</td>\n",
              "      <td>SFO</td>\n",
              "      <td>MSP</td>\n",
              "      <td>25</td>\n",
              "      <td>20.0</td>\n",
              "      <td>-5.0</td>\n",
              "      <td>18.0</td>\n",
              "      <td>38.0</td>\n",
              "      <td>217.0</td>\n",
              "      <td>230.0</td>\n",
              "      <td>206.0</td>\n",
              "      <td>1589</td>\n",
              "      <td>604.0</td>\n",
              "      <td>6.0</td>\n",
              "      <td>602</td>\n",
              "      <td>610.0</td>\n",
              "      <td>8.0</td>\n",
              "      <td>0</td>\n",
              "      <td>0.0</td>\n",
              "      <td>NaN</td>\n",
              "      <td>NaN</td>\n",
              "      <td>NaN</td>\n",
              "      <td>NaN</td>\n",
              "      <td>NaN</td>\n",
              "      <td>NaN</td>\n",
              "    </tr>\n",
              "    <tr>\n",
              "      <th>6</th>\n",
              "      <td>2015</td>\n",
              "      <td>1</td>\n",
              "      <td>1</td>\n",
              "      <td>4</td>\n",
              "      <td>NK</td>\n",
              "      <td>612</td>\n",
              "      <td>N635NK</td>\n",
              "      <td>LAS</td>\n",
              "      <td>MSP</td>\n",
              "      <td>25</td>\n",
              "      <td>19.0</td>\n",
              "      <td>-6.0</td>\n",
              "      <td>11.0</td>\n",
              "      <td>30.0</td>\n",
              "      <td>181.0</td>\n",
              "      <td>170.0</td>\n",
              "      <td>154.0</td>\n",
              "      <td>1299</td>\n",
              "      <td>504.0</td>\n",
              "      <td>5.0</td>\n",
              "      <td>526</td>\n",
              "      <td>509.0</td>\n",
              "      <td>-17.0</td>\n",
              "      <td>0</td>\n",
              "      <td>0.0</td>\n",
              "      <td>NaN</td>\n",
              "      <td>NaN</td>\n",
              "      <td>NaN</td>\n",
              "      <td>NaN</td>\n",
              "      <td>NaN</td>\n",
              "      <td>NaN</td>\n",
              "    </tr>\n",
              "    <tr>\n",
              "      <th>7</th>\n",
              "      <td>2015</td>\n",
              "      <td>1</td>\n",
              "      <td>1</td>\n",
              "      <td>4</td>\n",
              "      <td>US</td>\n",
              "      <td>2013</td>\n",
              "      <td>N584UW</td>\n",
              "      <td>LAX</td>\n",
              "      <td>CLT</td>\n",
              "      <td>30</td>\n",
              "      <td>44.0</td>\n",
              "      <td>14.0</td>\n",
              "      <td>13.0</td>\n",
              "      <td>57.0</td>\n",
              "      <td>273.0</td>\n",
              "      <td>249.0</td>\n",
              "      <td>228.0</td>\n",
              "      <td>2125</td>\n",
              "      <td>745.0</td>\n",
              "      <td>8.0</td>\n",
              "      <td>803</td>\n",
              "      <td>753.0</td>\n",
              "      <td>-10.0</td>\n",
              "      <td>0</td>\n",
              "      <td>0.0</td>\n",
              "      <td>NaN</td>\n",
              "      <td>NaN</td>\n",
              "      <td>NaN</td>\n",
              "      <td>NaN</td>\n",
              "      <td>NaN</td>\n",
              "      <td>NaN</td>\n",
              "    </tr>\n",
              "    <tr>\n",
              "      <th>8</th>\n",
              "      <td>2015</td>\n",
              "      <td>1</td>\n",
              "      <td>1</td>\n",
              "      <td>4</td>\n",
              "      <td>AA</td>\n",
              "      <td>1112</td>\n",
              "      <td>N3LAAA</td>\n",
              "      <td>SFO</td>\n",
              "      <td>DFW</td>\n",
              "      <td>30</td>\n",
              "      <td>19.0</td>\n",
              "      <td>-11.0</td>\n",
              "      <td>17.0</td>\n",
              "      <td>36.0</td>\n",
              "      <td>195.0</td>\n",
              "      <td>193.0</td>\n",
              "      <td>173.0</td>\n",
              "      <td>1464</td>\n",
              "      <td>529.0</td>\n",
              "      <td>3.0</td>\n",
              "      <td>545</td>\n",
              "      <td>532.0</td>\n",
              "      <td>-13.0</td>\n",
              "      <td>0</td>\n",
              "      <td>0.0</td>\n",
              "      <td>NaN</td>\n",
              "      <td>NaN</td>\n",
              "      <td>NaN</td>\n",
              "      <td>NaN</td>\n",
              "      <td>NaN</td>\n",
              "      <td>NaN</td>\n",
              "    </tr>\n",
              "    <tr>\n",
              "      <th>9</th>\n",
              "      <td>2015</td>\n",
              "      <td>1</td>\n",
              "      <td>1</td>\n",
              "      <td>4</td>\n",
              "      <td>DL</td>\n",
              "      <td>1173</td>\n",
              "      <td>N826DN</td>\n",
              "      <td>LAS</td>\n",
              "      <td>ATL</td>\n",
              "      <td>30</td>\n",
              "      <td>33.0</td>\n",
              "      <td>3.0</td>\n",
              "      <td>12.0</td>\n",
              "      <td>45.0</td>\n",
              "      <td>221.0</td>\n",
              "      <td>203.0</td>\n",
              "      <td>186.0</td>\n",
              "      <td>1747</td>\n",
              "      <td>651.0</td>\n",
              "      <td>5.0</td>\n",
              "      <td>711</td>\n",
              "      <td>656.0</td>\n",
              "      <td>-15.0</td>\n",
              "      <td>0</td>\n",
              "      <td>0.0</td>\n",
              "      <td>NaN</td>\n",
              "      <td>NaN</td>\n",
              "      <td>NaN</td>\n",
              "      <td>NaN</td>\n",
              "      <td>NaN</td>\n",
              "      <td>NaN</td>\n",
              "    </tr>\n",
              "  </tbody>\n",
              "</table>\n",
              "</div>"
            ],
            "text/plain": [
              "   YEAR  MONTH  DAY  ...  AIRLINE_DELAY LATE_AIRCRAFT_DELAY  WEATHER_DELAY\n",
              "0  2015      1    1  ...            NaN                 NaN            NaN\n",
              "1  2015      1    1  ...            NaN                 NaN            NaN\n",
              "2  2015      1    1  ...            NaN                 NaN            NaN\n",
              "3  2015      1    1  ...            NaN                 NaN            NaN\n",
              "4  2015      1    1  ...            NaN                 NaN            NaN\n",
              "5  2015      1    1  ...            NaN                 NaN            NaN\n",
              "6  2015      1    1  ...            NaN                 NaN            NaN\n",
              "7  2015      1    1  ...            NaN                 NaN            NaN\n",
              "8  2015      1    1  ...            NaN                 NaN            NaN\n",
              "9  2015      1    1  ...            NaN                 NaN            NaN\n",
              "\n",
              "[10 rows x 31 columns]"
            ]
          },
          "metadata": {
            "tags": []
          },
          "execution_count": 3
        }
      ]
    },
    {
      "cell_type": "code",
      "metadata": {
        "id": "GPDUpMMyzN4S"
      },
      "source": [
        "#exporting the CSV FILE\r\n",
        "Trimed_Flights_data = df1.head(1000000)\r\n",
        "Trimed_Flights_data.to_csv('Trimed_Flights_data.csv')"
      ],
      "execution_count": null,
      "outputs": []
    },
    {
      "cell_type": "code",
      "metadata": {
        "colab": {
          "base_uri": "https://localhost:8080/",
          "height": 396
        },
        "id": "HTBZjGiz2Bcm",
        "outputId": "be3ab6b3-f2d1-4b90-a65f-ab3082cd26bc"
      },
      "source": [
        "df1 = pd.read_csv('Trimed_Flights_data.csv')\r\n",
        "df1.head(10)"
      ],
      "execution_count": null,
      "outputs": [
        {
          "output_type": "execute_result",
          "data": {
            "text/html": [
              "<div>\n",
              "<style scoped>\n",
              "    .dataframe tbody tr th:only-of-type {\n",
              "        vertical-align: middle;\n",
              "    }\n",
              "\n",
              "    .dataframe tbody tr th {\n",
              "        vertical-align: top;\n",
              "    }\n",
              "\n",
              "    .dataframe thead th {\n",
              "        text-align: right;\n",
              "    }\n",
              "</style>\n",
              "<table border=\"1\" class=\"dataframe\">\n",
              "  <thead>\n",
              "    <tr style=\"text-align: right;\">\n",
              "      <th></th>\n",
              "      <th>Unnamed: 0</th>\n",
              "      <th>YEAR</th>\n",
              "      <th>MONTH</th>\n",
              "      <th>DAY</th>\n",
              "      <th>DAY_OF_WEEK</th>\n",
              "      <th>AIRLINE</th>\n",
              "      <th>FLIGHT_NUMBER</th>\n",
              "      <th>TAIL_NUMBER</th>\n",
              "      <th>ORIGIN_AIRPORT</th>\n",
              "      <th>DESTINATION_AIRPORT</th>\n",
              "      <th>SCHEDULED_DEPARTURE</th>\n",
              "      <th>DEPARTURE_TIME</th>\n",
              "      <th>DEPARTURE_DELAY</th>\n",
              "      <th>TAXI_OUT</th>\n",
              "      <th>WHEELS_OFF</th>\n",
              "      <th>SCHEDULED_TIME</th>\n",
              "      <th>ELAPSED_TIME</th>\n",
              "      <th>AIR_TIME</th>\n",
              "      <th>DISTANCE</th>\n",
              "      <th>WHEELS_ON</th>\n",
              "      <th>TAXI_IN</th>\n",
              "      <th>SCHEDULED_ARRIVAL</th>\n",
              "      <th>ARRIVAL_TIME</th>\n",
              "      <th>ARRIVAL_DELAY</th>\n",
              "      <th>DIVERTED</th>\n",
              "      <th>CANCELLED</th>\n",
              "      <th>CANCELLATION_REASON</th>\n",
              "      <th>AIR_SYSTEM_DELAY</th>\n",
              "      <th>SECURITY_DELAY</th>\n",
              "      <th>AIRLINE_DELAY</th>\n",
              "      <th>LATE_AIRCRAFT_DELAY</th>\n",
              "      <th>WEATHER_DELAY</th>\n",
              "    </tr>\n",
              "  </thead>\n",
              "  <tbody>\n",
              "    <tr>\n",
              "      <th>0</th>\n",
              "      <td>0</td>\n",
              "      <td>2015</td>\n",
              "      <td>1</td>\n",
              "      <td>1</td>\n",
              "      <td>4</td>\n",
              "      <td>AS</td>\n",
              "      <td>98</td>\n",
              "      <td>N407AS</td>\n",
              "      <td>ANC</td>\n",
              "      <td>SEA</td>\n",
              "      <td>5</td>\n",
              "      <td>2354.0</td>\n",
              "      <td>-11.0</td>\n",
              "      <td>21.0</td>\n",
              "      <td>15.0</td>\n",
              "      <td>205.0</td>\n",
              "      <td>194.0</td>\n",
              "      <td>169.0</td>\n",
              "      <td>1448</td>\n",
              "      <td>404.0</td>\n",
              "      <td>4.0</td>\n",
              "      <td>430</td>\n",
              "      <td>408.0</td>\n",
              "      <td>-22.0</td>\n",
              "      <td>0</td>\n",
              "      <td>0.0</td>\n",
              "      <td>NaN</td>\n",
              "      <td>NaN</td>\n",
              "      <td>NaN</td>\n",
              "      <td>NaN</td>\n",
              "      <td>NaN</td>\n",
              "      <td>NaN</td>\n",
              "    </tr>\n",
              "    <tr>\n",
              "      <th>1</th>\n",
              "      <td>1</td>\n",
              "      <td>2015</td>\n",
              "      <td>1</td>\n",
              "      <td>1</td>\n",
              "      <td>4</td>\n",
              "      <td>AA</td>\n",
              "      <td>2336</td>\n",
              "      <td>N3KUAA</td>\n",
              "      <td>LAX</td>\n",
              "      <td>PBI</td>\n",
              "      <td>10</td>\n",
              "      <td>2.0</td>\n",
              "      <td>-8.0</td>\n",
              "      <td>12.0</td>\n",
              "      <td>14.0</td>\n",
              "      <td>280.0</td>\n",
              "      <td>279.0</td>\n",
              "      <td>263.0</td>\n",
              "      <td>2330</td>\n",
              "      <td>737.0</td>\n",
              "      <td>4.0</td>\n",
              "      <td>750</td>\n",
              "      <td>741.0</td>\n",
              "      <td>-9.0</td>\n",
              "      <td>0</td>\n",
              "      <td>0.0</td>\n",
              "      <td>NaN</td>\n",
              "      <td>NaN</td>\n",
              "      <td>NaN</td>\n",
              "      <td>NaN</td>\n",
              "      <td>NaN</td>\n",
              "      <td>NaN</td>\n",
              "    </tr>\n",
              "    <tr>\n",
              "      <th>2</th>\n",
              "      <td>2</td>\n",
              "      <td>2015</td>\n",
              "      <td>1</td>\n",
              "      <td>1</td>\n",
              "      <td>4</td>\n",
              "      <td>US</td>\n",
              "      <td>840</td>\n",
              "      <td>N171US</td>\n",
              "      <td>SFO</td>\n",
              "      <td>CLT</td>\n",
              "      <td>20</td>\n",
              "      <td>18.0</td>\n",
              "      <td>-2.0</td>\n",
              "      <td>16.0</td>\n",
              "      <td>34.0</td>\n",
              "      <td>286.0</td>\n",
              "      <td>293.0</td>\n",
              "      <td>266.0</td>\n",
              "      <td>2296</td>\n",
              "      <td>800.0</td>\n",
              "      <td>11.0</td>\n",
              "      <td>806</td>\n",
              "      <td>811.0</td>\n",
              "      <td>5.0</td>\n",
              "      <td>0</td>\n",
              "      <td>0.0</td>\n",
              "      <td>NaN</td>\n",
              "      <td>NaN</td>\n",
              "      <td>NaN</td>\n",
              "      <td>NaN</td>\n",
              "      <td>NaN</td>\n",
              "      <td>NaN</td>\n",
              "    </tr>\n",
              "    <tr>\n",
              "      <th>3</th>\n",
              "      <td>3</td>\n",
              "      <td>2015</td>\n",
              "      <td>1</td>\n",
              "      <td>1</td>\n",
              "      <td>4</td>\n",
              "      <td>AA</td>\n",
              "      <td>258</td>\n",
              "      <td>N3HYAA</td>\n",
              "      <td>LAX</td>\n",
              "      <td>MIA</td>\n",
              "      <td>20</td>\n",
              "      <td>15.0</td>\n",
              "      <td>-5.0</td>\n",
              "      <td>15.0</td>\n",
              "      <td>30.0</td>\n",
              "      <td>285.0</td>\n",
              "      <td>281.0</td>\n",
              "      <td>258.0</td>\n",
              "      <td>2342</td>\n",
              "      <td>748.0</td>\n",
              "      <td>8.0</td>\n",
              "      <td>805</td>\n",
              "      <td>756.0</td>\n",
              "      <td>-9.0</td>\n",
              "      <td>0</td>\n",
              "      <td>0.0</td>\n",
              "      <td>NaN</td>\n",
              "      <td>NaN</td>\n",
              "      <td>NaN</td>\n",
              "      <td>NaN</td>\n",
              "      <td>NaN</td>\n",
              "      <td>NaN</td>\n",
              "    </tr>\n",
              "    <tr>\n",
              "      <th>4</th>\n",
              "      <td>4</td>\n",
              "      <td>2015</td>\n",
              "      <td>1</td>\n",
              "      <td>1</td>\n",
              "      <td>4</td>\n",
              "      <td>AS</td>\n",
              "      <td>135</td>\n",
              "      <td>N527AS</td>\n",
              "      <td>SEA</td>\n",
              "      <td>ANC</td>\n",
              "      <td>25</td>\n",
              "      <td>24.0</td>\n",
              "      <td>-1.0</td>\n",
              "      <td>11.0</td>\n",
              "      <td>35.0</td>\n",
              "      <td>235.0</td>\n",
              "      <td>215.0</td>\n",
              "      <td>199.0</td>\n",
              "      <td>1448</td>\n",
              "      <td>254.0</td>\n",
              "      <td>5.0</td>\n",
              "      <td>320</td>\n",
              "      <td>259.0</td>\n",
              "      <td>-21.0</td>\n",
              "      <td>0</td>\n",
              "      <td>0.0</td>\n",
              "      <td>NaN</td>\n",
              "      <td>NaN</td>\n",
              "      <td>NaN</td>\n",
              "      <td>NaN</td>\n",
              "      <td>NaN</td>\n",
              "      <td>NaN</td>\n",
              "    </tr>\n",
              "    <tr>\n",
              "      <th>5</th>\n",
              "      <td>5</td>\n",
              "      <td>2015</td>\n",
              "      <td>1</td>\n",
              "      <td>1</td>\n",
              "      <td>4</td>\n",
              "      <td>DL</td>\n",
              "      <td>806</td>\n",
              "      <td>N3730B</td>\n",
              "      <td>SFO</td>\n",
              "      <td>MSP</td>\n",
              "      <td>25</td>\n",
              "      <td>20.0</td>\n",
              "      <td>-5.0</td>\n",
              "      <td>18.0</td>\n",
              "      <td>38.0</td>\n",
              "      <td>217.0</td>\n",
              "      <td>230.0</td>\n",
              "      <td>206.0</td>\n",
              "      <td>1589</td>\n",
              "      <td>604.0</td>\n",
              "      <td>6.0</td>\n",
              "      <td>602</td>\n",
              "      <td>610.0</td>\n",
              "      <td>8.0</td>\n",
              "      <td>0</td>\n",
              "      <td>0.0</td>\n",
              "      <td>NaN</td>\n",
              "      <td>NaN</td>\n",
              "      <td>NaN</td>\n",
              "      <td>NaN</td>\n",
              "      <td>NaN</td>\n",
              "      <td>NaN</td>\n",
              "    </tr>\n",
              "    <tr>\n",
              "      <th>6</th>\n",
              "      <td>6</td>\n",
              "      <td>2015</td>\n",
              "      <td>1</td>\n",
              "      <td>1</td>\n",
              "      <td>4</td>\n",
              "      <td>NK</td>\n",
              "      <td>612</td>\n",
              "      <td>N635NK</td>\n",
              "      <td>LAS</td>\n",
              "      <td>MSP</td>\n",
              "      <td>25</td>\n",
              "      <td>19.0</td>\n",
              "      <td>-6.0</td>\n",
              "      <td>11.0</td>\n",
              "      <td>30.0</td>\n",
              "      <td>181.0</td>\n",
              "      <td>170.0</td>\n",
              "      <td>154.0</td>\n",
              "      <td>1299</td>\n",
              "      <td>504.0</td>\n",
              "      <td>5.0</td>\n",
              "      <td>526</td>\n",
              "      <td>509.0</td>\n",
              "      <td>-17.0</td>\n",
              "      <td>0</td>\n",
              "      <td>0.0</td>\n",
              "      <td>NaN</td>\n",
              "      <td>NaN</td>\n",
              "      <td>NaN</td>\n",
              "      <td>NaN</td>\n",
              "      <td>NaN</td>\n",
              "      <td>NaN</td>\n",
              "    </tr>\n",
              "    <tr>\n",
              "      <th>7</th>\n",
              "      <td>7</td>\n",
              "      <td>2015</td>\n",
              "      <td>1</td>\n",
              "      <td>1</td>\n",
              "      <td>4</td>\n",
              "      <td>US</td>\n",
              "      <td>2013</td>\n",
              "      <td>N584UW</td>\n",
              "      <td>LAX</td>\n",
              "      <td>CLT</td>\n",
              "      <td>30</td>\n",
              "      <td>44.0</td>\n",
              "      <td>14.0</td>\n",
              "      <td>13.0</td>\n",
              "      <td>57.0</td>\n",
              "      <td>273.0</td>\n",
              "      <td>249.0</td>\n",
              "      <td>228.0</td>\n",
              "      <td>2125</td>\n",
              "      <td>745.0</td>\n",
              "      <td>8.0</td>\n",
              "      <td>803</td>\n",
              "      <td>753.0</td>\n",
              "      <td>-10.0</td>\n",
              "      <td>0</td>\n",
              "      <td>0.0</td>\n",
              "      <td>NaN</td>\n",
              "      <td>NaN</td>\n",
              "      <td>NaN</td>\n",
              "      <td>NaN</td>\n",
              "      <td>NaN</td>\n",
              "      <td>NaN</td>\n",
              "    </tr>\n",
              "    <tr>\n",
              "      <th>8</th>\n",
              "      <td>8</td>\n",
              "      <td>2015</td>\n",
              "      <td>1</td>\n",
              "      <td>1</td>\n",
              "      <td>4</td>\n",
              "      <td>AA</td>\n",
              "      <td>1112</td>\n",
              "      <td>N3LAAA</td>\n",
              "      <td>SFO</td>\n",
              "      <td>DFW</td>\n",
              "      <td>30</td>\n",
              "      <td>19.0</td>\n",
              "      <td>-11.0</td>\n",
              "      <td>17.0</td>\n",
              "      <td>36.0</td>\n",
              "      <td>195.0</td>\n",
              "      <td>193.0</td>\n",
              "      <td>173.0</td>\n",
              "      <td>1464</td>\n",
              "      <td>529.0</td>\n",
              "      <td>3.0</td>\n",
              "      <td>545</td>\n",
              "      <td>532.0</td>\n",
              "      <td>-13.0</td>\n",
              "      <td>0</td>\n",
              "      <td>0.0</td>\n",
              "      <td>NaN</td>\n",
              "      <td>NaN</td>\n",
              "      <td>NaN</td>\n",
              "      <td>NaN</td>\n",
              "      <td>NaN</td>\n",
              "      <td>NaN</td>\n",
              "    </tr>\n",
              "    <tr>\n",
              "      <th>9</th>\n",
              "      <td>9</td>\n",
              "      <td>2015</td>\n",
              "      <td>1</td>\n",
              "      <td>1</td>\n",
              "      <td>4</td>\n",
              "      <td>DL</td>\n",
              "      <td>1173</td>\n",
              "      <td>N826DN</td>\n",
              "      <td>LAS</td>\n",
              "      <td>ATL</td>\n",
              "      <td>30</td>\n",
              "      <td>33.0</td>\n",
              "      <td>3.0</td>\n",
              "      <td>12.0</td>\n",
              "      <td>45.0</td>\n",
              "      <td>221.0</td>\n",
              "      <td>203.0</td>\n",
              "      <td>186.0</td>\n",
              "      <td>1747</td>\n",
              "      <td>651.0</td>\n",
              "      <td>5.0</td>\n",
              "      <td>711</td>\n",
              "      <td>656.0</td>\n",
              "      <td>-15.0</td>\n",
              "      <td>0</td>\n",
              "      <td>0.0</td>\n",
              "      <td>NaN</td>\n",
              "      <td>NaN</td>\n",
              "      <td>NaN</td>\n",
              "      <td>NaN</td>\n",
              "      <td>NaN</td>\n",
              "      <td>NaN</td>\n",
              "    </tr>\n",
              "  </tbody>\n",
              "</table>\n",
              "</div>"
            ],
            "text/plain": [
              "   Unnamed: 0  YEAR  MONTH  ...  AIRLINE_DELAY  LATE_AIRCRAFT_DELAY WEATHER_DELAY\n",
              "0           0  2015      1  ...            NaN                  NaN           NaN\n",
              "1           1  2015      1  ...            NaN                  NaN           NaN\n",
              "2           2  2015      1  ...            NaN                  NaN           NaN\n",
              "3           3  2015      1  ...            NaN                  NaN           NaN\n",
              "4           4  2015      1  ...            NaN                  NaN           NaN\n",
              "5           5  2015      1  ...            NaN                  NaN           NaN\n",
              "6           6  2015      1  ...            NaN                  NaN           NaN\n",
              "7           7  2015      1  ...            NaN                  NaN           NaN\n",
              "8           8  2015      1  ...            NaN                  NaN           NaN\n",
              "9           9  2015      1  ...            NaN                  NaN           NaN\n",
              "\n",
              "[10 rows x 32 columns]"
            ]
          },
          "metadata": {
            "tags": []
          },
          "execution_count": 6
        }
      ]
    },
    {
      "cell_type": "code",
      "metadata": {
        "id": "IZ9WxAph4ms1",
        "colab": {
          "base_uri": "https://localhost:8080/"
        },
        "outputId": "1c3c5315-3869-49dc-d35a-fa44b16a0a7d"
      },
      "source": [
        "# checking our rows and columns\r\n",
        "df1.shape"
      ],
      "execution_count": null,
      "outputs": [
        {
          "output_type": "execute_result",
          "data": {
            "text/plain": [
              "(1000000, 32)"
            ]
          },
          "metadata": {
            "tags": []
          },
          "execution_count": 8
        }
      ]
    },
    {
      "cell_type": "code",
      "metadata": {
        "id": "KMznHqW_4rLK",
        "colab": {
          "base_uri": "https://localhost:8080/"
        },
        "outputId": "261028a5-1d56-45be-e2d9-b64d38dfdff3"
      },
      "source": [
        "# checking on columns\r\n",
        "df1.columns"
      ],
      "execution_count": null,
      "outputs": [
        {
          "output_type": "execute_result",
          "data": {
            "text/plain": [
              "Index(['Unnamed: 0', 'YEAR', 'MONTH', 'DAY', 'DAY_OF_WEEK', 'AIRLINE',\n",
              "       'FLIGHT_NUMBER', 'TAIL_NUMBER', 'ORIGIN_AIRPORT', 'DESTINATION_AIRPORT',\n",
              "       'SCHEDULED_DEPARTURE', 'DEPARTURE_TIME', 'DEPARTURE_DELAY', 'TAXI_OUT',\n",
              "       'WHEELS_OFF', 'SCHEDULED_TIME', 'ELAPSED_TIME', 'AIR_TIME', 'DISTANCE',\n",
              "       'WHEELS_ON', 'TAXI_IN', 'SCHEDULED_ARRIVAL', 'ARRIVAL_TIME',\n",
              "       'ARRIVAL_DELAY', 'DIVERTED', 'CANCELLED', 'CANCELLATION_REASON',\n",
              "       'AIR_SYSTEM_DELAY', 'SECURITY_DELAY', 'AIRLINE_DELAY',\n",
              "       'LATE_AIRCRAFT_DELAY', 'WEATHER_DELAY'],\n",
              "      dtype='object')"
            ]
          },
          "metadata": {
            "tags": []
          },
          "execution_count": 10
        }
      ]
    },
    {
      "cell_type": "code",
      "metadata": {
        "colab": {
          "base_uri": "https://localhost:8080/"
        },
        "id": "ByRuIO5t7Tfz",
        "outputId": "21e133c7-691f-41f8-bb0b-382db965ad99"
      },
      "source": [
        "#Change all column names to lower case\r\n",
        "df1.columns = map(str.lower, df1.columns)\r\n",
        "df1.columns"
      ],
      "execution_count": null,
      "outputs": [
        {
          "output_type": "execute_result",
          "data": {
            "text/plain": [
              "Index(['unnamed: 0', 'year', 'month', 'day', 'day_of_week', 'airline',\n",
              "       'flight_number', 'tail_number', 'origin_airport', 'destination_airport',\n",
              "       'scheduled_departure', 'departure_time', 'departure_delay', 'taxi_out',\n",
              "       'wheels_off', 'scheduled_time', 'elapsed_time', 'air_time', 'distance',\n",
              "       'wheels_on', 'taxi_in', 'scheduled_arrival', 'arrival_time',\n",
              "       'arrival_delay', 'diverted', 'cancelled', 'cancellation_reason',\n",
              "       'air_system_delay', 'security_delay', 'airline_delay',\n",
              "       'late_aircraft_delay', 'weather_delay'],\n",
              "      dtype='object')"
            ]
          },
          "metadata": {
            "tags": []
          },
          "execution_count": 16
        }
      ]
    },
    {
      "cell_type": "code",
      "metadata": {
        "id": "ETkAt4zI4839"
      },
      "source": [
        "# dropping unnecessary columns\r\n",
        "df1.drop(['tail_number', 'taxi_out',\r\n",
        "       'wheels_off', 'air_time', \r\n",
        "       'wheels_on','taxi_in'],axis= 1, inplace = True)\r\n"
      ],
      "execution_count": null,
      "outputs": []
    },
    {
      "cell_type": "code",
      "metadata": {
        "colab": {
          "base_uri": "https://localhost:8080/"
        },
        "id": "nmdgdPGWPGHB",
        "outputId": "66328cb8-739c-467f-b34f-ac21fb86d9f0"
      },
      "source": [
        "#New columns after dropping\r\n",
        "df1.columns"
      ],
      "execution_count": null,
      "outputs": [
        {
          "output_type": "execute_result",
          "data": {
            "text/plain": [
              "Index(['unnamed: 0', 'year', 'month', 'day', 'day_of_week', 'airline',\n",
              "       'flight_number', 'origin_airport', 'destination_airport',\n",
              "       'scheduled_departure', 'departure_time', 'departure_delay',\n",
              "       'scheduled_time', 'elapsed_time', 'distance', 'scheduled_arrival',\n",
              "       'arrival_time', 'arrival_delay', 'diverted', 'cancelled',\n",
              "       'cancellation_reason', 'air_system_delay', 'security_delay',\n",
              "       'airline_delay', 'late_aircraft_delay', 'weather_delay'],\n",
              "      dtype='object')"
            ]
          },
          "metadata": {
            "tags": []
          },
          "execution_count": 22
        }
      ]
    },
    {
      "cell_type": "code",
      "metadata": {
        "id": "Blh_JEd5421m",
        "colab": {
          "base_uri": "https://localhost:8080/"
        },
        "outputId": "b1cb0594-2222-478e-e25c-02d9cbdecc9f"
      },
      "source": [
        "# preview our columns\r\n",
        "df1.info()"
      ],
      "execution_count": null,
      "outputs": [
        {
          "output_type": "stream",
          "text": [
            "<class 'pandas.core.frame.DataFrame'>\n",
            "RangeIndex: 1000000 entries, 0 to 999999\n",
            "Data columns (total 26 columns):\n",
            " #   Column               Non-Null Count    Dtype  \n",
            "---  ------               --------------    -----  \n",
            " 0   unnamed: 0           1000000 non-null  int64  \n",
            " 1   year                 1000000 non-null  int64  \n",
            " 2   month                1000000 non-null  int64  \n",
            " 3   day                  1000000 non-null  int64  \n",
            " 4   day_of_week          1000000 non-null  int64  \n",
            " 5   airline              1000000 non-null  object \n",
            " 6   flight_number        1000000 non-null  int64  \n",
            " 7   origin_airport       1000000 non-null  object \n",
            " 8   destination_airport  1000000 non-null  object \n",
            " 9   scheduled_departure  1000000 non-null  int64  \n",
            " 10  departure_time       960842 non-null   float64\n",
            " 11  departure_delay      960842 non-null   float64\n",
            " 12  scheduled_time       999998 non-null   float64\n",
            " 13  elapsed_time         957394 non-null   float64\n",
            " 14  distance             1000000 non-null  int64  \n",
            " 15  scheduled_arrival    1000000 non-null  int64  \n",
            " 16  arrival_time         959117 non-null   float64\n",
            " 17  arrival_delay        957394 non-null   float64\n",
            " 18  diverted             1000000 non-null  int64  \n",
            " 19  cancelled            1000000 non-null  float64\n",
            " 20  cancellation_reason  40132 non-null    object \n",
            " 21  air_system_delay     221041 non-null   float64\n",
            " 22  security_delay       221041 non-null   float64\n",
            " 23  airline_delay        221041 non-null   float64\n",
            " 24  late_aircraft_delay  221041 non-null   float64\n",
            " 25  weather_delay        221041 non-null   float64\n",
            "dtypes: float64(12), int64(10), object(4)\n",
            "memory usage: 198.4+ MB\n"
          ],
          "name": "stdout"
        }
      ]
    },
    {
      "cell_type": "code",
      "metadata": {
        "id": "1sjZ_Z0f5Cwj",
        "colab": {
          "base_uri": "https://localhost:8080/"
        },
        "outputId": "9c40d222-88a3-43e6-b0e3-991408a840dc"
      },
      "source": [
        "# check for null values\r\n",
        "df1.isnull().any()"
      ],
      "execution_count": null,
      "outputs": [
        {
          "output_type": "execute_result",
          "data": {
            "text/plain": [
              "Unnamed: 0             False\n",
              "YEAR                   False\n",
              "MONTH                  False\n",
              "DAY                    False\n",
              "DAY_OF_WEEK            False\n",
              "AIRLINE                False\n",
              "FLIGHT_NUMBER          False\n",
              "TAIL_NUMBER             True\n",
              "ORIGIN_AIRPORT         False\n",
              "DESTINATION_AIRPORT    False\n",
              "SCHEDULED_DEPARTURE    False\n",
              "DEPARTURE_TIME          True\n",
              "DEPARTURE_DELAY         True\n",
              "TAXI_OUT                True\n",
              "WHEELS_OFF              True\n",
              "SCHEDULED_TIME          True\n",
              "ELAPSED_TIME            True\n",
              "AIR_TIME                True\n",
              "DISTANCE               False\n",
              "WHEELS_ON               True\n",
              "TAXI_IN                 True\n",
              "SCHEDULED_ARRIVAL      False\n",
              "ARRIVAL_TIME            True\n",
              "ARRIVAL_DELAY           True\n",
              "DIVERTED               False\n",
              "CANCELLED              False\n",
              "CANCELLATION_REASON     True\n",
              "AIR_SYSTEM_DELAY        True\n",
              "SECURITY_DELAY          True\n",
              "AIRLINE_DELAY           True\n",
              "LATE_AIRCRAFT_DELAY     True\n",
              "WEATHER_DELAY           True\n",
              "dtype: bool"
            ]
          },
          "metadata": {
            "tags": []
          },
          "execution_count": 14
        }
      ]
    },
    {
      "cell_type": "code",
      "metadata": {
        "colab": {
          "base_uri": "https://localhost:8080/",
          "height": 241
        },
        "id": "mLMdCKK_6mMk",
        "outputId": "5eae9888-e4cb-4d45-b30b-2e44133d0391"
      },
      "source": [
        "df1.tail()"
      ],
      "execution_count": null,
      "outputs": [
        {
          "output_type": "execute_result",
          "data": {
            "text/html": [
              "<div>\n",
              "<style scoped>\n",
              "    .dataframe tbody tr th:only-of-type {\n",
              "        vertical-align: middle;\n",
              "    }\n",
              "\n",
              "    .dataframe tbody tr th {\n",
              "        vertical-align: top;\n",
              "    }\n",
              "\n",
              "    .dataframe thead th {\n",
              "        text-align: right;\n",
              "    }\n",
              "</style>\n",
              "<table border=\"1\" class=\"dataframe\">\n",
              "  <thead>\n",
              "    <tr style=\"text-align: right;\">\n",
              "      <th></th>\n",
              "      <th>unnamed: 0</th>\n",
              "      <th>year</th>\n",
              "      <th>month</th>\n",
              "      <th>day</th>\n",
              "      <th>day_of_week</th>\n",
              "      <th>airline</th>\n",
              "      <th>flight_number</th>\n",
              "      <th>origin_airport</th>\n",
              "      <th>destination_airport</th>\n",
              "      <th>scheduled_departure</th>\n",
              "      <th>departure_time</th>\n",
              "      <th>departure_delay</th>\n",
              "      <th>scheduled_time</th>\n",
              "      <th>elapsed_time</th>\n",
              "      <th>distance</th>\n",
              "      <th>scheduled_arrival</th>\n",
              "      <th>arrival_time</th>\n",
              "      <th>arrival_delay</th>\n",
              "      <th>diverted</th>\n",
              "      <th>cancelled</th>\n",
              "      <th>cancellation_reason</th>\n",
              "      <th>air_system_delay</th>\n",
              "      <th>security_delay</th>\n",
              "      <th>airline_delay</th>\n",
              "      <th>late_aircraft_delay</th>\n",
              "      <th>weather_delay</th>\n",
              "    </tr>\n",
              "  </thead>\n",
              "  <tbody>\n",
              "    <tr>\n",
              "      <th>999995</th>\n",
              "      <td>999995</td>\n",
              "      <td>2015</td>\n",
              "      <td>3</td>\n",
              "      <td>7</td>\n",
              "      <td>6</td>\n",
              "      <td>OO</td>\n",
              "      <td>6396</td>\n",
              "      <td>BOI</td>\n",
              "      <td>SFO</td>\n",
              "      <td>915</td>\n",
              "      <td>912.0</td>\n",
              "      <td>-3.0</td>\n",
              "      <td>118.0</td>\n",
              "      <td>105.0</td>\n",
              "      <td>522</td>\n",
              "      <td>1013</td>\n",
              "      <td>957.0</td>\n",
              "      <td>-16.0</td>\n",
              "      <td>0</td>\n",
              "      <td>0.0</td>\n",
              "      <td>NaN</td>\n",
              "      <td>NaN</td>\n",
              "      <td>NaN</td>\n",
              "      <td>NaN</td>\n",
              "      <td>NaN</td>\n",
              "      <td>NaN</td>\n",
              "    </tr>\n",
              "    <tr>\n",
              "      <th>999996</th>\n",
              "      <td>999996</td>\n",
              "      <td>2015</td>\n",
              "      <td>3</td>\n",
              "      <td>7</td>\n",
              "      <td>6</td>\n",
              "      <td>AA</td>\n",
              "      <td>334</td>\n",
              "      <td>DFW</td>\n",
              "      <td>MFE</td>\n",
              "      <td>916</td>\n",
              "      <td>919.0</td>\n",
              "      <td>3.0</td>\n",
              "      <td>94.0</td>\n",
              "      <td>83.0</td>\n",
              "      <td>469</td>\n",
              "      <td>1050</td>\n",
              "      <td>1042.0</td>\n",
              "      <td>-8.0</td>\n",
              "      <td>0</td>\n",
              "      <td>0.0</td>\n",
              "      <td>NaN</td>\n",
              "      <td>NaN</td>\n",
              "      <td>NaN</td>\n",
              "      <td>NaN</td>\n",
              "      <td>NaN</td>\n",
              "      <td>NaN</td>\n",
              "    </tr>\n",
              "    <tr>\n",
              "      <th>999997</th>\n",
              "      <td>999997</td>\n",
              "      <td>2015</td>\n",
              "      <td>3</td>\n",
              "      <td>7</td>\n",
              "      <td>6</td>\n",
              "      <td>MQ</td>\n",
              "      <td>3641</td>\n",
              "      <td>DSM</td>\n",
              "      <td>DFW</td>\n",
              "      <td>916</td>\n",
              "      <td>939.0</td>\n",
              "      <td>23.0</td>\n",
              "      <td>124.0</td>\n",
              "      <td>112.0</td>\n",
              "      <td>624</td>\n",
              "      <td>1120</td>\n",
              "      <td>1131.0</td>\n",
              "      <td>11.0</td>\n",
              "      <td>0</td>\n",
              "      <td>0.0</td>\n",
              "      <td>NaN</td>\n",
              "      <td>NaN</td>\n",
              "      <td>NaN</td>\n",
              "      <td>NaN</td>\n",
              "      <td>NaN</td>\n",
              "      <td>NaN</td>\n",
              "    </tr>\n",
              "    <tr>\n",
              "      <th>999998</th>\n",
              "      <td>999998</td>\n",
              "      <td>2015</td>\n",
              "      <td>3</td>\n",
              "      <td>7</td>\n",
              "      <td>6</td>\n",
              "      <td>OO</td>\n",
              "      <td>5244</td>\n",
              "      <td>LAX</td>\n",
              "      <td>ASE</td>\n",
              "      <td>916</td>\n",
              "      <td>915.0</td>\n",
              "      <td>-1.0</td>\n",
              "      <td>120.0</td>\n",
              "      <td>147.0</td>\n",
              "      <td>737</td>\n",
              "      <td>1216</td>\n",
              "      <td>1242.0</td>\n",
              "      <td>26.0</td>\n",
              "      <td>0</td>\n",
              "      <td>0.0</td>\n",
              "      <td>NaN</td>\n",
              "      <td>26.0</td>\n",
              "      <td>0.0</td>\n",
              "      <td>0.0</td>\n",
              "      <td>0.0</td>\n",
              "      <td>0.0</td>\n",
              "    </tr>\n",
              "    <tr>\n",
              "      <th>999999</th>\n",
              "      <td>999999</td>\n",
              "      <td>2015</td>\n",
              "      <td>3</td>\n",
              "      <td>7</td>\n",
              "      <td>6</td>\n",
              "      <td>DL</td>\n",
              "      <td>805</td>\n",
              "      <td>MSP</td>\n",
              "      <td>LAX</td>\n",
              "      <td>917</td>\n",
              "      <td>915.0</td>\n",
              "      <td>-2.0</td>\n",
              "      <td>251.0</td>\n",
              "      <td>217.0</td>\n",
              "      <td>1535</td>\n",
              "      <td>1128</td>\n",
              "      <td>1052.0</td>\n",
              "      <td>-36.0</td>\n",
              "      <td>0</td>\n",
              "      <td>0.0</td>\n",
              "      <td>NaN</td>\n",
              "      <td>NaN</td>\n",
              "      <td>NaN</td>\n",
              "      <td>NaN</td>\n",
              "      <td>NaN</td>\n",
              "      <td>NaN</td>\n",
              "    </tr>\n",
              "  </tbody>\n",
              "</table>\n",
              "</div>"
            ],
            "text/plain": [
              "        unnamed: 0  year  ...  late_aircraft_delay  weather_delay\n",
              "999995      999995  2015  ...                  NaN            NaN\n",
              "999996      999996  2015  ...                  NaN            NaN\n",
              "999997      999997  2015  ...                  NaN            NaN\n",
              "999998      999998  2015  ...                  0.0            0.0\n",
              "999999      999999  2015  ...                  NaN            NaN\n",
              "\n",
              "[5 rows x 26 columns]"
            ]
          },
          "metadata": {
            "tags": []
          },
          "execution_count": 25
        }
      ]
    },
    {
      "cell_type": "code",
      "metadata": {
        "id": "1H8vZ1Pq5Xb1",
        "colab": {
          "base_uri": "https://localhost:8080/",
          "height": 456
        },
        "outputId": "541870c1-500c-4e94-ed88-572ba0eff74b"
      },
      "source": [
        "#Check for duplicated rows\r\n",
        "df1.duplicated()\r\n",
        "# and drop if any\r\n",
        "# df1.drop_duplicates()\r\n",
        "#There were no duplicates in this dataset"
      ],
      "execution_count": null,
      "outputs": [
        {
          "output_type": "execute_result",
          "data": {
            "text/html": [
              "<div>\n",
              "<style scoped>\n",
              "    .dataframe tbody tr th:only-of-type {\n",
              "        vertical-align: middle;\n",
              "    }\n",
              "\n",
              "    .dataframe tbody tr th {\n",
              "        vertical-align: top;\n",
              "    }\n",
              "\n",
              "    .dataframe thead th {\n",
              "        text-align: right;\n",
              "    }\n",
              "</style>\n",
              "<table border=\"1\" class=\"dataframe\">\n",
              "  <thead>\n",
              "    <tr style=\"text-align: right;\">\n",
              "      <th></th>\n",
              "      <th>unnamed: 0</th>\n",
              "      <th>year</th>\n",
              "      <th>month</th>\n",
              "      <th>day</th>\n",
              "      <th>day_of_week</th>\n",
              "      <th>airline</th>\n",
              "      <th>flight_number</th>\n",
              "      <th>origin_airport</th>\n",
              "      <th>destination_airport</th>\n",
              "      <th>scheduled_departure</th>\n",
              "      <th>departure_time</th>\n",
              "      <th>departure_delay</th>\n",
              "      <th>scheduled_time</th>\n",
              "      <th>elapsed_time</th>\n",
              "      <th>distance</th>\n",
              "      <th>scheduled_arrival</th>\n",
              "      <th>arrival_time</th>\n",
              "      <th>arrival_delay</th>\n",
              "      <th>diverted</th>\n",
              "      <th>cancelled</th>\n",
              "    </tr>\n",
              "  </thead>\n",
              "  <tbody>\n",
              "    <tr>\n",
              "      <th>0</th>\n",
              "      <td>0</td>\n",
              "      <td>2015</td>\n",
              "      <td>1</td>\n",
              "      <td>1</td>\n",
              "      <td>4</td>\n",
              "      <td>AS</td>\n",
              "      <td>98</td>\n",
              "      <td>ANC</td>\n",
              "      <td>SEA</td>\n",
              "      <td>5</td>\n",
              "      <td>2354.0</td>\n",
              "      <td>-11.0</td>\n",
              "      <td>205.0</td>\n",
              "      <td>194.0</td>\n",
              "      <td>1448</td>\n",
              "      <td>430</td>\n",
              "      <td>408.0</td>\n",
              "      <td>-22.0</td>\n",
              "      <td>0</td>\n",
              "      <td>0.0</td>\n",
              "    </tr>\n",
              "    <tr>\n",
              "      <th>1</th>\n",
              "      <td>1</td>\n",
              "      <td>2015</td>\n",
              "      <td>1</td>\n",
              "      <td>1</td>\n",
              "      <td>4</td>\n",
              "      <td>AA</td>\n",
              "      <td>2336</td>\n",
              "      <td>LAX</td>\n",
              "      <td>PBI</td>\n",
              "      <td>10</td>\n",
              "      <td>2.0</td>\n",
              "      <td>-8.0</td>\n",
              "      <td>280.0</td>\n",
              "      <td>279.0</td>\n",
              "      <td>2330</td>\n",
              "      <td>750</td>\n",
              "      <td>741.0</td>\n",
              "      <td>-9.0</td>\n",
              "      <td>0</td>\n",
              "      <td>0.0</td>\n",
              "    </tr>\n",
              "    <tr>\n",
              "      <th>2</th>\n",
              "      <td>2</td>\n",
              "      <td>2015</td>\n",
              "      <td>1</td>\n",
              "      <td>1</td>\n",
              "      <td>4</td>\n",
              "      <td>US</td>\n",
              "      <td>840</td>\n",
              "      <td>SFO</td>\n",
              "      <td>CLT</td>\n",
              "      <td>20</td>\n",
              "      <td>18.0</td>\n",
              "      <td>-2.0</td>\n",
              "      <td>286.0</td>\n",
              "      <td>293.0</td>\n",
              "      <td>2296</td>\n",
              "      <td>806</td>\n",
              "      <td>811.0</td>\n",
              "      <td>5.0</td>\n",
              "      <td>0</td>\n",
              "      <td>0.0</td>\n",
              "    </tr>\n",
              "    <tr>\n",
              "      <th>3</th>\n",
              "      <td>3</td>\n",
              "      <td>2015</td>\n",
              "      <td>1</td>\n",
              "      <td>1</td>\n",
              "      <td>4</td>\n",
              "      <td>AA</td>\n",
              "      <td>258</td>\n",
              "      <td>LAX</td>\n",
              "      <td>MIA</td>\n",
              "      <td>20</td>\n",
              "      <td>15.0</td>\n",
              "      <td>-5.0</td>\n",
              "      <td>285.0</td>\n",
              "      <td>281.0</td>\n",
              "      <td>2342</td>\n",
              "      <td>805</td>\n",
              "      <td>756.0</td>\n",
              "      <td>-9.0</td>\n",
              "      <td>0</td>\n",
              "      <td>0.0</td>\n",
              "    </tr>\n",
              "    <tr>\n",
              "      <th>4</th>\n",
              "      <td>4</td>\n",
              "      <td>2015</td>\n",
              "      <td>1</td>\n",
              "      <td>1</td>\n",
              "      <td>4</td>\n",
              "      <td>AS</td>\n",
              "      <td>135</td>\n",
              "      <td>SEA</td>\n",
              "      <td>ANC</td>\n",
              "      <td>25</td>\n",
              "      <td>24.0</td>\n",
              "      <td>-1.0</td>\n",
              "      <td>235.0</td>\n",
              "      <td>215.0</td>\n",
              "      <td>1448</td>\n",
              "      <td>320</td>\n",
              "      <td>259.0</td>\n",
              "      <td>-21.0</td>\n",
              "      <td>0</td>\n",
              "      <td>0.0</td>\n",
              "    </tr>\n",
              "    <tr>\n",
              "      <th>...</th>\n",
              "      <td>...</td>\n",
              "      <td>...</td>\n",
              "      <td>...</td>\n",
              "      <td>...</td>\n",
              "      <td>...</td>\n",
              "      <td>...</td>\n",
              "      <td>...</td>\n",
              "      <td>...</td>\n",
              "      <td>...</td>\n",
              "      <td>...</td>\n",
              "      <td>...</td>\n",
              "      <td>...</td>\n",
              "      <td>...</td>\n",
              "      <td>...</td>\n",
              "      <td>...</td>\n",
              "      <td>...</td>\n",
              "      <td>...</td>\n",
              "      <td>...</td>\n",
              "      <td>...</td>\n",
              "      <td>...</td>\n",
              "    </tr>\n",
              "    <tr>\n",
              "      <th>999995</th>\n",
              "      <td>999995</td>\n",
              "      <td>2015</td>\n",
              "      <td>3</td>\n",
              "      <td>7</td>\n",
              "      <td>6</td>\n",
              "      <td>OO</td>\n",
              "      <td>6396</td>\n",
              "      <td>BOI</td>\n",
              "      <td>SFO</td>\n",
              "      <td>915</td>\n",
              "      <td>912.0</td>\n",
              "      <td>-3.0</td>\n",
              "      <td>118.0</td>\n",
              "      <td>105.0</td>\n",
              "      <td>522</td>\n",
              "      <td>1013</td>\n",
              "      <td>957.0</td>\n",
              "      <td>-16.0</td>\n",
              "      <td>0</td>\n",
              "      <td>0.0</td>\n",
              "    </tr>\n",
              "    <tr>\n",
              "      <th>999996</th>\n",
              "      <td>999996</td>\n",
              "      <td>2015</td>\n",
              "      <td>3</td>\n",
              "      <td>7</td>\n",
              "      <td>6</td>\n",
              "      <td>AA</td>\n",
              "      <td>334</td>\n",
              "      <td>DFW</td>\n",
              "      <td>MFE</td>\n",
              "      <td>916</td>\n",
              "      <td>919.0</td>\n",
              "      <td>3.0</td>\n",
              "      <td>94.0</td>\n",
              "      <td>83.0</td>\n",
              "      <td>469</td>\n",
              "      <td>1050</td>\n",
              "      <td>1042.0</td>\n",
              "      <td>-8.0</td>\n",
              "      <td>0</td>\n",
              "      <td>0.0</td>\n",
              "    </tr>\n",
              "    <tr>\n",
              "      <th>999997</th>\n",
              "      <td>999997</td>\n",
              "      <td>2015</td>\n",
              "      <td>3</td>\n",
              "      <td>7</td>\n",
              "      <td>6</td>\n",
              "      <td>MQ</td>\n",
              "      <td>3641</td>\n",
              "      <td>DSM</td>\n",
              "      <td>DFW</td>\n",
              "      <td>916</td>\n",
              "      <td>939.0</td>\n",
              "      <td>23.0</td>\n",
              "      <td>124.0</td>\n",
              "      <td>112.0</td>\n",
              "      <td>624</td>\n",
              "      <td>1120</td>\n",
              "      <td>1131.0</td>\n",
              "      <td>11.0</td>\n",
              "      <td>0</td>\n",
              "      <td>0.0</td>\n",
              "    </tr>\n",
              "    <tr>\n",
              "      <th>999998</th>\n",
              "      <td>999998</td>\n",
              "      <td>2015</td>\n",
              "      <td>3</td>\n",
              "      <td>7</td>\n",
              "      <td>6</td>\n",
              "      <td>OO</td>\n",
              "      <td>5244</td>\n",
              "      <td>LAX</td>\n",
              "      <td>ASE</td>\n",
              "      <td>916</td>\n",
              "      <td>915.0</td>\n",
              "      <td>-1.0</td>\n",
              "      <td>120.0</td>\n",
              "      <td>147.0</td>\n",
              "      <td>737</td>\n",
              "      <td>1216</td>\n",
              "      <td>1242.0</td>\n",
              "      <td>26.0</td>\n",
              "      <td>0</td>\n",
              "      <td>0.0</td>\n",
              "    </tr>\n",
              "    <tr>\n",
              "      <th>999999</th>\n",
              "      <td>999999</td>\n",
              "      <td>2015</td>\n",
              "      <td>3</td>\n",
              "      <td>7</td>\n",
              "      <td>6</td>\n",
              "      <td>DL</td>\n",
              "      <td>805</td>\n",
              "      <td>MSP</td>\n",
              "      <td>LAX</td>\n",
              "      <td>917</td>\n",
              "      <td>915.0</td>\n",
              "      <td>-2.0</td>\n",
              "      <td>251.0</td>\n",
              "      <td>217.0</td>\n",
              "      <td>1535</td>\n",
              "      <td>1128</td>\n",
              "      <td>1052.0</td>\n",
              "      <td>-36.0</td>\n",
              "      <td>0</td>\n",
              "      <td>0.0</td>\n",
              "    </tr>\n",
              "  </tbody>\n",
              "</table>\n",
              "<p>957394 rows × 20 columns</p>\n",
              "</div>"
            ],
            "text/plain": [
              "        unnamed: 0  year  month  ...  arrival_delay  diverted cancelled\n",
              "0                0  2015      1  ...          -22.0         0       0.0\n",
              "1                1  2015      1  ...           -9.0         0       0.0\n",
              "2                2  2015      1  ...            5.0         0       0.0\n",
              "3                3  2015      1  ...           -9.0         0       0.0\n",
              "4                4  2015      1  ...          -21.0         0       0.0\n",
              "...            ...   ...    ...  ...            ...       ...       ...\n",
              "999995      999995  2015      3  ...          -16.0         0       0.0\n",
              "999996      999996  2015      3  ...           -8.0         0       0.0\n",
              "999997      999997  2015      3  ...           11.0         0       0.0\n",
              "999998      999998  2015      3  ...           26.0         0       0.0\n",
              "999999      999999  2015      3  ...          -36.0         0       0.0\n",
              "\n",
              "[957394 rows x 20 columns]"
            ]
          },
          "metadata": {
            "tags": []
          },
          "execution_count": 29
        }
      ]
    },
    {
      "cell_type": "code",
      "metadata": {
        "id": "syW4VY8n5dFd",
        "colab": {
          "base_uri": "https://localhost:8080/"
        },
        "outputId": "76280392-6fec-4dac-f88d-8ec122d7f214"
      },
      "source": [
        "# check for unique values\r\n",
        "df1.nunique()"
      ],
      "execution_count": null,
      "outputs": [
        {
          "output_type": "execute_result",
          "data": {
            "text/plain": [
              "unnamed: 0             957394\n",
              "year                        1\n",
              "month                       3\n",
              "day                        31\n",
              "day_of_week                 7\n",
              "airline                    14\n",
              "flight_number            6474\n",
              "origin_airport            315\n",
              "destination_airport       315\n",
              "scheduled_departure      1220\n",
              "departure_time           1431\n",
              "departure_delay           845\n",
              "scheduled_time            455\n",
              "elapsed_time              681\n",
              "distance                 1263\n",
              "scheduled_arrival        1332\n",
              "arrival_time             1440\n",
              "arrival_delay             870\n",
              "diverted                    1\n",
              "cancelled                   1\n",
              "dtype: int64"
            ]
          },
          "metadata": {
            "tags": []
          },
          "execution_count": 30
        }
      ]
    },
    {
      "cell_type": "code",
      "metadata": {
        "id": "rwtQ0q-mByWA"
      },
      "source": [
        "#exporting the clean dataset\r\n",
        "df1.to_csv('Aviation_clean.csv')"
      ],
      "execution_count": null,
      "outputs": []
    },
    {
      "cell_type": "markdown",
      "metadata": {
        "id": "i7n05FIXheaG"
      },
      "source": [
        "**which airports were prone to delays**\n",
        "\n",
        "\n",
        "> *we count all airline where arrival_delay > 0*\n",
        "\n"
      ]
    },
    {
      "cell_type": "markdown",
      "metadata": {
        "id": "uPKxZPvdhvS4"
      },
      "source": [
        "**Arrivals**"
      ]
    },
    {
      "cell_type": "code",
      "metadata": {
        "colab": {
          "base_uri": "https://localhost:8080/"
        },
        "id": "rg3p0AmQ5C4s",
        "outputId": "a9b2a469-fe2d-4f50-ce84-596c8542aee0"
      },
      "source": [
        "#Interms of Time \r\n",
        "airports_delay=df1[df1['arrival_delay']> 0]\r\n",
        "\r\n",
        "airports_delay.groupby(airports_delay[\"destination_airport\"])[\"arrival_delay\"].sum().sort_values(ascending=False)\r\n"
      ],
      "execution_count": null,
      "outputs": [
        {
          "output_type": "execute_result",
          "data": {
            "text/plain": [
              "destination_airport\n",
              "ORD    831930.0\n",
              "DFW    589591.0\n",
              "ATL    567801.0\n",
              "DEN    432995.0\n",
              "SFO    372200.0\n",
              "         ...   \n",
              "CNY       226.0\n",
              "VEL        96.0\n",
              "ADK        75.0\n",
              "ITH        69.0\n",
              "PPG        56.0\n",
              "Name: arrival_delay, Length: 315, dtype: float64"
            ]
          },
          "metadata": {
            "tags": []
          },
          "execution_count": 11
        }
      ]
    },
    {
      "cell_type": "code",
      "metadata": {
        "colab": {
          "base_uri": "https://localhost:8080/"
        },
        "id": "tBOdDQLt-v7s",
        "outputId": "d1ac1302-bd34-4168-830e-b12b226ae5d7"
      },
      "source": [
        "#Interms of Incidences\r\n",
        "airports_delay=df1[df1['arrival_delay']> 0]\r\n",
        "\r\n",
        "airports_delay.groupby(airports_delay[\"destination_airport\"])[\"arrival_delay\"].count().sort_values(ascending=False)"
      ],
      "execution_count": null,
      "outputs": [
        {
          "output_type": "execute_result",
          "data": {
            "text/plain": [
              "destination_airport\n",
              "ORD    19622\n",
              "ATL    16257\n",
              "DFW    15756\n",
              "DEN    12406\n",
              "LAX    11540\n",
              "       ...  \n",
              "CNY       10\n",
              "UST        9\n",
              "PPG        7\n",
              "ADK        2\n",
              "ITH        2\n",
              "Name: arrival_delay, Length: 315, dtype: int64"
            ]
          },
          "metadata": {
            "tags": []
          },
          "execution_count": 12
        }
      ]
    },
    {
      "cell_type": "markdown",
      "metadata": {
        "id": "KGFAB7WdiNec"
      },
      "source": [
        "**Graphical Presentation**"
      ]
    },
    {
      "cell_type": "markdown",
      "metadata": {
        "id": "jhqvL4fLiPCG"
      },
      "source": [
        "**Quiz 1  Airport**\n",
        "\n",
        "*Arrivals*"
      ]
    },
    {
      "cell_type": "code",
      "metadata": {
        "id": "gVdw-HXFigMA"
      },
      "source": [
        ""
      ],
      "execution_count": null,
      "outputs": []
    },
    {
      "cell_type": "code",
      "metadata": {
        "colab": {
          "base_uri": "https://localhost:8080/",
          "height": 278
        },
        "id": "rAieU9gJ8qd5",
        "outputId": "0ccb18f5-c260-4815-dd5d-a6b9a37ec7be"
      },
      "source": [
        "import matplotlib.pyplot as plt\r\n",
        "\r\n",
        "#Interms of incidence Time\r\n",
        "fig, axs = plt.subplots(figsize=(12, 4))\r\n",
        "\r\n",
        "airports_delay=df1[df1['arrival_delay']> 0]\r\n",
        "airports_delay.groupby(airports_delay[\"destination_airport\"])[\"arrival_delay\"].sum().sort_values(ascending=False).head(20).plot(kind='bar', rot=0, ax=axs)\r\n",
        " \r\n",
        "plt.xlabel(\"AirPort\");  # custom x label using matplotlib\r\n",
        "\r\n",
        "plt.ylabel(\"Delay time\");"
      ],
      "execution_count": null,
      "outputs": [
        {
          "output_type": "display_data",
          "data": {
            "image/png": "[encoded data removed]",
            "text/plain": [
              "<Figure size 864x288 with 1 Axes>"
            ]
          },
          "metadata": {
            "tags": [],
            "needs_background": "light"
          }
        }
      ]
    },
    {
      "cell_type": "code",
      "metadata": {
        "colab": {
          "base_uri": "https://localhost:8080/",
          "height": 278
        },
        "id": "hpHpaKbICSMo",
        "outputId": "56aa6b8b-1aa9-4a5a-9737-5a96098dd7c0"
      },
      "source": [
        "#Interms of incidence count\r\n",
        "fig, axs = plt.subplots(figsize=(12, 4))\r\n",
        "\r\n",
        "airports_delay=df1[df1['arrival_delay']> 0]\r\n",
        "airports_delay.groupby(airports_delay[\"destination_airport\"])[\"arrival_delay\"].sum().sort_values(ascending=False).head(20).plot(kind='bar', rot=0, ax=axs)\r\n",
        " \r\n",
        "plt.xlabel(\"AirPort\");  # custom x label using matplotlib\r\n",
        "\r\n",
        "plt.ylabel(\"Delay Incidencies\");"
      ],
      "execution_count": null,
      "outputs": [
        {
          "output_type": "display_data",
          "data": {
            "image/png": "[encoded data removed]",
            "text/plain": [
              "<Figure size 864x288 with 1 Axes>"
            ]
          },
          "metadata": {
            "tags": [],
            "needs_background": "light"
          }
        }
      ]
    },
    {
      "cell_type": "markdown",
      "metadata": {
        "id": "o_DtlLC3isSl"
      },
      "source": [
        "**B). Departures**\n",
        "\n"
      ]
    },
    {
      "cell_type": "code",
      "metadata": {
        "colab": {
          "base_uri": "https://localhost:8080/",
          "height": 278
        },
        "id": "2c2Ef4aaBEHz",
        "outputId": "396993af-d42f-4e4d-f939-9b523f73cf03"
      },
      "source": [
        "#Depatures Interms of Time\r\n",
        "fig, axs = plt.subplots(figsize=(12, 4))\r\n",
        "\r\n",
        "airports_departure_delay=df1[df1['departure_delay']> 0]\r\n",
        "airports_departure_delay.groupby(airports_departure_delay[\"origin_airport\"])[\"departure_delay\"].sum().sort_values(ascending=False).head(20).plot(kind='bar', rot=0, ax=axs)\r\n",
        " \r\n",
        "plt.xlabel(\"AirPort\");  # custom x label using matplotlib\r\n",
        "\r\n",
        "plt.ylabel(\"Delay time\");"
      ],
      "execution_count": null,
      "outputs": [
        {
          "output_type": "display_data",
          "data": {
            "image/png": "[encoded data removed]",
            "text/plain": [
              "<Figure size 864x288 with 1 Axes>"
            ]
          },
          "metadata": {
            "tags": [],
            "needs_background": "light"
          }
        }
      ]
    },
    {
      "cell_type": "code",
      "metadata": {
        "colab": {
          "base_uri": "https://localhost:8080/",
          "height": 278
        },
        "id": "6MPIiKLbC-m7",
        "outputId": "aa7f994d-d49b-4e10-ea72-8024ba072254"
      },
      "source": [
        "#Depatures Interms of count\r\n",
        "fig, axs = plt.subplots(figsize=(12, 4))\r\n",
        "\r\n",
        "airports_departure_delay=df1[df1['departure_delay']> 0]\r\n",
        "airports_departure_delay.groupby(airports_departure_delay[\"origin_airport\"])[\"departure_delay\"].count().sort_values(ascending=False).head(20).plot(kind='bar', rot=0, ax=axs)\r\n",
        " \r\n",
        "plt.xlabel(\"AirPort\");  # custom x label using matplotlib\r\n",
        "\r\n",
        "plt.ylabel(\"Delay Incidences\");"
      ],
      "execution_count": null,
      "outputs": [
        {
          "output_type": "display_data",
          "data": {
            "image/png": "[encoded data removed]",
            "text/plain": [
              "<Figure size 864x288 with 1 Axes>"
            ]
          },
          "metadata": {
            "tags": [],
            "needs_background": "light"
          }
        }
      ]
    },
    {
      "cell_type": "markdown",
      "metadata": {
        "id": "8cjcs3sBjQSI"
      },
      "source": [
        "**Quiz 2 Specific Airline**\n",
        "\n",
        "*A). Departures*"
      ]
    },
    {
      "cell_type": "code",
      "metadata": {
        "colab": {
          "base_uri": "https://localhost:8080/",
          "height": 290
        },
        "id": "RbZU0Un8Dtsw",
        "outputId": "61da1415-3487-4261-c65f-16cbb325676f"
      },
      "source": [
        "#Depatures  for a specific Air_Line Interms of Time\r\n",
        "\r\n",
        "fig, axs = plt.subplots(figsize=(12, 4))\r\n",
        "\r\n",
        "airports_departure_delay=df1[df1['departure_delay']> 0]\r\n",
        "airports_departure_delay.groupby(airports_delay[\"airline\"])[\"departure_delay\"].sum().sort_values(ascending=False).head(20).plot(kind='bar', rot=0, ax=axs)\r\n",
        " \r\n",
        "plt.xlabel(\"Airline\");  # custom x label using matplotlib\r\n",
        "\r\n",
        "plt.ylabel(\"Delay time\");"
      ],
      "execution_count": null,
      "outputs": [
        {
          "output_type": "display_data",
          "data": {
            "image/png": "[encoded data removed]",
            "text/plain": [
              "<Figure size 864x288 with 1 Axes>"
            ]
          },
          "metadata": {
            "tags": [],
            "needs_background": "light"
          }
        }
      ]
    },
    {
      "cell_type": "code",
      "metadata": {
        "colab": {
          "base_uri": "https://localhost:8080/",
          "height": 278
        },
        "id": "JzDhDmUTIWHr",
        "outputId": "969f82b2-f0d1-4e22-f961-c1f8b3aa6b9f"
      },
      "source": [
        "#Depatures  for a specific Air_Line Interms of Incidences\r\n",
        "\r\n",
        "fig, axs = plt.subplots(figsize=(12, 4))\r\n",
        "\r\n",
        "airports_departure_delay=df1[df1['departure_delay']> 0]\r\n",
        "airports_departure_delay.groupby(airports_delay[\"airline\"])[\"departure_delay\"].count().sort_values(ascending=False).head(20).plot(kind='bar', rot=0, ax=axs)\r\n",
        " \r\n",
        "plt.xlabel(\"Airline\");  # custom x label using matplotlib\r\n",
        "\r\n",
        "plt.ylabel(\"Delay Incidencies\");"
      ],
      "execution_count": null,
      "outputs": [
        {
          "output_type": "display_data",
          "data": {
            "image/png": "[encoded data removed]",
            "text/plain": [
              "<Figure size 864x288 with 1 Axes>"
            ]
          },
          "metadata": {
            "tags": [],
            "needs_background": "light"
          }
        }
      ]
    },
    {
      "cell_type": "markdown",
      "metadata": {
        "id": "5xr_-MlGjuVI"
      },
      "source": [
        "**B). Arrivals**\n",
        "\n"
      ]
    },
    {
      "cell_type": "code",
      "metadata": {
        "colab": {
          "base_uri": "https://localhost:8080/",
          "height": 290
        },
        "id": "EiHlHJAMEaS0",
        "outputId": "2c8b6631-928d-4609-d0fa-eddd0565ff3f"
      },
      "source": [
        "#Arrivals  for a specific Air_Line Interms of Time\r\n",
        "\r\n",
        "fig, axs = plt.subplots(figsize=(12, 4))\r\n",
        "\r\n",
        "airports_delay=df1[df1['arrival_delay']> 0]\r\n",
        "airports_delay.groupby(airports_delay[\"airline\"])[\"arrival_delay\"].sum().sort_values(ascending=False).head(20).plot(kind='bar', rot=0, ax=axs)\r\n",
        " \r\n",
        "plt.xlabel(\"airline\");  # custom x label using matplotlib\r\n",
        "\r\n",
        "plt.ylabel(\"Arrival Delay time\");"
      ],
      "execution_count": null,
      "outputs": [
        {
          "output_type": "display_data",
          "data": {
            "image/png": "[encoded data removed]",
            "text/plain": [
              "<Figure size 864x288 with 1 Axes>"
            ]
          },
          "metadata": {
            "tags": [],
            "needs_background": "light"
          }
        }
      ]
    },
    {
      "cell_type": "code",
      "metadata": {
        "colab": {
          "base_uri": "https://localhost:8080/",
          "height": 278
        },
        "id": "6H4SnosfIpF_",
        "outputId": "b8257b0c-6657-4c20-8ee6-bc7da8dec6d3"
      },
      "source": [
        "#Arrivals  for a specific Air_Line Interms of Incidencies\r\n",
        "\r\n",
        "fig, axs = plt.subplots(figsize=(12, 4))\r\n",
        "\r\n",
        "airports_delay=df1[df1['arrival_delay']> 0]\r\n",
        "airports_delay.groupby(airports_delay[\"airline\"])[\"arrival_delay\"].count().sort_values(ascending=False).head(20).plot(kind='bar', rot=0, ax=axs)\r\n",
        " \r\n",
        "plt.xlabel(\"airline\");  # custom x label using matplotlib\r\n",
        "\r\n",
        "plt.ylabel(\"Arrival Delay Incidencies\");"
      ],
      "execution_count": null,
      "outputs": [
        {
          "output_type": "display_data",
          "data": {
            "image/png": "[encoded data removed]",
            "text/plain": [
              "<Figure size 864x288 with 1 Axes>"
            ]
          },
          "metadata": {
            "tags": [],
            "needs_background": "light"
          }
        }
      ]
    },
    {
      "cell_type": "markdown",
      "metadata": {
        "id": "MueRcIDLj9wq"
      },
      "source": [
        "**Quiz 3 Delays per Day of the week**\n",
        "\n",
        "*A). Arrival*"
      ]
    },
    {
      "cell_type": "code",
      "metadata": {
        "colab": {
          "base_uri": "https://localhost:8080/",
          "height": 278
        },
        "id": "ikpxFG4YJvb-",
        "outputId": "b2cfcb44-5112-4c09-a30e-fdf65a53df70"
      },
      "source": [
        "#Arrivals  for a specific day of the week Interms of Incidencies\r\n",
        "\r\n",
        "fig, axs = plt.subplots(figsize=(12, 4))\r\n",
        "\r\n",
        "airports_delay=df1[df1['arrival_delay']> 0]\r\n",
        "airports_delay.groupby(airports_delay[\"day_of_week\"])[\"arrival_delay\"].count().sort_values(ascending=True).head(20).plot(kind='bar', rot=0, ax=axs)\r\n",
        " \r\n",
        "plt.xlabel(\"Day of the Week\");  # custom x label using matplotlib\r\n",
        "\r\n",
        "plt.ylabel(\"Arrival Delay Incidencies\");"
      ],
      "execution_count": null,
      "outputs": [
        {
          "output_type": "display_data",
          "data": {
            "image/png": "[encoded data removed]",
            "text/plain": [
              "<Figure size 864x288 with 1 Axes>"
            ]
          },
          "metadata": {
            "tags": [],
            "needs_background": "light"
          }
        }
      ]
    },
    {
      "cell_type": "code",
      "metadata": {
        "colab": {
          "base_uri": "https://localhost:8080/",
          "height": 290
        },
        "id": "uIAXBBeOLLlD",
        "outputId": "0565bcef-9be2-42d9-e93d-cff75faac6b6"
      },
      "source": [
        "#Arrivals  for a specific day of the week Interms of Time\r\n",
        "\r\n",
        "fig, axs = plt.subplots(figsize=(12, 4))\r\n",
        "\r\n",
        "airports_delay=df1[df1['arrival_delay']> 0]\r\n",
        "airports_delay.groupby(airports_delay[\"day_of_week\"])[\"arrival_delay\"].sum().sort_values(ascending=True).head(20).plot(kind='bar', rot=0, ax=axs)\r\n",
        " \r\n",
        "plt.xlabel(\"Day of the Week\");  # custom x label using matplotlib\r\n",
        "\r\n",
        "plt.ylabel(\"Arrival Delay Time\");"
      ],
      "execution_count": null,
      "outputs": [
        {
          "output_type": "display_data",
          "data": {
            "image/png": "[encoded data removed]",
            "text/plain": [
              "<Figure size 864x288 with 1 Axes>"
            ]
          },
          "metadata": {
            "tags": [],
            "needs_background": "light"
          }
        }
      ]
    },
    {
      "cell_type": "markdown",
      "metadata": {
        "id": "ieDT0yYykt3C"
      },
      "source": [
        "*B).Departures*"
      ]
    },
    {
      "cell_type": "code",
      "metadata": {
        "colab": {
          "base_uri": "https://localhost:8080/",
          "height": 278
        },
        "id": "mMaQ8tXxLFcR",
        "outputId": "bb388856-24cf-404c-b922-ca9bb9ed6c1c"
      },
      "source": [
        "#Depatures  for a specific day of the week in terms of Incidences\r\n",
        "\r\n",
        "fig, axs = plt.subplots(figsize=(12, 4))\r\n",
        "\r\n",
        "airports_departure_delay=df1[df1['departure_delay']> 0]\r\n",
        "airports_departure_delay.groupby(airports_departure_delay[\"day_of_week\"])[\"departure_delay\"].count().sort_values(ascending=True).head(20).plot(kind='bar', rot=0, ax=axs)\r\n",
        " \r\n",
        "plt.xlabel(\"Day of the week\");  # custom x label using matplotlib\r\n",
        "\r\n",
        "plt.ylabel(\"Depature Delay Incidencies\");"
      ],
      "execution_count": null,
      "outputs": [
        {
          "output_type": "display_data",
          "data": {
            "image/png": "[encoded data removed]",
            "text/plain": [
              "<Figure size 864x288 with 1 Axes>"
            ]
          },
          "metadata": {
            "tags": [],
            "needs_background": "light"
          }
        }
      ]
    },
    {
      "cell_type": "code",
      "metadata": {
        "colab": {
          "base_uri": "https://localhost:8080/",
          "height": 290
        },
        "id": "XNKkctlEMR_b",
        "outputId": "2c028afd-a37d-453a-b1cb-2088b443d027"
      },
      "source": [
        "#Depatures  for a specific day of the week in terms of Time\r\n",
        "\r\n",
        "fig, axs = plt.subplots(figsize=(12, 4))\r\n",
        "\r\n",
        "airports_departure_delay=df1[df1['departure_delay']> 0]\r\n",
        "airports_departure_delay.groupby(airports_departure_delay[\"day_of_week\"])[\"departure_delay\"].sum().sort_values(ascending=True).head(20).plot(kind='bar', rot=0, ax=axs)\r\n",
        " \r\n",
        "plt.xlabel(\"Day of the week\");  # custom x label using matplotlib\r\n",
        "\r\n",
        "plt.ylabel(\"Depature Delay time\");"
      ],
      "execution_count": null,
      "outputs": [
        {
          "output_type": "display_data",
          "data": {
            "image/png": "[encoded data removed]",
            "text/plain": [
              "<Figure size 864x288 with 1 Axes>"
            ]
          },
          "metadata": {
            "tags": [],
            "needs_background": "light"
          }
        }
      ]
    },
    {
      "cell_type": "markdown",
      "metadata": {
        "id": "JQwzuTUkk80X"
      },
      "source": [
        "**Quiz 4 Relative Delay Time(Mode for delay time)**\n",
        "\n",
        "*Departures*"
      ]
    },
    {
      "cell_type": "code",
      "metadata": {
        "colab": {
          "base_uri": "https://localhost:8080/"
        },
        "id": "tUPeBFZzNNAt",
        "outputId": "2971278a-29ac-493e-9d9f-3f2b3fad6b40"
      },
      "source": [
        "#airports_departure_delay=df1[df1['departure_delay']> 0]\r\n",
        "airports_departure_delay.groupby(airports_departure_delay[\"origin_airport\"])[\"departure_delay\"].mean().sort_values(ascending=True)\r\n"
      ],
      "execution_count": null,
      "outputs": [
        {
          "output_type": "execute_result",
          "data": {
            "text/plain": [
              "origin_airport\n",
              "BTM      8.500000\n",
              "TWF      9.875000\n",
              "PPG     10.888889\n",
              "EKO     17.000000\n",
              "GUM     20.117647\n",
              "          ...    \n",
              "PLN    114.952381\n",
              "IMT    118.277778\n",
              "INL    122.066667\n",
              "VEL    164.375000\n",
              "PIH    168.363636\n",
              "Name: departure_delay, Length: 315, dtype: float64"
            ]
          },
          "metadata": {
            "tags": []
          },
          "execution_count": 25
        }
      ]
    },
    {
      "cell_type": "markdown",
      "metadata": {
        "id": "FFloUoRJlNGg"
      },
      "source": [
        "*Arrivals*"
      ]
    },
    {
      "cell_type": "code",
      "metadata": {
        "colab": {
          "base_uri": "https://localhost:8080/",
          "height": 466
        },
        "id": "9CvS-OvNSasA",
        "outputId": "bdd63c8c-c58a-41d2-d1eb-374f2771fdc2"
      },
      "source": [
        "#Cumulatives\r\n",
        "airports_arrival_delay=df1[df1['arrival_delay']> 0]\r\n",
        "\r\n",
        "Cumulatives_delays=airports_departure_delay.groupby(airports_departure_delay[\"origin_airport\"]).sum(numeric_only=True)\r\n",
        "Cumulatives_delays\r\n",
        "\r\n"
      ],
      "execution_count": null,
      "outputs": [
        {
          "output_type": "execute_result",
          "data": {
            "text/html": [
              "<div>\n",
              "<style scoped>\n",
              "    .dataframe tbody tr th:only-of-type {\n",
              "        vertical-align: middle;\n",
              "    }\n",
              "\n",
              "    .dataframe tbody tr th {\n",
              "        vertical-align: top;\n",
              "    }\n",
              "\n",
              "    .dataframe thead th {\n",
              "        text-align: right;\n",
              "    }\n",
              "</style>\n",
              "<table border=\"1\" class=\"dataframe\">\n",
              "  <thead>\n",
              "    <tr style=\"text-align: right;\">\n",
              "      <th></th>\n",
              "      <th>index</th>\n",
              "      <th>year</th>\n",
              "      <th>month</th>\n",
              "      <th>day</th>\n",
              "      <th>day_of_week</th>\n",
              "      <th>flight_number</th>\n",
              "      <th>scheduled_departure</th>\n",
              "      <th>departure_time</th>\n",
              "      <th>departure_delay</th>\n",
              "      <th>taxi_out</th>\n",
              "      <th>wheels_off</th>\n",
              "      <th>scheduled_time</th>\n",
              "      <th>elapsed_time</th>\n",
              "      <th>air_time</th>\n",
              "      <th>distance</th>\n",
              "      <th>wheels_on</th>\n",
              "      <th>taxi_in</th>\n",
              "      <th>scheduled_arrival</th>\n",
              "      <th>arrival_time</th>\n",
              "      <th>arrival_delay</th>\n",
              "      <th>diverted</th>\n",
              "      <th>cancelled</th>\n",
              "      <th>air_system_delay</th>\n",
              "      <th>security_delay</th>\n",
              "      <th>airline_delay</th>\n",
              "      <th>late_aircraft_delay</th>\n",
              "      <th>weather_delay</th>\n",
              "    </tr>\n",
              "    <tr>\n",
              "      <th>origin_airport</th>\n",
              "      <th></th>\n",
              "      <th></th>\n",
              "      <th></th>\n",
              "      <th></th>\n",
              "      <th></th>\n",
              "      <th></th>\n",
              "      <th></th>\n",
              "      <th></th>\n",
              "      <th></th>\n",
              "      <th></th>\n",
              "      <th></th>\n",
              "      <th></th>\n",
              "      <th></th>\n",
              "      <th></th>\n",
              "      <th></th>\n",
              "      <th></th>\n",
              "      <th></th>\n",
              "      <th></th>\n",
              "      <th></th>\n",
              "      <th></th>\n",
              "      <th></th>\n",
              "      <th></th>\n",
              "      <th></th>\n",
              "      <th></th>\n",
              "      <th></th>\n",
              "      <th></th>\n",
              "      <th></th>\n",
              "    </tr>\n",
              "  </thead>\n",
              "  <tbody>\n",
              "    <tr>\n",
              "      <th>ABE</th>\n",
              "      <td>41620250</td>\n",
              "      <td>199485</td>\n",
              "      <td>142</td>\n",
              "      <td>1456</td>\n",
              "      <td>377</td>\n",
              "      <td>473756</td>\n",
              "      <td>125251.0</td>\n",
              "      <td>130905.0</td>\n",
              "      <td>3614.0</td>\n",
              "      <td>1944.0</td>\n",
              "      <td>134049.0</td>\n",
              "      <td>12748.0</td>\n",
              "      <td>12469.0</td>\n",
              "      <td>9730.0</td>\n",
              "      <td>57067.0</td>\n",
              "      <td>149583.0</td>\n",
              "      <td>811.0</td>\n",
              "      <td>145139.0</td>\n",
              "      <td>150754.0</td>\n",
              "      <td>3472.0</td>\n",
              "      <td>1.0</td>\n",
              "      <td>0.0</td>\n",
              "      <td>625.0</td>\n",
              "      <td>0.0</td>\n",
              "      <td>1374.0</td>\n",
              "      <td>1402.0</td>\n",
              "      <td>77.0</td>\n",
              "    </tr>\n",
              "    <tr>\n",
              "      <th>ABI</th>\n",
              "      <td>41685974</td>\n",
              "      <td>221650</td>\n",
              "      <td>155</td>\n",
              "      <td>1405</td>\n",
              "      <td>463</td>\n",
              "      <td>364591</td>\n",
              "      <td>134499.0</td>\n",
              "      <td>142148.0</td>\n",
              "      <td>4089.0</td>\n",
              "      <td>1145.0</td>\n",
              "      <td>144293.0</td>\n",
              "      <td>5750.0</td>\n",
              "      <td>6139.0</td>\n",
              "      <td>3651.0</td>\n",
              "      <td>17380.0</td>\n",
              "      <td>150064.0</td>\n",
              "      <td>1343.0</td>\n",
              "      <td>144489.0</td>\n",
              "      <td>152127.0</td>\n",
              "      <td>4478.0</td>\n",
              "      <td>0.0</td>\n",
              "      <td>0.0</td>\n",
              "      <td>932.0</td>\n",
              "      <td>37.0</td>\n",
              "      <td>1744.0</td>\n",
              "      <td>1376.0</td>\n",
              "      <td>197.0</td>\n",
              "    </tr>\n",
              "    <tr>\n",
              "      <th>ABQ</th>\n",
              "      <td>379542742</td>\n",
              "      <td>2002910</td>\n",
              "      <td>1406</td>\n",
              "      <td>12621</td>\n",
              "      <td>3882</td>\n",
              "      <td>1947457</td>\n",
              "      <td>1402896.0</td>\n",
              "      <td>1428410.0</td>\n",
              "      <td>32754.0</td>\n",
              "      <td>11208.0</td>\n",
              "      <td>1447738.0</td>\n",
              "      <td>116651.0</td>\n",
              "      <td>112499.0</td>\n",
              "      <td>94065.0</td>\n",
              "      <td>686896.0</td>\n",
              "      <td>1589821.0</td>\n",
              "      <td>7237.0</td>\n",
              "      <td>1584807.0</td>\n",
              "      <td>1596658.0</td>\n",
              "      <td>28926.0</td>\n",
              "      <td>2.0</td>\n",
              "      <td>0.0</td>\n",
              "      <td>3960.0</td>\n",
              "      <td>13.0</td>\n",
              "      <td>9683.0</td>\n",
              "      <td>13460.0</td>\n",
              "      <td>761.0</td>\n",
              "    </tr>\n",
              "    <tr>\n",
              "      <th>ABR</th>\n",
              "      <td>9223670</td>\n",
              "      <td>48360</td>\n",
              "      <td>34</td>\n",
              "      <td>309</td>\n",
              "      <td>110</td>\n",
              "      <td>176726</td>\n",
              "      <td>29438.0</td>\n",
              "      <td>33684.0</td>\n",
              "      <td>2606.0</td>\n",
              "      <td>429.0</td>\n",
              "      <td>34473.0</td>\n",
              "      <td>1664.0</td>\n",
              "      <td>1707.0</td>\n",
              "      <td>1080.0</td>\n",
              "      <td>6168.0</td>\n",
              "      <td>36233.0</td>\n",
              "      <td>198.0</td>\n",
              "      <td>32062.0</td>\n",
              "      <td>36511.0</td>\n",
              "      <td>2649.0</td>\n",
              "      <td>0.0</td>\n",
              "      <td>0.0</td>\n",
              "      <td>122.0</td>\n",
              "      <td>0.0</td>\n",
              "      <td>1516.0</td>\n",
              "      <td>942.0</td>\n",
              "      <td>11.0</td>\n",
              "    </tr>\n",
              "    <tr>\n",
              "      <th>ABY</th>\n",
              "      <td>13697861</td>\n",
              "      <td>58435</td>\n",
              "      <td>45</td>\n",
              "      <td>420</td>\n",
              "      <td>86</td>\n",
              "      <td>154720</td>\n",
              "      <td>38137.0</td>\n",
              "      <td>40625.0</td>\n",
              "      <td>1528.0</td>\n",
              "      <td>460.0</td>\n",
              "      <td>41485.0</td>\n",
              "      <td>1687.0</td>\n",
              "      <td>1762.0</td>\n",
              "      <td>1054.0</td>\n",
              "      <td>4205.0</td>\n",
              "      <td>43299.0</td>\n",
              "      <td>248.0</td>\n",
              "      <td>40944.0</td>\n",
              "      <td>43547.0</td>\n",
              "      <td>1603.0</td>\n",
              "      <td>0.0</td>\n",
              "      <td>0.0</td>\n",
              "      <td>151.0</td>\n",
              "      <td>0.0</td>\n",
              "      <td>736.0</td>\n",
              "      <td>717.0</td>\n",
              "      <td>0.0</td>\n",
              "    </tr>\n",
              "    <tr>\n",
              "      <th>...</th>\n",
              "      <td>...</td>\n",
              "      <td>...</td>\n",
              "      <td>...</td>\n",
              "      <td>...</td>\n",
              "      <td>...</td>\n",
              "      <td>...</td>\n",
              "      <td>...</td>\n",
              "      <td>...</td>\n",
              "      <td>...</td>\n",
              "      <td>...</td>\n",
              "      <td>...</td>\n",
              "      <td>...</td>\n",
              "      <td>...</td>\n",
              "      <td>...</td>\n",
              "      <td>...</td>\n",
              "      <td>...</td>\n",
              "      <td>...</td>\n",
              "      <td>...</td>\n",
              "      <td>...</td>\n",
              "      <td>...</td>\n",
              "      <td>...</td>\n",
              "      <td>...</td>\n",
              "      <td>...</td>\n",
              "      <td>...</td>\n",
              "      <td>...</td>\n",
              "      <td>...</td>\n",
              "      <td>...</td>\n",
              "    </tr>\n",
              "    <tr>\n",
              "      <th>VPS</th>\n",
              "      <td>77783774</td>\n",
              "      <td>370760</td>\n",
              "      <td>272</td>\n",
              "      <td>2486</td>\n",
              "      <td>726</td>\n",
              "      <td>618441</td>\n",
              "      <td>231969.0</td>\n",
              "      <td>245190.0</td>\n",
              "      <td>8421.0</td>\n",
              "      <td>2730.0</td>\n",
              "      <td>249200.0</td>\n",
              "      <td>21192.0</td>\n",
              "      <td>21244.0</td>\n",
              "      <td>16165.0</td>\n",
              "      <td>91494.0</td>\n",
              "      <td>280305.0</td>\n",
              "      <td>2349.0</td>\n",
              "      <td>271981.0</td>\n",
              "      <td>283814.0</td>\n",
              "      <td>8473.0</td>\n",
              "      <td>0.0</td>\n",
              "      <td>0.0</td>\n",
              "      <td>1098.0</td>\n",
              "      <td>0.0</td>\n",
              "      <td>3097.0</td>\n",
              "      <td>3581.0</td>\n",
              "      <td>522.0</td>\n",
              "    </tr>\n",
              "    <tr>\n",
              "      <th>WRG</th>\n",
              "      <td>9675621</td>\n",
              "      <td>52390</td>\n",
              "      <td>36</td>\n",
              "      <td>338</td>\n",
              "      <td>110</td>\n",
              "      <td>1675</td>\n",
              "      <td>36550.0</td>\n",
              "      <td>38226.0</td>\n",
              "      <td>1116.0</td>\n",
              "      <td>235.0</td>\n",
              "      <td>38581.0</td>\n",
              "      <td>739.0</td>\n",
              "      <td>796.0</td>\n",
              "      <td>463.0</td>\n",
              "      <td>1571.0</td>\n",
              "      <td>36615.0</td>\n",
              "      <td>107.0</td>\n",
              "      <td>37889.0</td>\n",
              "      <td>36802.0</td>\n",
              "      <td>1178.0</td>\n",
              "      <td>2.0</td>\n",
              "      <td>0.0</td>\n",
              "      <td>132.0</td>\n",
              "      <td>0.0</td>\n",
              "      <td>28.0</td>\n",
              "      <td>964.0</td>\n",
              "      <td>26.0</td>\n",
              "    </tr>\n",
              "    <tr>\n",
              "      <th>XNA</th>\n",
              "      <td>213053437</td>\n",
              "      <td>977275</td>\n",
              "      <td>730</td>\n",
              "      <td>6689</td>\n",
              "      <td>1669</td>\n",
              "      <td>1895428</td>\n",
              "      <td>595948.0</td>\n",
              "      <td>633305.0</td>\n",
              "      <td>22437.0</td>\n",
              "      <td>7139.0</td>\n",
              "      <td>644724.0</td>\n",
              "      <td>51336.0</td>\n",
              "      <td>52828.0</td>\n",
              "      <td>38520.0</td>\n",
              "      <td>261275.0</td>\n",
              "      <td>721827.0</td>\n",
              "      <td>7212.0</td>\n",
              "      <td>693064.0</td>\n",
              "      <td>729119.0</td>\n",
              "      <td>24055.0</td>\n",
              "      <td>1.0</td>\n",
              "      <td>0.0</td>\n",
              "      <td>4747.0</td>\n",
              "      <td>0.0</td>\n",
              "      <td>8545.0</td>\n",
              "      <td>8854.0</td>\n",
              "      <td>1489.0</td>\n",
              "    </tr>\n",
              "    <tr>\n",
              "      <th>YAK</th>\n",
              "      <td>5530948</td>\n",
              "      <td>30225</td>\n",
              "      <td>21</td>\n",
              "      <td>183</td>\n",
              "      <td>57</td>\n",
              "      <td>960</td>\n",
              "      <td>23396.0</td>\n",
              "      <td>24293.0</td>\n",
              "      <td>497.0</td>\n",
              "      <td>125.0</td>\n",
              "      <td>24498.0</td>\n",
              "      <td>754.0</td>\n",
              "      <td>682.0</td>\n",
              "      <td>521.0</td>\n",
              "      <td>3069.0</td>\n",
              "      <td>23533.0</td>\n",
              "      <td>48.0</td>\n",
              "      <td>24750.0</td>\n",
              "      <td>23621.0</td>\n",
              "      <td>476.0</td>\n",
              "      <td>1.0</td>\n",
              "      <td>0.0</td>\n",
              "      <td>30.0</td>\n",
              "      <td>0.0</td>\n",
              "      <td>0.0</td>\n",
              "      <td>419.0</td>\n",
              "      <td>33.0</td>\n",
              "    </tr>\n",
              "    <tr>\n",
              "      <th>YUM</th>\n",
              "      <td>27349862</td>\n",
              "      <td>143065</td>\n",
              "      <td>99</td>\n",
              "      <td>962</td>\n",
              "      <td>300</td>\n",
              "      <td>235541</td>\n",
              "      <td>97465.0</td>\n",
              "      <td>102650.0</td>\n",
              "      <td>3305.0</td>\n",
              "      <td>976.0</td>\n",
              "      <td>101866.0</td>\n",
              "      <td>3869.0</td>\n",
              "      <td>3881.0</td>\n",
              "      <td>2315.0</td>\n",
              "      <td>11360.0</td>\n",
              "      <td>105501.0</td>\n",
              "      <td>590.0</td>\n",
              "      <td>103054.0</td>\n",
              "      <td>106651.0</td>\n",
              "      <td>3317.0</td>\n",
              "      <td>0.0</td>\n",
              "      <td>0.0</td>\n",
              "      <td>490.0</td>\n",
              "      <td>0.0</td>\n",
              "      <td>842.0</td>\n",
              "      <td>1524.0</td>\n",
              "      <td>410.0</td>\n",
              "    </tr>\n",
              "  </tbody>\n",
              "</table>\n",
              "<p>315 rows × 27 columns</p>\n",
              "</div>"
            ],
            "text/plain": [
              "                    index     year  ...  late_aircraft_delay  weather_delay\n",
              "origin_airport                      ...                                    \n",
              "ABE              41620250   199485  ...               1402.0           77.0\n",
              "ABI              41685974   221650  ...               1376.0          197.0\n",
              "ABQ             379542742  2002910  ...              13460.0          761.0\n",
              "ABR               9223670    48360  ...                942.0           11.0\n",
              "ABY              13697861    58435  ...                717.0            0.0\n",
              "...                   ...      ...  ...                  ...            ...\n",
              "VPS              77783774   370760  ...               3581.0          522.0\n",
              "WRG               9675621    52390  ...                964.0           26.0\n",
              "XNA             213053437   977275  ...               8854.0         1489.0\n",
              "YAK               5530948    30225  ...                419.0           33.0\n",
              "YUM              27349862   143065  ...               1524.0          410.0\n",
              "\n",
              "[315 rows x 27 columns]"
            ]
          },
          "metadata": {
            "tags": []
          },
          "execution_count": 26
        }
      ]
    },
    {
      "cell_type": "code",
      "metadata": {
        "colab": {
          "base_uri": "https://localhost:8080/",
          "height": 296
        },
        "id": "FLZVgNennZ2Y",
        "outputId": "eacf3283-d9cc-4191-aafe-d3535c7d55ae"
      },
      "source": [
        "# Cumulative delay on Departure delay in terms of time\n",
        "\n",
        "fig, axs = plt.subplots(figsize=(12, 4))\n",
        "\n",
        "Cumulatives_delays = airports_arrival_delay=df1[df1['arrival_delay']> 0]\n",
        "Cumulatives_delays.groupby(airports_departure_delay[\"origin_airport\"])[\"arrival_delay\"].sum(numeric_only=True).sort_values(ascending=False).head(20).plot(kind='bar',rot = 0,ax=axs)\n",
        "\n",
        " \n",
        "plt.xlabel(\"Airport\")  # custom x label using matplotlib\n",
        "\n",
        "plt.ylabel(\"Depature Delay time\")"
      ],
      "execution_count": null,
      "outputs": [
        {
          "output_type": "execute_result",
          "data": {
            "text/plain": [
              "Text(0, 0.5, 'Depature Delay time')"
            ]
          },
          "metadata": {
            "tags": []
          },
          "execution_count": 27
        },
        {
          "output_type": "display_data",
          "data": {
            "image/png": "[encoded data removed]",
            "text/plain": [
              "<Figure size 864x288 with 1 Axes>"
            ]
          },
          "metadata": {
            "tags": [],
            "needs_background": "light"
          }
        }
      ]
    },
    {
      "cell_type": "code",
      "metadata": {
        "colab": {
          "base_uri": "https://localhost:8080/",
          "height": 296
        },
        "id": "IPeQntL9q150",
        "outputId": "53e1b425-42f3-41d7-84cf-7b55b6365f6e"
      },
      "source": [
        "# Cumulative delay on Arrival delay in terms of Incidences\n",
        "\n",
        "fig, axs = plt.subplots(figsize=(12, 4))\n",
        "\n",
        "Cumulatives_delays = airports_arrival_delay=df1[df1['arrival_delay']> 0]\n",
        "Cumulatives_delays.groupby(airports_departure_delay[\"origin_airport\"])[\"arrival_delay\"].count().sort_values(ascending=False).head(20).plot(kind='bar',rot = 0,ax=axs)\n",
        "\n",
        " \n",
        "plt.xlabel(\"Airport\")  # custom x label using matplotlib\n",
        "\n",
        "plt.ylabel(\"Arrival Delay Incidencies\")"
      ],
      "execution_count": null,
      "outputs": [
        {
          "output_type": "execute_result",
          "data": {
            "text/plain": [
              "Text(0, 0.5, 'Arrival Delay Incidencies')"
            ]
          },
          "metadata": {
            "tags": []
          },
          "execution_count": 28
        },
        {
          "output_type": "display_data",
          "data": {
            "image/png": "[encoded data removed]",
            "text/plain": [
              "<Figure size 864x288 with 1 Axes>"
            ]
          },
          "metadata": {
            "tags": [],
            "needs_background": "light"
          }
        }
      ]
    },
    {
      "cell_type": "markdown",
      "metadata": {
        "id": "z8Hf8QkAlcHW"
      },
      "source": [
        "**Departure**"
      ]
    },
    {
      "cell_type": "code",
      "metadata": {
        "colab": {
          "base_uri": "https://localhost:8080/",
          "height": 253
        },
        "id": "KZcQkpUQrM96",
        "outputId": "542177fa-cea3-4245-d691-d2b8ff701e4d"
      },
      "source": [
        "airports_departure_delay = df1[df1['departure_delay']> 0]\n",
        "\n",
        "Cumulatives_delays=airports_departure_delay.groupby(airports_departure_delay[\"origin_airport\"]).sum(numeric_only=True).head(5)\n",
        "Cumulatives_delays"
      ],
      "execution_count": null,
      "outputs": [
        {
          "output_type": "execute_result",
          "data": {
            "text/html": [
              "<div>\n",
              "<style scoped>\n",
              "    .dataframe tbody tr th:only-of-type {\n",
              "        vertical-align: middle;\n",
              "    }\n",
              "\n",
              "    .dataframe tbody tr th {\n",
              "        vertical-align: top;\n",
              "    }\n",
              "\n",
              "    .dataframe thead th {\n",
              "        text-align: right;\n",
              "    }\n",
              "</style>\n",
              "<table border=\"1\" class=\"dataframe\">\n",
              "  <thead>\n",
              "    <tr style=\"text-align: right;\">\n",
              "      <th></th>\n",
              "      <th>index</th>\n",
              "      <th>year</th>\n",
              "      <th>month</th>\n",
              "      <th>day</th>\n",
              "      <th>day_of_week</th>\n",
              "      <th>flight_number</th>\n",
              "      <th>scheduled_departure</th>\n",
              "      <th>departure_time</th>\n",
              "      <th>departure_delay</th>\n",
              "      <th>taxi_out</th>\n",
              "      <th>wheels_off</th>\n",
              "      <th>scheduled_time</th>\n",
              "      <th>elapsed_time</th>\n",
              "      <th>air_time</th>\n",
              "      <th>distance</th>\n",
              "      <th>wheels_on</th>\n",
              "      <th>taxi_in</th>\n",
              "      <th>scheduled_arrival</th>\n",
              "      <th>arrival_time</th>\n",
              "      <th>arrival_delay</th>\n",
              "      <th>diverted</th>\n",
              "      <th>cancelled</th>\n",
              "      <th>air_system_delay</th>\n",
              "      <th>security_delay</th>\n",
              "      <th>airline_delay</th>\n",
              "      <th>late_aircraft_delay</th>\n",
              "      <th>weather_delay</th>\n",
              "    </tr>\n",
              "    <tr>\n",
              "      <th>origin_airport</th>\n",
              "      <th></th>\n",
              "      <th></th>\n",
              "      <th></th>\n",
              "      <th></th>\n",
              "      <th></th>\n",
              "      <th></th>\n",
              "      <th></th>\n",
              "      <th></th>\n",
              "      <th></th>\n",
              "      <th></th>\n",
              "      <th></th>\n",
              "      <th></th>\n",
              "      <th></th>\n",
              "      <th></th>\n",
              "      <th></th>\n",
              "      <th></th>\n",
              "      <th></th>\n",
              "      <th></th>\n",
              "      <th></th>\n",
              "      <th></th>\n",
              "      <th></th>\n",
              "      <th></th>\n",
              "      <th></th>\n",
              "      <th></th>\n",
              "      <th></th>\n",
              "      <th></th>\n",
              "      <th></th>\n",
              "    </tr>\n",
              "  </thead>\n",
              "  <tbody>\n",
              "    <tr>\n",
              "      <th>ABE</th>\n",
              "      <td>41620250</td>\n",
              "      <td>199485</td>\n",
              "      <td>142</td>\n",
              "      <td>1456</td>\n",
              "      <td>377</td>\n",
              "      <td>473756</td>\n",
              "      <td>125251.0</td>\n",
              "      <td>130905.0</td>\n",
              "      <td>3614.0</td>\n",
              "      <td>1944.0</td>\n",
              "      <td>134049.0</td>\n",
              "      <td>12748.0</td>\n",
              "      <td>12469.0</td>\n",
              "      <td>9730.0</td>\n",
              "      <td>57067.0</td>\n",
              "      <td>149583.0</td>\n",
              "      <td>811.0</td>\n",
              "      <td>145139.0</td>\n",
              "      <td>150754.0</td>\n",
              "      <td>3472.0</td>\n",
              "      <td>1.0</td>\n",
              "      <td>0.0</td>\n",
              "      <td>625.0</td>\n",
              "      <td>0.0</td>\n",
              "      <td>1374.0</td>\n",
              "      <td>1402.0</td>\n",
              "      <td>77.0</td>\n",
              "    </tr>\n",
              "    <tr>\n",
              "      <th>ABI</th>\n",
              "      <td>41685974</td>\n",
              "      <td>221650</td>\n",
              "      <td>155</td>\n",
              "      <td>1405</td>\n",
              "      <td>463</td>\n",
              "      <td>364591</td>\n",
              "      <td>134499.0</td>\n",
              "      <td>142148.0</td>\n",
              "      <td>4089.0</td>\n",
              "      <td>1145.0</td>\n",
              "      <td>144293.0</td>\n",
              "      <td>5750.0</td>\n",
              "      <td>6139.0</td>\n",
              "      <td>3651.0</td>\n",
              "      <td>17380.0</td>\n",
              "      <td>150064.0</td>\n",
              "      <td>1343.0</td>\n",
              "      <td>144489.0</td>\n",
              "      <td>152127.0</td>\n",
              "      <td>4478.0</td>\n",
              "      <td>0.0</td>\n",
              "      <td>0.0</td>\n",
              "      <td>932.0</td>\n",
              "      <td>37.0</td>\n",
              "      <td>1744.0</td>\n",
              "      <td>1376.0</td>\n",
              "      <td>197.0</td>\n",
              "    </tr>\n",
              "    <tr>\n",
              "      <th>ABQ</th>\n",
              "      <td>379542742</td>\n",
              "      <td>2002910</td>\n",
              "      <td>1406</td>\n",
              "      <td>12621</td>\n",
              "      <td>3882</td>\n",
              "      <td>1947457</td>\n",
              "      <td>1402896.0</td>\n",
              "      <td>1428410.0</td>\n",
              "      <td>32754.0</td>\n",
              "      <td>11208.0</td>\n",
              "      <td>1447738.0</td>\n",
              "      <td>116651.0</td>\n",
              "      <td>112499.0</td>\n",
              "      <td>94065.0</td>\n",
              "      <td>686896.0</td>\n",
              "      <td>1589821.0</td>\n",
              "      <td>7237.0</td>\n",
              "      <td>1584807.0</td>\n",
              "      <td>1596658.0</td>\n",
              "      <td>28926.0</td>\n",
              "      <td>2.0</td>\n",
              "      <td>0.0</td>\n",
              "      <td>3960.0</td>\n",
              "      <td>13.0</td>\n",
              "      <td>9683.0</td>\n",
              "      <td>13460.0</td>\n",
              "      <td>761.0</td>\n",
              "    </tr>\n",
              "    <tr>\n",
              "      <th>ABR</th>\n",
              "      <td>9223670</td>\n",
              "      <td>48360</td>\n",
              "      <td>34</td>\n",
              "      <td>309</td>\n",
              "      <td>110</td>\n",
              "      <td>176726</td>\n",
              "      <td>29438.0</td>\n",
              "      <td>33684.0</td>\n",
              "      <td>2606.0</td>\n",
              "      <td>429.0</td>\n",
              "      <td>34473.0</td>\n",
              "      <td>1664.0</td>\n",
              "      <td>1707.0</td>\n",
              "      <td>1080.0</td>\n",
              "      <td>6168.0</td>\n",
              "      <td>36233.0</td>\n",
              "      <td>198.0</td>\n",
              "      <td>32062.0</td>\n",
              "      <td>36511.0</td>\n",
              "      <td>2649.0</td>\n",
              "      <td>0.0</td>\n",
              "      <td>0.0</td>\n",
              "      <td>122.0</td>\n",
              "      <td>0.0</td>\n",
              "      <td>1516.0</td>\n",
              "      <td>942.0</td>\n",
              "      <td>11.0</td>\n",
              "    </tr>\n",
              "    <tr>\n",
              "      <th>ABY</th>\n",
              "      <td>13697861</td>\n",
              "      <td>58435</td>\n",
              "      <td>45</td>\n",
              "      <td>420</td>\n",
              "      <td>86</td>\n",
              "      <td>154720</td>\n",
              "      <td>38137.0</td>\n",
              "      <td>40625.0</td>\n",
              "      <td>1528.0</td>\n",
              "      <td>460.0</td>\n",
              "      <td>41485.0</td>\n",
              "      <td>1687.0</td>\n",
              "      <td>1762.0</td>\n",
              "      <td>1054.0</td>\n",
              "      <td>4205.0</td>\n",
              "      <td>43299.0</td>\n",
              "      <td>248.0</td>\n",
              "      <td>40944.0</td>\n",
              "      <td>43547.0</td>\n",
              "      <td>1603.0</td>\n",
              "      <td>0.0</td>\n",
              "      <td>0.0</td>\n",
              "      <td>151.0</td>\n",
              "      <td>0.0</td>\n",
              "      <td>736.0</td>\n",
              "      <td>717.0</td>\n",
              "      <td>0.0</td>\n",
              "    </tr>\n",
              "  </tbody>\n",
              "</table>\n",
              "</div>"
            ],
            "text/plain": [
              "                    index     year  ...  late_aircraft_delay  weather_delay\n",
              "origin_airport                      ...                                    \n",
              "ABE              41620250   199485  ...               1402.0           77.0\n",
              "ABI              41685974   221650  ...               1376.0          197.0\n",
              "ABQ             379542742  2002910  ...              13460.0          761.0\n",
              "ABR               9223670    48360  ...                942.0           11.0\n",
              "ABY              13697861    58435  ...                717.0            0.0\n",
              "\n",
              "[5 rows x 27 columns]"
            ]
          },
          "metadata": {
            "tags": []
          },
          "execution_count": 29
        }
      ]
    },
    {
      "cell_type": "code",
      "metadata": {
        "colab": {
          "base_uri": "https://localhost:8080/",
          "height": 296
        },
        "id": "9dOX2bXLwUTS",
        "outputId": "632a25db-299f-4316-d3eb-1ae5ac5b50c1"
      },
      "source": [
        "# Cumulative delay on Departure delay in terms of time\n",
        "\n",
        "fig, axs = plt.subplots(figsize=(12, 4))\n",
        "\n",
        "Cumulatives_delays = airports_departure_delay=df1[df1['departure_delay']> 0]\n",
        "Cumulatives_delays.groupby(airports_departure_delay[\"origin_airport\"])[\"departure_delay\"].sum(numeric_only=True).sort_values(ascending=False).head(20).plot(kind='bar',rot = 0,ax=axs)\n",
        "\n",
        " \n",
        "plt.xlabel(\"Airport\")  # custom x label using matplotlib\n",
        "\n",
        "plt.ylabel(\"Depature Delay time\")"
      ],
      "execution_count": null,
      "outputs": [
        {
          "output_type": "execute_result",
          "data": {
            "text/plain": [
              "Text(0, 0.5, 'Depature Delay time')"
            ]
          },
          "metadata": {
            "tags": []
          },
          "execution_count": 30
        },
        {
          "output_type": "display_data",
          "data": {
            "image/png": "[encoded data removed]",
            "text/plain": [
              "<Figure size 864x288 with 1 Axes>"
            ]
          },
          "metadata": {
            "tags": [],
            "needs_background": "light"
          }
        }
      ]
    },
    {
      "cell_type": "code",
      "metadata": {
        "colab": {
          "base_uri": "https://localhost:8080/",
          "height": 296
        },
        "id": "JsdunAnHw8el",
        "outputId": "daa3ee44-f6bb-46cd-fe35-8aa4c5067253"
      },
      "source": [
        "# Cumulative delay on Departure delay in terms of Incidencies\n",
        "\n",
        "fig, axs = plt.subplots(figsize=(12, 4))\n",
        "\n",
        "Cumulatives_delays = airports_departure_delay=df1[df1['departure_delay']> 0]\n",
        "Cumulatives_delays.groupby(airports_departure_delay[\"origin_airport\"])[\"departure_delay\"].count().sort_values(ascending=False).head(20).plot(kind='bar',rot = 0,ax=axs)\n",
        "\n",
        " \n",
        "plt.xlabel(\"Airport\")  # custom x label using matplotlib\n",
        "\n",
        "plt.ylabel(\"Depature Delay incidencies\")"
      ],
      "execution_count": null,
      "outputs": [
        {
          "output_type": "execute_result",
          "data": {
            "text/plain": [
              "Text(0, 0.5, 'Depature Delay incidencies')"
            ]
          },
          "metadata": {
            "tags": []
          },
          "execution_count": 31
        },
        {
          "output_type": "display_data",
          "data": {
            "image/png": "[encoded data removed]",
            "text/plain": [
              "<Figure size 864x288 with 1 Axes>"
            ]
          },
          "metadata": {
            "tags": [],
            "needs_background": "light"
          }
        }
      ]
    },
    {
      "cell_type": "code",
      "metadata": {
        "colab": {
          "base_uri": "https://localhost:8080/",
          "height": 296
        },
        "id": "MUHOtn58lnCv",
        "outputId": "daa3ee44-f6bb-46cd-fe35-8aa4c5067253"
      },
      "source": [
        "# Cumulative delay on Departure delay in terms of Incidencies\n",
        "\n",
        "fig, axs = plt.subplots(figsize=(12, 4))\n",
        "\n",
        "Cumulatives_delays = airports_departure_delay=df1[df1['departure_delay']> 0]\n",
        "Cumulatives_delays.groupby(airports_departure_delay[\"origin_airport\"])[\"departure_delay\"].count().sort_values(ascending=False).head(20).plot(kind='bar',rot = 0,ax=axs)\n",
        "\n",
        " \n",
        "plt.xlabel(\"Airport\")  # custom x label using matplotlib\n",
        "\n",
        "plt.ylabel(\"Depature Delay incidencies\")"
      ],
      "execution_count": null,
      "outputs": [
        {
          "output_type": "execute_result",
          "data": {
            "text/plain": [
              "Text(0, 0.5, 'Depature Delay incidencies')"
            ]
          },
          "metadata": {
            "tags": []
          },
          "execution_count": 31
        },
        {
          "output_type": "display_data",
          "data": {
            "image/png": "[encoded data removed]",
            "text/plain": [
              "<Figure size 864x288 with 1 Axes>"
            ]
          },
          "metadata": {
            "tags": [],
            "needs_background": "light"
          }
        }
      ]
    }
  ]
}