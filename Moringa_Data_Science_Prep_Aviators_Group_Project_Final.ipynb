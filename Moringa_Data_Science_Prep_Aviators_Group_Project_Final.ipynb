{
  "nbformat": 4,
  "nbformat_minor": 0,
  "metadata": {
    "colab": {
      "name": "Moringa_Data_Science_Prep_Aviators_Group_Project_Final.ipynb",
      "provenance": [],
      "collapsed_sections": [],
      "include_colab_link": true
    },
    "kernelspec": {
      "name": "python3",
      "display_name": "Python 3"
    }
  },
  "cells": [
    {
      "cell_type": "markdown",
      "metadata": {
        "id": "view-in-github",
        "colab_type": "text"
      },
      "source": [
        "<a href=\"https://colab.research.google.com/github/MwangiMwaniki/Flight-time-optimization-/blob/main/Moringa_Data_Science_Prep_Aviators_Group_Project_Final.ipynb\" target=\"_parent\"><img src=\"https://colab.research.google.com/assets/colab-badge.svg\" alt=\"Open In Colab\"/></a>"
      ]
    },
    {
      "cell_type": "code",
      "metadata": {
        "id": "kt25iOcO3ILU"
      },
      "source": [
        "# importing python libraries\r\n",
        "import pandas as pd\r\n",
        "import numpy as np"
      ],
      "execution_count": null,
      "outputs": []
    },
    {
      "cell_type": "markdown",
      "metadata": {
        "id": "jOy5bSjDmdTN"
      },
      "source": [
        "##LOADING DATASETS"
      ]
    },
    {
      "cell_type": "code",
      "metadata": {
        "id": "_ZKnesfO3Pub",
        "colab": {
          "base_uri": "https://localhost:8080/",
          "height": 379
        },
        "outputId": "14860562-3dac-4b20-914f-4b924c4012c1"
      },
      "source": [
        "# load our dataset\r\n",
        "df = pd.read_csv('flights.csv')\r\n",
        "df.head(10)"
      ],
      "execution_count": null,
      "outputs": [
        {
          "output_type": "execute_result",
          "data": {
            "text/html": [
              "<div>\n",
              "<style scoped>\n",
              "    .dataframe tbody tr th:only-of-type {\n",
              "        vertical-align: middle;\n",
              "    }\n",
              "\n",
              "    .dataframe tbody tr th {\n",
              "        vertical-align: top;\n",
              "    }\n",
              "\n",
              "    .dataframe thead th {\n",
              "        text-align: right;\n",
              "    }\n",
              "</style>\n",
              "<table border=\"1\" class=\"dataframe\">\n",
              "  <thead>\n",
              "    <tr style=\"text-align: right;\">\n",
              "      <th></th>\n",
              "      <th>YEAR</th>\n",
              "      <th>MONTH</th>\n",
              "      <th>DAY</th>\n",
              "      <th>DAY_OF_WEEK</th>\n",
              "      <th>AIRLINE</th>\n",
              "      <th>FLIGHT_NUMBER</th>\n",
              "      <th>TAIL_NUMBER</th>\n",
              "      <th>ORIGIN_AIRPORT</th>\n",
              "      <th>DESTINATION_AIRPORT</th>\n",
              "      <th>SCHEDULED_DEPARTURE</th>\n",
              "      <th>DEPARTURE_TIME</th>\n",
              "      <th>DEPARTURE_DELAY</th>\n",
              "      <th>TAXI_OUT</th>\n",
              "      <th>WHEELS_OFF</th>\n",
              "      <th>SCHEDULED_TIME</th>\n",
              "      <th>ELAPSED_TIME</th>\n",
              "      <th>AIR_TIME</th>\n",
              "      <th>DISTANCE</th>\n",
              "      <th>WHEELS_ON</th>\n",
              "      <th>TAXI_IN</th>\n",
              "      <th>SCHEDULED_ARRIVAL</th>\n",
              "      <th>ARRIVAL_TIME</th>\n",
              "      <th>ARRIVAL_DELAY</th>\n",
              "      <th>DIVERTED</th>\n",
              "      <th>CANCELLED</th>\n",
              "      <th>CANCELLATION_REASON</th>\n",
              "      <th>AIR_SYSTEM_DELAY</th>\n",
              "      <th>SECURITY_DELAY</th>\n",
              "      <th>AIRLINE_DELAY</th>\n",
              "      <th>LATE_AIRCRAFT_DELAY</th>\n",
              "      <th>WEATHER_DELAY</th>\n",
              "    </tr>\n",
              "  </thead>\n",
              "  <tbody>\n",
              "    <tr>\n",
              "      <th>0</th>\n",
              "      <td>2015</td>\n",
              "      <td>1</td>\n",
              "      <td>1</td>\n",
              "      <td>4</td>\n",
              "      <td>AS</td>\n",
              "      <td>98</td>\n",
              "      <td>N407AS</td>\n",
              "      <td>ANC</td>\n",
              "      <td>SEA</td>\n",
              "      <td>5</td>\n",
              "      <td>2354.0</td>\n",
              "      <td>-11.0</td>\n",
              "      <td>21.0</td>\n",
              "      <td>15.0</td>\n",
              "      <td>205.0</td>\n",
              "      <td>194.0</td>\n",
              "      <td>169.0</td>\n",
              "      <td>1448.0</td>\n",
              "      <td>404.0</td>\n",
              "      <td>4.0</td>\n",
              "      <td>430.0</td>\n",
              "      <td>408.0</td>\n",
              "      <td>-22.0</td>\n",
              "      <td>0.0</td>\n",
              "      <td>0.0</td>\n",
              "      <td>NaN</td>\n",
              "      <td>NaN</td>\n",
              "      <td>NaN</td>\n",
              "      <td>NaN</td>\n",
              "      <td>NaN</td>\n",
              "      <td>NaN</td>\n",
              "    </tr>\n",
              "    <tr>\n",
              "      <th>1</th>\n",
              "      <td>2015</td>\n",
              "      <td>1</td>\n",
              "      <td>1</td>\n",
              "      <td>4</td>\n",
              "      <td>AA</td>\n",
              "      <td>2336</td>\n",
              "      <td>N3KUAA</td>\n",
              "      <td>LAX</td>\n",
              "      <td>PBI</td>\n",
              "      <td>10</td>\n",
              "      <td>2.0</td>\n",
              "      <td>-8.0</td>\n",
              "      <td>12.0</td>\n",
              "      <td>14.0</td>\n",
              "      <td>280.0</td>\n",
              "      <td>279.0</td>\n",
              "      <td>263.0</td>\n",
              "      <td>2330.0</td>\n",
              "      <td>737.0</td>\n",
              "      <td>4.0</td>\n",
              "      <td>750.0</td>\n",
              "      <td>741.0</td>\n",
              "      <td>-9.0</td>\n",
              "      <td>0.0</td>\n",
              "      <td>0.0</td>\n",
              "      <td>NaN</td>\n",
              "      <td>NaN</td>\n",
              "      <td>NaN</td>\n",
              "      <td>NaN</td>\n",
              "      <td>NaN</td>\n",
              "      <td>NaN</td>\n",
              "    </tr>\n",
              "    <tr>\n",
              "      <th>2</th>\n",
              "      <td>2015</td>\n",
              "      <td>1</td>\n",
              "      <td>1</td>\n",
              "      <td>4</td>\n",
              "      <td>US</td>\n",
              "      <td>840</td>\n",
              "      <td>N171US</td>\n",
              "      <td>SFO</td>\n",
              "      <td>CLT</td>\n",
              "      <td>20</td>\n",
              "      <td>18.0</td>\n",
              "      <td>-2.0</td>\n",
              "      <td>16.0</td>\n",
              "      <td>34.0</td>\n",
              "      <td>286.0</td>\n",
              "      <td>293.0</td>\n",
              "      <td>266.0</td>\n",
              "      <td>2296.0</td>\n",
              "      <td>800.0</td>\n",
              "      <td>11.0</td>\n",
              "      <td>806.0</td>\n",
              "      <td>811.0</td>\n",
              "      <td>5.0</td>\n",
              "      <td>0.0</td>\n",
              "      <td>0.0</td>\n",
              "      <td>NaN</td>\n",
              "      <td>NaN</td>\n",
              "      <td>NaN</td>\n",
              "      <td>NaN</td>\n",
              "      <td>NaN</td>\n",
              "      <td>NaN</td>\n",
              "    </tr>\n",
              "    <tr>\n",
              "      <th>3</th>\n",
              "      <td>2015</td>\n",
              "      <td>1</td>\n",
              "      <td>1</td>\n",
              "      <td>4</td>\n",
              "      <td>AA</td>\n",
              "      <td>258</td>\n",
              "      <td>N3HYAA</td>\n",
              "      <td>LAX</td>\n",
              "      <td>MIA</td>\n",
              "      <td>20</td>\n",
              "      <td>15.0</td>\n",
              "      <td>-5.0</td>\n",
              "      <td>15.0</td>\n",
              "      <td>30.0</td>\n",
              "      <td>285.0</td>\n",
              "      <td>281.0</td>\n",
              "      <td>258.0</td>\n",
              "      <td>2342.0</td>\n",
              "      <td>748.0</td>\n",
              "      <td>8.0</td>\n",
              "      <td>805.0</td>\n",
              "      <td>756.0</td>\n",
              "      <td>-9.0</td>\n",
              "      <td>0.0</td>\n",
              "      <td>0.0</td>\n",
              "      <td>NaN</td>\n",
              "      <td>NaN</td>\n",
              "      <td>NaN</td>\n",
              "      <td>NaN</td>\n",
              "      <td>NaN</td>\n",
              "      <td>NaN</td>\n",
              "    </tr>\n",
              "    <tr>\n",
              "      <th>4</th>\n",
              "      <td>2015</td>\n",
              "      <td>1</td>\n",
              "      <td>1</td>\n",
              "      <td>4</td>\n",
              "      <td>AS</td>\n",
              "      <td>135</td>\n",
              "      <td>N527AS</td>\n",
              "      <td>SEA</td>\n",
              "      <td>ANC</td>\n",
              "      <td>25</td>\n",
              "      <td>24.0</td>\n",
              "      <td>-1.0</td>\n",
              "      <td>11.0</td>\n",
              "      <td>35.0</td>\n",
              "      <td>235.0</td>\n",
              "      <td>215.0</td>\n",
              "      <td>199.0</td>\n",
              "      <td>1448.0</td>\n",
              "      <td>254.0</td>\n",
              "      <td>5.0</td>\n",
              "      <td>320.0</td>\n",
              "      <td>259.0</td>\n",
              "      <td>-21.0</td>\n",
              "      <td>0.0</td>\n",
              "      <td>0.0</td>\n",
              "      <td>NaN</td>\n",
              "      <td>NaN</td>\n",
              "      <td>NaN</td>\n",
              "      <td>NaN</td>\n",
              "      <td>NaN</td>\n",
              "      <td>NaN</td>\n",
              "    </tr>\n",
              "    <tr>\n",
              "      <th>5</th>\n",
              "      <td>2015</td>\n",
              "      <td>1</td>\n",
              "      <td>1</td>\n",
              "      <td>4</td>\n",
              "      <td>DL</td>\n",
              "      <td>806</td>\n",
              "      <td>N3730B</td>\n",
              "      <td>SFO</td>\n",
              "      <td>MSP</td>\n",
              "      <td>25</td>\n",
              "      <td>20.0</td>\n",
              "      <td>-5.0</td>\n",
              "      <td>18.0</td>\n",
              "      <td>38.0</td>\n",
              "      <td>217.0</td>\n",
              "      <td>230.0</td>\n",
              "      <td>206.0</td>\n",
              "      <td>1589.0</td>\n",
              "      <td>604.0</td>\n",
              "      <td>6.0</td>\n",
              "      <td>602.0</td>\n",
              "      <td>610.0</td>\n",
              "      <td>8.0</td>\n",
              "      <td>0.0</td>\n",
              "      <td>0.0</td>\n",
              "      <td>NaN</td>\n",
              "      <td>NaN</td>\n",
              "      <td>NaN</td>\n",
              "      <td>NaN</td>\n",
              "      <td>NaN</td>\n",
              "      <td>NaN</td>\n",
              "    </tr>\n",
              "    <tr>\n",
              "      <th>6</th>\n",
              "      <td>2015</td>\n",
              "      <td>1</td>\n",
              "      <td>1</td>\n",
              "      <td>4</td>\n",
              "      <td>NK</td>\n",
              "      <td>612</td>\n",
              "      <td>N635NK</td>\n",
              "      <td>LAS</td>\n",
              "      <td>MSP</td>\n",
              "      <td>25</td>\n",
              "      <td>19.0</td>\n",
              "      <td>-6.0</td>\n",
              "      <td>11.0</td>\n",
              "      <td>30.0</td>\n",
              "      <td>181.0</td>\n",
              "      <td>170.0</td>\n",
              "      <td>154.0</td>\n",
              "      <td>1299.0</td>\n",
              "      <td>504.0</td>\n",
              "      <td>5.0</td>\n",
              "      <td>526.0</td>\n",
              "      <td>509.0</td>\n",
              "      <td>-17.0</td>\n",
              "      <td>0.0</td>\n",
              "      <td>0.0</td>\n",
              "      <td>NaN</td>\n",
              "      <td>NaN</td>\n",
              "      <td>NaN</td>\n",
              "      <td>NaN</td>\n",
              "      <td>NaN</td>\n",
              "      <td>NaN</td>\n",
              "    </tr>\n",
              "    <tr>\n",
              "      <th>7</th>\n",
              "      <td>2015</td>\n",
              "      <td>1</td>\n",
              "      <td>1</td>\n",
              "      <td>4</td>\n",
              "      <td>US</td>\n",
              "      <td>2013</td>\n",
              "      <td>N584UW</td>\n",
              "      <td>LAX</td>\n",
              "      <td>CLT</td>\n",
              "      <td>30</td>\n",
              "      <td>44.0</td>\n",
              "      <td>14.0</td>\n",
              "      <td>13.0</td>\n",
              "      <td>57.0</td>\n",
              "      <td>273.0</td>\n",
              "      <td>249.0</td>\n",
              "      <td>228.0</td>\n",
              "      <td>2125.0</td>\n",
              "      <td>745.0</td>\n",
              "      <td>8.0</td>\n",
              "      <td>803.0</td>\n",
              "      <td>753.0</td>\n",
              "      <td>-10.0</td>\n",
              "      <td>0.0</td>\n",
              "      <td>0.0</td>\n",
              "      <td>NaN</td>\n",
              "      <td>NaN</td>\n",
              "      <td>NaN</td>\n",
              "      <td>NaN</td>\n",
              "      <td>NaN</td>\n",
              "      <td>NaN</td>\n",
              "    </tr>\n",
              "    <tr>\n",
              "      <th>8</th>\n",
              "      <td>2015</td>\n",
              "      <td>1</td>\n",
              "      <td>1</td>\n",
              "      <td>4</td>\n",
              "      <td>AA</td>\n",
              "      <td>1112</td>\n",
              "      <td>N3LAAA</td>\n",
              "      <td>SFO</td>\n",
              "      <td>DFW</td>\n",
              "      <td>30</td>\n",
              "      <td>19.0</td>\n",
              "      <td>-11.0</td>\n",
              "      <td>17.0</td>\n",
              "      <td>36.0</td>\n",
              "      <td>195.0</td>\n",
              "      <td>193.0</td>\n",
              "      <td>173.0</td>\n",
              "      <td>1464.0</td>\n",
              "      <td>529.0</td>\n",
              "      <td>3.0</td>\n",
              "      <td>545.0</td>\n",
              "      <td>532.0</td>\n",
              "      <td>-13.0</td>\n",
              "      <td>0.0</td>\n",
              "      <td>0.0</td>\n",
              "      <td>NaN</td>\n",
              "      <td>NaN</td>\n",
              "      <td>NaN</td>\n",
              "      <td>NaN</td>\n",
              "      <td>NaN</td>\n",
              "      <td>NaN</td>\n",
              "    </tr>\n",
              "    <tr>\n",
              "      <th>9</th>\n",
              "      <td>2015</td>\n",
              "      <td>1</td>\n",
              "      <td>1</td>\n",
              "      <td>4</td>\n",
              "      <td>DL</td>\n",
              "      <td>1173</td>\n",
              "      <td>N826DN</td>\n",
              "      <td>LAS</td>\n",
              "      <td>ATL</td>\n",
              "      <td>30</td>\n",
              "      <td>33.0</td>\n",
              "      <td>3.0</td>\n",
              "      <td>12.0</td>\n",
              "      <td>45.0</td>\n",
              "      <td>221.0</td>\n",
              "      <td>203.0</td>\n",
              "      <td>186.0</td>\n",
              "      <td>1747.0</td>\n",
              "      <td>651.0</td>\n",
              "      <td>5.0</td>\n",
              "      <td>711.0</td>\n",
              "      <td>656.0</td>\n",
              "      <td>-15.0</td>\n",
              "      <td>0.0</td>\n",
              "      <td>0.0</td>\n",
              "      <td>NaN</td>\n",
              "      <td>NaN</td>\n",
              "      <td>NaN</td>\n",
              "      <td>NaN</td>\n",
              "      <td>NaN</td>\n",
              "      <td>NaN</td>\n",
              "    </tr>\n",
              "  </tbody>\n",
              "</table>\n",
              "</div>"
            ],
            "text/plain": [
              "   YEAR  MONTH  DAY  ...  AIRLINE_DELAY LATE_AIRCRAFT_DELAY  WEATHER_DELAY\n",
              "0  2015      1    1  ...            NaN                 NaN            NaN\n",
              "1  2015      1    1  ...            NaN                 NaN            NaN\n",
              "2  2015      1    1  ...            NaN                 NaN            NaN\n",
              "3  2015      1    1  ...            NaN                 NaN            NaN\n",
              "4  2015      1    1  ...            NaN                 NaN            NaN\n",
              "5  2015      1    1  ...            NaN                 NaN            NaN\n",
              "6  2015      1    1  ...            NaN                 NaN            NaN\n",
              "7  2015      1    1  ...            NaN                 NaN            NaN\n",
              "8  2015      1    1  ...            NaN                 NaN            NaN\n",
              "9  2015      1    1  ...            NaN                 NaN            NaN\n",
              "\n",
              "[10 rows x 31 columns]"
            ]
          },
          "metadata": {
            "tags": []
          },
          "execution_count": 36
        }
      ]
    },
    {
      "cell_type": "code",
      "metadata": {
        "colab": {
          "base_uri": "https://localhost:8080/"
        },
        "id": "qzMsfq_RO2-4",
        "outputId": "cb2fd032-01d0-42a3-80ef-9b302920bcbe"
      },
      "source": [
        "#cheking total rows and columns we have on our original dataset\r\n",
        "df.shape"
      ],
      "execution_count": null,
      "outputs": [
        {
          "output_type": "execute_result",
          "data": {
            "text/plain": [
              "(2748980, 31)"
            ]
          },
          "metadata": {
            "tags": []
          },
          "execution_count": 37
        }
      ]
    },
    {
      "cell_type": "code",
      "metadata": {
        "id": "GPDUpMMyzN4S"
      },
      "source": [
        "#exporting the CSV FILE\r\n",
        "#Trimed_Flights_data = df.head(1000000)\r\n",
        "#Trimed_Flights_data.to_csv('Trimed_Flights_data.csv')"
      ],
      "execution_count": null,
      "outputs": []
    },
    {
      "cell_type": "code",
      "metadata": {
        "colab": {
          "base_uri": "https://localhost:8080/",
          "height": 379
        },
        "id": "HTBZjGiz2Bcm",
        "outputId": "ec97e3a4-922d-407f-dd9d-a7fd0479759f"
      },
      "source": [
        "df1 = pd.read_csv('Trimed_Flights_data.csv')\r\n",
        "df1.head(10)"
      ],
      "execution_count": null,
      "outputs": [
        {
          "output_type": "execute_result",
          "data": {
            "text/html": [
              "<div>\n",
              "<style scoped>\n",
              "    .dataframe tbody tr th:only-of-type {\n",
              "        vertical-align: middle;\n",
              "    }\n",
              "\n",
              "    .dataframe tbody tr th {\n",
              "        vertical-align: top;\n",
              "    }\n",
              "\n",
              "    .dataframe thead th {\n",
              "        text-align: right;\n",
              "    }\n",
              "</style>\n",
              "<table border=\"1\" class=\"dataframe\">\n",
              "  <thead>\n",
              "    <tr style=\"text-align: right;\">\n",
              "      <th></th>\n",
              "      <th>Index</th>\n",
              "      <th>YEAR</th>\n",
              "      <th>MONTH</th>\n",
              "      <th>DAY</th>\n",
              "      <th>DAY_OF_WEEK</th>\n",
              "      <th>AIRLINE</th>\n",
              "      <th>FLIGHT_NUMBER</th>\n",
              "      <th>TAIL_NUMBER</th>\n",
              "      <th>ORIGIN_AIRPORT</th>\n",
              "      <th>DESTINATION_AIRPORT</th>\n",
              "      <th>SCHEDULED_DEPARTURE</th>\n",
              "      <th>DEPARTURE_TIME</th>\n",
              "      <th>DEPARTURE_DELAY</th>\n",
              "      <th>TAXI_OUT</th>\n",
              "      <th>WHEELS_OFF</th>\n",
              "      <th>SCHEDULED_TIME</th>\n",
              "      <th>ELAPSED_TIME</th>\n",
              "      <th>AIR_TIME</th>\n",
              "      <th>DISTANCE</th>\n",
              "      <th>WHEELS_ON</th>\n",
              "      <th>TAXI_IN</th>\n",
              "      <th>SCHEDULED_ARRIVAL</th>\n",
              "      <th>ARRIVAL_TIME</th>\n",
              "      <th>ARRIVAL_DELAY</th>\n",
              "      <th>DIVERTED</th>\n",
              "      <th>CANCELLED</th>\n",
              "      <th>CANCELLATION_REASON</th>\n",
              "      <th>AIR_SYSTEM_DELAY</th>\n",
              "      <th>SECURITY_DELAY</th>\n",
              "      <th>AIRLINE_DELAY</th>\n",
              "      <th>LATE_AIRCRAFT_DELAY</th>\n",
              "      <th>WEATHER_DELAY</th>\n",
              "    </tr>\n",
              "  </thead>\n",
              "  <tbody>\n",
              "    <tr>\n",
              "      <th>0</th>\n",
              "      <td>0</td>\n",
              "      <td>2015</td>\n",
              "      <td>1</td>\n",
              "      <td>1</td>\n",
              "      <td>4</td>\n",
              "      <td>AS</td>\n",
              "      <td>98</td>\n",
              "      <td>N407AS</td>\n",
              "      <td>ANC</td>\n",
              "      <td>SEA</td>\n",
              "      <td>5</td>\n",
              "      <td>2354.0</td>\n",
              "      <td>-11.0</td>\n",
              "      <td>21.0</td>\n",
              "      <td>15.0</td>\n",
              "      <td>205.0</td>\n",
              "      <td>194.0</td>\n",
              "      <td>169.0</td>\n",
              "      <td>1448</td>\n",
              "      <td>404.0</td>\n",
              "      <td>4.0</td>\n",
              "      <td>430</td>\n",
              "      <td>408.0</td>\n",
              "      <td>-22.0</td>\n",
              "      <td>0</td>\n",
              "      <td>0</td>\n",
              "      <td>NaN</td>\n",
              "      <td>NaN</td>\n",
              "      <td>NaN</td>\n",
              "      <td>NaN</td>\n",
              "      <td>NaN</td>\n",
              "      <td>NaN</td>\n",
              "    </tr>\n",
              "    <tr>\n",
              "      <th>1</th>\n",
              "      <td>1</td>\n",
              "      <td>2015</td>\n",
              "      <td>1</td>\n",
              "      <td>1</td>\n",
              "      <td>4</td>\n",
              "      <td>AA</td>\n",
              "      <td>2336</td>\n",
              "      <td>N3KUAA</td>\n",
              "      <td>LAX</td>\n",
              "      <td>PBI</td>\n",
              "      <td>10</td>\n",
              "      <td>2.0</td>\n",
              "      <td>-8.0</td>\n",
              "      <td>12.0</td>\n",
              "      <td>14.0</td>\n",
              "      <td>280.0</td>\n",
              "      <td>279.0</td>\n",
              "      <td>263.0</td>\n",
              "      <td>2330</td>\n",
              "      <td>737.0</td>\n",
              "      <td>4.0</td>\n",
              "      <td>750</td>\n",
              "      <td>741.0</td>\n",
              "      <td>-9.0</td>\n",
              "      <td>0</td>\n",
              "      <td>0</td>\n",
              "      <td>NaN</td>\n",
              "      <td>NaN</td>\n",
              "      <td>NaN</td>\n",
              "      <td>NaN</td>\n",
              "      <td>NaN</td>\n",
              "      <td>NaN</td>\n",
              "    </tr>\n",
              "    <tr>\n",
              "      <th>2</th>\n",
              "      <td>2</td>\n",
              "      <td>2015</td>\n",
              "      <td>1</td>\n",
              "      <td>1</td>\n",
              "      <td>4</td>\n",
              "      <td>US</td>\n",
              "      <td>840</td>\n",
              "      <td>N171US</td>\n",
              "      <td>SFO</td>\n",
              "      <td>CLT</td>\n",
              "      <td>20</td>\n",
              "      <td>18.0</td>\n",
              "      <td>-2.0</td>\n",
              "      <td>16.0</td>\n",
              "      <td>34.0</td>\n",
              "      <td>286.0</td>\n",
              "      <td>293.0</td>\n",
              "      <td>266.0</td>\n",
              "      <td>2296</td>\n",
              "      <td>800.0</td>\n",
              "      <td>11.0</td>\n",
              "      <td>806</td>\n",
              "      <td>811.0</td>\n",
              "      <td>5.0</td>\n",
              "      <td>0</td>\n",
              "      <td>0</td>\n",
              "      <td>NaN</td>\n",
              "      <td>NaN</td>\n",
              "      <td>NaN</td>\n",
              "      <td>NaN</td>\n",
              "      <td>NaN</td>\n",
              "      <td>NaN</td>\n",
              "    </tr>\n",
              "    <tr>\n",
              "      <th>3</th>\n",
              "      <td>3</td>\n",
              "      <td>2015</td>\n",
              "      <td>1</td>\n",
              "      <td>1</td>\n",
              "      <td>4</td>\n",
              "      <td>AA</td>\n",
              "      <td>258</td>\n",
              "      <td>N3HYAA</td>\n",
              "      <td>LAX</td>\n",
              "      <td>MIA</td>\n",
              "      <td>20</td>\n",
              "      <td>15.0</td>\n",
              "      <td>-5.0</td>\n",
              "      <td>15.0</td>\n",
              "      <td>30.0</td>\n",
              "      <td>285.0</td>\n",
              "      <td>281.0</td>\n",
              "      <td>258.0</td>\n",
              "      <td>2342</td>\n",
              "      <td>748.0</td>\n",
              "      <td>8.0</td>\n",
              "      <td>805</td>\n",
              "      <td>756.0</td>\n",
              "      <td>-9.0</td>\n",
              "      <td>0</td>\n",
              "      <td>0</td>\n",
              "      <td>NaN</td>\n",
              "      <td>NaN</td>\n",
              "      <td>NaN</td>\n",
              "      <td>NaN</td>\n",
              "      <td>NaN</td>\n",
              "      <td>NaN</td>\n",
              "    </tr>\n",
              "    <tr>\n",
              "      <th>4</th>\n",
              "      <td>4</td>\n",
              "      <td>2015</td>\n",
              "      <td>1</td>\n",
              "      <td>1</td>\n",
              "      <td>4</td>\n",
              "      <td>AS</td>\n",
              "      <td>135</td>\n",
              "      <td>N527AS</td>\n",
              "      <td>SEA</td>\n",
              "      <td>ANC</td>\n",
              "      <td>25</td>\n",
              "      <td>24.0</td>\n",
              "      <td>-1.0</td>\n",
              "      <td>11.0</td>\n",
              "      <td>35.0</td>\n",
              "      <td>235.0</td>\n",
              "      <td>215.0</td>\n",
              "      <td>199.0</td>\n",
              "      <td>1448</td>\n",
              "      <td>254.0</td>\n",
              "      <td>5.0</td>\n",
              "      <td>320</td>\n",
              "      <td>259.0</td>\n",
              "      <td>-21.0</td>\n",
              "      <td>0</td>\n",
              "      <td>0</td>\n",
              "      <td>NaN</td>\n",
              "      <td>NaN</td>\n",
              "      <td>NaN</td>\n",
              "      <td>NaN</td>\n",
              "      <td>NaN</td>\n",
              "      <td>NaN</td>\n",
              "    </tr>\n",
              "    <tr>\n",
              "      <th>5</th>\n",
              "      <td>5</td>\n",
              "      <td>2015</td>\n",
              "      <td>1</td>\n",
              "      <td>1</td>\n",
              "      <td>4</td>\n",
              "      <td>DL</td>\n",
              "      <td>806</td>\n",
              "      <td>N3730B</td>\n",
              "      <td>SFO</td>\n",
              "      <td>MSP</td>\n",
              "      <td>25</td>\n",
              "      <td>20.0</td>\n",
              "      <td>-5.0</td>\n",
              "      <td>18.0</td>\n",
              "      <td>38.0</td>\n",
              "      <td>217.0</td>\n",
              "      <td>230.0</td>\n",
              "      <td>206.0</td>\n",
              "      <td>1589</td>\n",
              "      <td>604.0</td>\n",
              "      <td>6.0</td>\n",
              "      <td>602</td>\n",
              "      <td>610.0</td>\n",
              "      <td>8.0</td>\n",
              "      <td>0</td>\n",
              "      <td>0</td>\n",
              "      <td>NaN</td>\n",
              "      <td>NaN</td>\n",
              "      <td>NaN</td>\n",
              "      <td>NaN</td>\n",
              "      <td>NaN</td>\n",
              "      <td>NaN</td>\n",
              "    </tr>\n",
              "    <tr>\n",
              "      <th>6</th>\n",
              "      <td>6</td>\n",
              "      <td>2015</td>\n",
              "      <td>1</td>\n",
              "      <td>1</td>\n",
              "      <td>4</td>\n",
              "      <td>NK</td>\n",
              "      <td>612</td>\n",
              "      <td>N635NK</td>\n",
              "      <td>LAS</td>\n",
              "      <td>MSP</td>\n",
              "      <td>25</td>\n",
              "      <td>19.0</td>\n",
              "      <td>-6.0</td>\n",
              "      <td>11.0</td>\n",
              "      <td>30.0</td>\n",
              "      <td>181.0</td>\n",
              "      <td>170.0</td>\n",
              "      <td>154.0</td>\n",
              "      <td>1299</td>\n",
              "      <td>504.0</td>\n",
              "      <td>5.0</td>\n",
              "      <td>526</td>\n",
              "      <td>509.0</td>\n",
              "      <td>-17.0</td>\n",
              "      <td>0</td>\n",
              "      <td>0</td>\n",
              "      <td>NaN</td>\n",
              "      <td>NaN</td>\n",
              "      <td>NaN</td>\n",
              "      <td>NaN</td>\n",
              "      <td>NaN</td>\n",
              "      <td>NaN</td>\n",
              "    </tr>\n",
              "    <tr>\n",
              "      <th>7</th>\n",
              "      <td>7</td>\n",
              "      <td>2015</td>\n",
              "      <td>1</td>\n",
              "      <td>1</td>\n",
              "      <td>4</td>\n",
              "      <td>US</td>\n",
              "      <td>2013</td>\n",
              "      <td>N584UW</td>\n",
              "      <td>LAX</td>\n",
              "      <td>CLT</td>\n",
              "      <td>30</td>\n",
              "      <td>44.0</td>\n",
              "      <td>14.0</td>\n",
              "      <td>13.0</td>\n",
              "      <td>57.0</td>\n",
              "      <td>273.0</td>\n",
              "      <td>249.0</td>\n",
              "      <td>228.0</td>\n",
              "      <td>2125</td>\n",
              "      <td>745.0</td>\n",
              "      <td>8.0</td>\n",
              "      <td>803</td>\n",
              "      <td>753.0</td>\n",
              "      <td>-10.0</td>\n",
              "      <td>0</td>\n",
              "      <td>0</td>\n",
              "      <td>NaN</td>\n",
              "      <td>NaN</td>\n",
              "      <td>NaN</td>\n",
              "      <td>NaN</td>\n",
              "      <td>NaN</td>\n",
              "      <td>NaN</td>\n",
              "    </tr>\n",
              "    <tr>\n",
              "      <th>8</th>\n",
              "      <td>8</td>\n",
              "      <td>2015</td>\n",
              "      <td>1</td>\n",
              "      <td>1</td>\n",
              "      <td>4</td>\n",
              "      <td>AA</td>\n",
              "      <td>1112</td>\n",
              "      <td>N3LAAA</td>\n",
              "      <td>SFO</td>\n",
              "      <td>DFW</td>\n",
              "      <td>30</td>\n",
              "      <td>19.0</td>\n",
              "      <td>-11.0</td>\n",
              "      <td>17.0</td>\n",
              "      <td>36.0</td>\n",
              "      <td>195.0</td>\n",
              "      <td>193.0</td>\n",
              "      <td>173.0</td>\n",
              "      <td>1464</td>\n",
              "      <td>529.0</td>\n",
              "      <td>3.0</td>\n",
              "      <td>545</td>\n",
              "      <td>532.0</td>\n",
              "      <td>-13.0</td>\n",
              "      <td>0</td>\n",
              "      <td>0</td>\n",
              "      <td>NaN</td>\n",
              "      <td>NaN</td>\n",
              "      <td>NaN</td>\n",
              "      <td>NaN</td>\n",
              "      <td>NaN</td>\n",
              "      <td>NaN</td>\n",
              "    </tr>\n",
              "    <tr>\n",
              "      <th>9</th>\n",
              "      <td>9</td>\n",
              "      <td>2015</td>\n",
              "      <td>1</td>\n",
              "      <td>1</td>\n",
              "      <td>4</td>\n",
              "      <td>DL</td>\n",
              "      <td>1173</td>\n",
              "      <td>N826DN</td>\n",
              "      <td>LAS</td>\n",
              "      <td>ATL</td>\n",
              "      <td>30</td>\n",
              "      <td>33.0</td>\n",
              "      <td>3.0</td>\n",
              "      <td>12.0</td>\n",
              "      <td>45.0</td>\n",
              "      <td>221.0</td>\n",
              "      <td>203.0</td>\n",
              "      <td>186.0</td>\n",
              "      <td>1747</td>\n",
              "      <td>651.0</td>\n",
              "      <td>5.0</td>\n",
              "      <td>711</td>\n",
              "      <td>656.0</td>\n",
              "      <td>-15.0</td>\n",
              "      <td>0</td>\n",
              "      <td>0</td>\n",
              "      <td>NaN</td>\n",
              "      <td>NaN</td>\n",
              "      <td>NaN</td>\n",
              "      <td>NaN</td>\n",
              "      <td>NaN</td>\n",
              "      <td>NaN</td>\n",
              "    </tr>\n",
              "  </tbody>\n",
              "</table>\n",
              "</div>"
            ],
            "text/plain": [
              "   Index  YEAR  MONTH  ...  AIRLINE_DELAY  LATE_AIRCRAFT_DELAY WEATHER_DELAY\n",
              "0      0  2015      1  ...            NaN                  NaN           NaN\n",
              "1      1  2015      1  ...            NaN                  NaN           NaN\n",
              "2      2  2015      1  ...            NaN                  NaN           NaN\n",
              "3      3  2015      1  ...            NaN                  NaN           NaN\n",
              "4      4  2015      1  ...            NaN                  NaN           NaN\n",
              "5      5  2015      1  ...            NaN                  NaN           NaN\n",
              "6      6  2015      1  ...            NaN                  NaN           NaN\n",
              "7      7  2015      1  ...            NaN                  NaN           NaN\n",
              "8      8  2015      1  ...            NaN                  NaN           NaN\n",
              "9      9  2015      1  ...            NaN                  NaN           NaN\n",
              "\n",
              "[10 rows x 32 columns]"
            ]
          },
          "metadata": {
            "tags": []
          },
          "execution_count": 2
        }
      ]
    },
    {
      "cell_type": "code",
      "metadata": {
        "id": "IZ9WxAph4ms1",
        "colab": {
          "base_uri": "https://localhost:8080/"
        },
        "outputId": "db05b870-a9f8-47c6-c77b-d6e8204f6d78"
      },
      "source": [
        "# checking our rows and columns\r\n",
        "df1.shape"
      ],
      "execution_count": null,
      "outputs": [
        {
          "output_type": "execute_result",
          "data": {
            "text/plain": [
              "(1000000, 32)"
            ]
          },
          "metadata": {
            "tags": []
          },
          "execution_count": 3
        }
      ]
    },
    {
      "cell_type": "markdown",
      "metadata": {
        "id": "OmalhTJoQB8M"
      },
      "source": [
        "##CLEANING DATASET"
      ]
    },
    {
      "cell_type": "code",
      "metadata": {
        "id": "KMznHqW_4rLK",
        "colab": {
          "base_uri": "https://localhost:8080/"
        },
        "outputId": "dd4b20a3-8d4d-4162-a19f-8337d6200302"
      },
      "source": [
        "# checking on columns\r\n",
        "df1.columns"
      ],
      "execution_count": null,
      "outputs": [
        {
          "output_type": "execute_result",
          "data": {
            "text/plain": [
              "Index(['Index', 'YEAR', 'MONTH', 'DAY', 'DAY_OF_WEEK', 'AIRLINE',\n",
              "       'FLIGHT_NUMBER', 'TAIL_NUMBER', 'ORIGIN_AIRPORT', 'DESTINATION_AIRPORT',\n",
              "       'SCHEDULED_DEPARTURE', 'DEPARTURE_TIME', 'DEPARTURE_DELAY', 'TAXI_OUT',\n",
              "       'WHEELS_OFF', 'SCHEDULED_TIME', 'ELAPSED_TIME', 'AIR_TIME', 'DISTANCE',\n",
              "       'WHEELS_ON', 'TAXI_IN', 'SCHEDULED_ARRIVAL', 'ARRIVAL_TIME',\n",
              "       'ARRIVAL_DELAY', 'DIVERTED', 'CANCELLED', 'CANCELLATION_REASON',\n",
              "       'AIR_SYSTEM_DELAY', 'SECURITY_DELAY', 'AIRLINE_DELAY',\n",
              "       'LATE_AIRCRAFT_DELAY', 'WEATHER_DELAY'],\n",
              "      dtype='object')"
            ]
          },
          "metadata": {
            "tags": []
          },
          "execution_count": 4
        }
      ]
    },
    {
      "cell_type": "code",
      "metadata": {
        "colab": {
          "base_uri": "https://localhost:8080/"
        },
        "id": "ByRuIO5t7Tfz",
        "outputId": "0c546d8a-ef32-4aaa-96c0-3adcba3c5f58"
      },
      "source": [
        "#Change all column names to lower case\r\n",
        "df1.columns = map(str.lower, df1.columns)\r\n",
        "df1.columns"
      ],
      "execution_count": null,
      "outputs": [
        {
          "output_type": "execute_result",
          "data": {
            "text/plain": [
              "Index(['index', 'year', 'month', 'day', 'day_of_week', 'airline',\n",
              "       'flight_number', 'tail_number', 'origin_airport', 'destination_airport',\n",
              "       'scheduled_departure', 'departure_time', 'departure_delay', 'taxi_out',\n",
              "       'wheels_off', 'scheduled_time', 'elapsed_time', 'air_time', 'distance',\n",
              "       'wheels_on', 'taxi_in', 'scheduled_arrival', 'arrival_time',\n",
              "       'arrival_delay', 'diverted', 'cancelled', 'cancellation_reason',\n",
              "       'air_system_delay', 'security_delay', 'airline_delay',\n",
              "       'late_aircraft_delay', 'weather_delay'],\n",
              "      dtype='object')"
            ]
          },
          "metadata": {
            "tags": []
          },
          "execution_count": 5
        }
      ]
    },
    {
      "cell_type": "code",
      "metadata": {
        "id": "ETkAt4zI4839"
      },
      "source": [
        "# dropping unnecessary columns\r\n",
        "df1.drop(['tail_number', 'taxi_out',\r\n",
        "       'wheels_off', 'air_time', \r\n",
        "       'wheels_on','taxi_in'],axis= 1, inplace = True)\r\n"
      ],
      "execution_count": null,
      "outputs": []
    },
    {
      "cell_type": "code",
      "metadata": {
        "colab": {
          "base_uri": "https://localhost:8080/"
        },
        "id": "nmdgdPGWPGHB",
        "outputId": "322eb0ef-de15-4ecb-f983-05eb361ffdae"
      },
      "source": [
        "#New columns after dropping\r\n",
        "df1.columns"
      ],
      "execution_count": null,
      "outputs": [
        {
          "output_type": "execute_result",
          "data": {
            "text/plain": [
              "Index(['index', 'year', 'month', 'day', 'day_of_week', 'airline',\n",
              "       'flight_number', 'origin_airport', 'destination_airport',\n",
              "       'scheduled_departure', 'departure_time', 'departure_delay',\n",
              "       'scheduled_time', 'elapsed_time', 'distance', 'scheduled_arrival',\n",
              "       'arrival_time', 'arrival_delay', 'diverted', 'cancelled',\n",
              "       'cancellation_reason', 'air_system_delay', 'security_delay',\n",
              "       'airline_delay', 'late_aircraft_delay', 'weather_delay'],\n",
              "      dtype='object')"
            ]
          },
          "metadata": {
            "tags": []
          },
          "execution_count": 7
        }
      ]
    },
    {
      "cell_type": "code",
      "metadata": {
        "id": "1sjZ_Z0f5Cwj",
        "colab": {
          "base_uri": "https://localhost:8080/"
        },
        "outputId": "71c8a4cf-4ad6-45c9-e51b-893a86158029"
      },
      "source": [
        "# check for null values\r\n",
        "df1.isnull().any()"
      ],
      "execution_count": null,
      "outputs": [
        {
          "output_type": "execute_result",
          "data": {
            "text/plain": [
              "index                  False\n",
              "year                   False\n",
              "month                  False\n",
              "day                    False\n",
              "day_of_week            False\n",
              "airline                False\n",
              "flight_number          False\n",
              "origin_airport         False\n",
              "destination_airport    False\n",
              "scheduled_departure    False\n",
              "departure_time          True\n",
              "departure_delay         True\n",
              "scheduled_time          True\n",
              "elapsed_time            True\n",
              "distance               False\n",
              "scheduled_arrival      False\n",
              "arrival_time            True\n",
              "arrival_delay           True\n",
              "diverted               False\n",
              "cancelled              False\n",
              "cancellation_reason     True\n",
              "air_system_delay        True\n",
              "security_delay          True\n",
              "airline_delay           True\n",
              "late_aircraft_delay     True\n",
              "weather_delay           True\n",
              "dtype: bool"
            ]
          },
          "metadata": {
            "tags": []
          },
          "execution_count": 8
        }
      ]
    },
    {
      "cell_type": "code",
      "metadata": {
        "colab": {
          "base_uri": "https://localhost:8080/",
          "height": 379
        },
        "id": "k9GWSDmEt0n2",
        "outputId": "247e7059-9c50-41e9-f2bb-2bfa9a03c75b"
      },
      "source": [
        "#The null values in our dataset have to be treated differently\r\n",
        "#Replacing null values Nan with  Zero on specific  columns\r\n",
        "df1['air_system_delay']= df1['air_system_delay'].fillna(0)\r\n",
        "df1['security_delay'] = df1['security_delay'].fillna(0)\r\n",
        "df1['airline_delay'] = df1['airline_delay'].fillna(0)\r\n",
        "df1['late_aircraft_delay'] = df1['late_aircraft_delay'].fillna(0)\r\n",
        "df1['weather_delay'] = df1['weather_delay'].fillna(0) \r\n",
        "df1['cancellation_reason'] = df1['cancellation_reason'].fillna(0) \r\n",
        "df1.head(10)"
      ],
      "execution_count": null,
      "outputs": [
        {
          "output_type": "execute_result",
          "data": {
            "text/html": [
              "<div>\n",
              "<style scoped>\n",
              "    .dataframe tbody tr th:only-of-type {\n",
              "        vertical-align: middle;\n",
              "    }\n",
              "\n",
              "    .dataframe tbody tr th {\n",
              "        vertical-align: top;\n",
              "    }\n",
              "\n",
              "    .dataframe thead th {\n",
              "        text-align: right;\n",
              "    }\n",
              "</style>\n",
              "<table border=\"1\" class=\"dataframe\">\n",
              "  <thead>\n",
              "    <tr style=\"text-align: right;\">\n",
              "      <th></th>\n",
              "      <th>index</th>\n",
              "      <th>year</th>\n",
              "      <th>month</th>\n",
              "      <th>day</th>\n",
              "      <th>day_of_week</th>\n",
              "      <th>airline</th>\n",
              "      <th>flight_number</th>\n",
              "      <th>origin_airport</th>\n",
              "      <th>destination_airport</th>\n",
              "      <th>scheduled_departure</th>\n",
              "      <th>departure_time</th>\n",
              "      <th>departure_delay</th>\n",
              "      <th>scheduled_time</th>\n",
              "      <th>elapsed_time</th>\n",
              "      <th>distance</th>\n",
              "      <th>scheduled_arrival</th>\n",
              "      <th>arrival_time</th>\n",
              "      <th>arrival_delay</th>\n",
              "      <th>diverted</th>\n",
              "      <th>cancelled</th>\n",
              "      <th>cancellation_reason</th>\n",
              "      <th>air_system_delay</th>\n",
              "      <th>security_delay</th>\n",
              "      <th>airline_delay</th>\n",
              "      <th>late_aircraft_delay</th>\n",
              "      <th>weather_delay</th>\n",
              "    </tr>\n",
              "  </thead>\n",
              "  <tbody>\n",
              "    <tr>\n",
              "      <th>0</th>\n",
              "      <td>0</td>\n",
              "      <td>2015</td>\n",
              "      <td>1</td>\n",
              "      <td>1</td>\n",
              "      <td>4</td>\n",
              "      <td>AS</td>\n",
              "      <td>98</td>\n",
              "      <td>ANC</td>\n",
              "      <td>SEA</td>\n",
              "      <td>5</td>\n",
              "      <td>2354.0</td>\n",
              "      <td>-11.0</td>\n",
              "      <td>205.0</td>\n",
              "      <td>194.0</td>\n",
              "      <td>1448</td>\n",
              "      <td>430</td>\n",
              "      <td>408.0</td>\n",
              "      <td>-22.0</td>\n",
              "      <td>0</td>\n",
              "      <td>0</td>\n",
              "      <td>0</td>\n",
              "      <td>0.0</td>\n",
              "      <td>0.0</td>\n",
              "      <td>0.0</td>\n",
              "      <td>0.0</td>\n",
              "      <td>0.0</td>\n",
              "    </tr>\n",
              "    <tr>\n",
              "      <th>1</th>\n",
              "      <td>1</td>\n",
              "      <td>2015</td>\n",
              "      <td>1</td>\n",
              "      <td>1</td>\n",
              "      <td>4</td>\n",
              "      <td>AA</td>\n",
              "      <td>2336</td>\n",
              "      <td>LAX</td>\n",
              "      <td>PBI</td>\n",
              "      <td>10</td>\n",
              "      <td>2.0</td>\n",
              "      <td>-8.0</td>\n",
              "      <td>280.0</td>\n",
              "      <td>279.0</td>\n",
              "      <td>2330</td>\n",
              "      <td>750</td>\n",
              "      <td>741.0</td>\n",
              "      <td>-9.0</td>\n",
              "      <td>0</td>\n",
              "      <td>0</td>\n",
              "      <td>0</td>\n",
              "      <td>0.0</td>\n",
              "      <td>0.0</td>\n",
              "      <td>0.0</td>\n",
              "      <td>0.0</td>\n",
              "      <td>0.0</td>\n",
              "    </tr>\n",
              "    <tr>\n",
              "      <th>2</th>\n",
              "      <td>2</td>\n",
              "      <td>2015</td>\n",
              "      <td>1</td>\n",
              "      <td>1</td>\n",
              "      <td>4</td>\n",
              "      <td>US</td>\n",
              "      <td>840</td>\n",
              "      <td>SFO</td>\n",
              "      <td>CLT</td>\n",
              "      <td>20</td>\n",
              "      <td>18.0</td>\n",
              "      <td>-2.0</td>\n",
              "      <td>286.0</td>\n",
              "      <td>293.0</td>\n",
              "      <td>2296</td>\n",
              "      <td>806</td>\n",
              "      <td>811.0</td>\n",
              "      <td>5.0</td>\n",
              "      <td>0</td>\n",
              "      <td>0</td>\n",
              "      <td>0</td>\n",
              "      <td>0.0</td>\n",
              "      <td>0.0</td>\n",
              "      <td>0.0</td>\n",
              "      <td>0.0</td>\n",
              "      <td>0.0</td>\n",
              "    </tr>\n",
              "    <tr>\n",
              "      <th>3</th>\n",
              "      <td>3</td>\n",
              "      <td>2015</td>\n",
              "      <td>1</td>\n",
              "      <td>1</td>\n",
              "      <td>4</td>\n",
              "      <td>AA</td>\n",
              "      <td>258</td>\n",
              "      <td>LAX</td>\n",
              "      <td>MIA</td>\n",
              "      <td>20</td>\n",
              "      <td>15.0</td>\n",
              "      <td>-5.0</td>\n",
              "      <td>285.0</td>\n",
              "      <td>281.0</td>\n",
              "      <td>2342</td>\n",
              "      <td>805</td>\n",
              "      <td>756.0</td>\n",
              "      <td>-9.0</td>\n",
              "      <td>0</td>\n",
              "      <td>0</td>\n",
              "      <td>0</td>\n",
              "      <td>0.0</td>\n",
              "      <td>0.0</td>\n",
              "      <td>0.0</td>\n",
              "      <td>0.0</td>\n",
              "      <td>0.0</td>\n",
              "    </tr>\n",
              "    <tr>\n",
              "      <th>4</th>\n",
              "      <td>4</td>\n",
              "      <td>2015</td>\n",
              "      <td>1</td>\n",
              "      <td>1</td>\n",
              "      <td>4</td>\n",
              "      <td>AS</td>\n",
              "      <td>135</td>\n",
              "      <td>SEA</td>\n",
              "      <td>ANC</td>\n",
              "      <td>25</td>\n",
              "      <td>24.0</td>\n",
              "      <td>-1.0</td>\n",
              "      <td>235.0</td>\n",
              "      <td>215.0</td>\n",
              "      <td>1448</td>\n",
              "      <td>320</td>\n",
              "      <td>259.0</td>\n",
              "      <td>-21.0</td>\n",
              "      <td>0</td>\n",
              "      <td>0</td>\n",
              "      <td>0</td>\n",
              "      <td>0.0</td>\n",
              "      <td>0.0</td>\n",
              "      <td>0.0</td>\n",
              "      <td>0.0</td>\n",
              "      <td>0.0</td>\n",
              "    </tr>\n",
              "    <tr>\n",
              "      <th>5</th>\n",
              "      <td>5</td>\n",
              "      <td>2015</td>\n",
              "      <td>1</td>\n",
              "      <td>1</td>\n",
              "      <td>4</td>\n",
              "      <td>DL</td>\n",
              "      <td>806</td>\n",
              "      <td>SFO</td>\n",
              "      <td>MSP</td>\n",
              "      <td>25</td>\n",
              "      <td>20.0</td>\n",
              "      <td>-5.0</td>\n",
              "      <td>217.0</td>\n",
              "      <td>230.0</td>\n",
              "      <td>1589</td>\n",
              "      <td>602</td>\n",
              "      <td>610.0</td>\n",
              "      <td>8.0</td>\n",
              "      <td>0</td>\n",
              "      <td>0</td>\n",
              "      <td>0</td>\n",
              "      <td>0.0</td>\n",
              "      <td>0.0</td>\n",
              "      <td>0.0</td>\n",
              "      <td>0.0</td>\n",
              "      <td>0.0</td>\n",
              "    </tr>\n",
              "    <tr>\n",
              "      <th>6</th>\n",
              "      <td>6</td>\n",
              "      <td>2015</td>\n",
              "      <td>1</td>\n",
              "      <td>1</td>\n",
              "      <td>4</td>\n",
              "      <td>NK</td>\n",
              "      <td>612</td>\n",
              "      <td>LAS</td>\n",
              "      <td>MSP</td>\n",
              "      <td>25</td>\n",
              "      <td>19.0</td>\n",
              "      <td>-6.0</td>\n",
              "      <td>181.0</td>\n",
              "      <td>170.0</td>\n",
              "      <td>1299</td>\n",
              "      <td>526</td>\n",
              "      <td>509.0</td>\n",
              "      <td>-17.0</td>\n",
              "      <td>0</td>\n",
              "      <td>0</td>\n",
              "      <td>0</td>\n",
              "      <td>0.0</td>\n",
              "      <td>0.0</td>\n",
              "      <td>0.0</td>\n",
              "      <td>0.0</td>\n",
              "      <td>0.0</td>\n",
              "    </tr>\n",
              "    <tr>\n",
              "      <th>7</th>\n",
              "      <td>7</td>\n",
              "      <td>2015</td>\n",
              "      <td>1</td>\n",
              "      <td>1</td>\n",
              "      <td>4</td>\n",
              "      <td>US</td>\n",
              "      <td>2013</td>\n",
              "      <td>LAX</td>\n",
              "      <td>CLT</td>\n",
              "      <td>30</td>\n",
              "      <td>44.0</td>\n",
              "      <td>14.0</td>\n",
              "      <td>273.0</td>\n",
              "      <td>249.0</td>\n",
              "      <td>2125</td>\n",
              "      <td>803</td>\n",
              "      <td>753.0</td>\n",
              "      <td>-10.0</td>\n",
              "      <td>0</td>\n",
              "      <td>0</td>\n",
              "      <td>0</td>\n",
              "      <td>0.0</td>\n",
              "      <td>0.0</td>\n",
              "      <td>0.0</td>\n",
              "      <td>0.0</td>\n",
              "      <td>0.0</td>\n",
              "    </tr>\n",
              "    <tr>\n",
              "      <th>8</th>\n",
              "      <td>8</td>\n",
              "      <td>2015</td>\n",
              "      <td>1</td>\n",
              "      <td>1</td>\n",
              "      <td>4</td>\n",
              "      <td>AA</td>\n",
              "      <td>1112</td>\n",
              "      <td>SFO</td>\n",
              "      <td>DFW</td>\n",
              "      <td>30</td>\n",
              "      <td>19.0</td>\n",
              "      <td>-11.0</td>\n",
              "      <td>195.0</td>\n",
              "      <td>193.0</td>\n",
              "      <td>1464</td>\n",
              "      <td>545</td>\n",
              "      <td>532.0</td>\n",
              "      <td>-13.0</td>\n",
              "      <td>0</td>\n",
              "      <td>0</td>\n",
              "      <td>0</td>\n",
              "      <td>0.0</td>\n",
              "      <td>0.0</td>\n",
              "      <td>0.0</td>\n",
              "      <td>0.0</td>\n",
              "      <td>0.0</td>\n",
              "    </tr>\n",
              "    <tr>\n",
              "      <th>9</th>\n",
              "      <td>9</td>\n",
              "      <td>2015</td>\n",
              "      <td>1</td>\n",
              "      <td>1</td>\n",
              "      <td>4</td>\n",
              "      <td>DL</td>\n",
              "      <td>1173</td>\n",
              "      <td>LAS</td>\n",
              "      <td>ATL</td>\n",
              "      <td>30</td>\n",
              "      <td>33.0</td>\n",
              "      <td>3.0</td>\n",
              "      <td>221.0</td>\n",
              "      <td>203.0</td>\n",
              "      <td>1747</td>\n",
              "      <td>711</td>\n",
              "      <td>656.0</td>\n",
              "      <td>-15.0</td>\n",
              "      <td>0</td>\n",
              "      <td>0</td>\n",
              "      <td>0</td>\n",
              "      <td>0.0</td>\n",
              "      <td>0.0</td>\n",
              "      <td>0.0</td>\n",
              "      <td>0.0</td>\n",
              "      <td>0.0</td>\n",
              "    </tr>\n",
              "  </tbody>\n",
              "</table>\n",
              "</div>"
            ],
            "text/plain": [
              "   index  year  month  ...  airline_delay  late_aircraft_delay weather_delay\n",
              "0      0  2015      1  ...            0.0                  0.0           0.0\n",
              "1      1  2015      1  ...            0.0                  0.0           0.0\n",
              "2      2  2015      1  ...            0.0                  0.0           0.0\n",
              "3      3  2015      1  ...            0.0                  0.0           0.0\n",
              "4      4  2015      1  ...            0.0                  0.0           0.0\n",
              "5      5  2015      1  ...            0.0                  0.0           0.0\n",
              "6      6  2015      1  ...            0.0                  0.0           0.0\n",
              "7      7  2015      1  ...            0.0                  0.0           0.0\n",
              "8      8  2015      1  ...            0.0                  0.0           0.0\n",
              "9      9  2015      1  ...            0.0                  0.0           0.0\n",
              "\n",
              "[10 rows x 26 columns]"
            ]
          },
          "metadata": {
            "tags": []
          },
          "execution_count": 9
        }
      ]
    },
    {
      "cell_type": "code",
      "metadata": {
        "id": "eX1IsixeUDCX"
      },
      "source": [
        "# droped the remaining null values that were affecting time\r\n",
        "df1 = df1.dropna()"
      ],
      "execution_count": null,
      "outputs": []
    },
    {
      "cell_type": "code",
      "metadata": {
        "id": "WyzoKdn9bpow",
        "colab": {
          "base_uri": "https://localhost:8080/"
        },
        "outputId": "d18affcc-a040-466a-ae53-763d3d14cc35"
      },
      "source": [
        "# check if there are any more null values\r\n",
        "df1.isnull().any()"
      ],
      "execution_count": 38,
      "outputs": [
        {
          "output_type": "execute_result",
          "data": {
            "text/plain": [
              "index                  False\n",
              "year                   False\n",
              "month                  False\n",
              "day                    False\n",
              "day_of_week            False\n",
              "airline                False\n",
              "flight_number          False\n",
              "origin_airport         False\n",
              "destination_airport    False\n",
              "scheduled_departure    False\n",
              "departure_time         False\n",
              "departure_delay        False\n",
              "scheduled_time         False\n",
              "elapsed_time           False\n",
              "distance               False\n",
              "scheduled_arrival      False\n",
              "arrival_time           False\n",
              "arrival_delay          False\n",
              "diverted               False\n",
              "cancelled              False\n",
              "cancellation_reason    False\n",
              "air_system_delay       False\n",
              "security_delay         False\n",
              "airline_delay          False\n",
              "late_aircraft_delay    False\n",
              "weather_delay          False\n",
              "dtype: bool"
            ]
          },
          "metadata": {
            "tags": []
          },
          "execution_count": 38
        }
      ]
    },
    {
      "cell_type": "code",
      "metadata": {
        "id": "Blh_JEd5421m",
        "colab": {
          "base_uri": "https://localhost:8080/"
        },
        "outputId": "43185b4b-cd41-4404-bbc5-f9303e284623"
      },
      "source": [
        "# preview our columns\r\n",
        "df1.info()"
      ],
      "execution_count": null,
      "outputs": [
        {
          "output_type": "stream",
          "text": [
            "<class 'pandas.core.frame.DataFrame'>\n",
            "Int64Index: 957394 entries, 0 to 999999\n",
            "Data columns (total 26 columns):\n",
            " #   Column               Non-Null Count   Dtype  \n",
            "---  ------               --------------   -----  \n",
            " 0   index                957394 non-null  int64  \n",
            " 1   year                 957394 non-null  int64  \n",
            " 2   month                957394 non-null  int64  \n",
            " 3   day                  957394 non-null  int64  \n",
            " 4   day_of_week          957394 non-null  int64  \n",
            " 5   airline              957394 non-null  object \n",
            " 6   flight_number        957394 non-null  int64  \n",
            " 7   origin_airport       957394 non-null  object \n",
            " 8   destination_airport  957394 non-null  object \n",
            " 9   scheduled_departure  957394 non-null  int64  \n",
            " 10  departure_time       957394 non-null  float64\n",
            " 11  departure_delay      957394 non-null  float64\n",
            " 12  scheduled_time       957394 non-null  float64\n",
            " 13  elapsed_time         957394 non-null  float64\n",
            " 14  distance             957394 non-null  int64  \n",
            " 15  scheduled_arrival    957394 non-null  int64  \n",
            " 16  arrival_time         957394 non-null  float64\n",
            " 17  arrival_delay        957394 non-null  float64\n",
            " 18  diverted             957394 non-null  int64  \n",
            " 19  cancelled            957394 non-null  int64  \n",
            " 20  cancellation_reason  957394 non-null  object \n",
            " 21  air_system_delay     957394 non-null  float64\n",
            " 22  security_delay       957394 non-null  float64\n",
            " 23  airline_delay        957394 non-null  float64\n",
            " 24  late_aircraft_delay  957394 non-null  float64\n",
            " 25  weather_delay        957394 non-null  float64\n",
            "dtypes: float64(11), int64(11), object(4)\n",
            "memory usage: 197.2+ MB\n"
          ],
          "name": "stdout"
        }
      ]
    },
    {
      "cell_type": "code",
      "metadata": {
        "id": "1H8vZ1Pq5Xb1",
        "colab": {
          "base_uri": "https://localhost:8080/",
          "height": 439
        },
        "outputId": "3d3862f6-9803-4a1b-bade-38cf9d9d99a2"
      },
      "source": [
        "#Check for duplicated rows\r\n",
        "df1.duplicated()\r\n",
        "#There were no duplicates in this dataset"
      ],
      "execution_count": null,
      "outputs": [
        {
          "output_type": "execute_result",
          "data": {
            "text/html": [
              "<div>\n",
              "<style scoped>\n",
              "    .dataframe tbody tr th:only-of-type {\n",
              "        vertical-align: middle;\n",
              "    }\n",
              "\n",
              "    .dataframe tbody tr th {\n",
              "        vertical-align: top;\n",
              "    }\n",
              "\n",
              "    .dataframe thead th {\n",
              "        text-align: right;\n",
              "    }\n",
              "</style>\n",
              "<table border=\"1\" class=\"dataframe\">\n",
              "  <thead>\n",
              "    <tr style=\"text-align: right;\">\n",
              "      <th></th>\n",
              "      <th>index</th>\n",
              "      <th>year</th>\n",
              "      <th>month</th>\n",
              "      <th>day</th>\n",
              "      <th>day_of_week</th>\n",
              "      <th>airline</th>\n",
              "      <th>flight_number</th>\n",
              "      <th>origin_airport</th>\n",
              "      <th>destination_airport</th>\n",
              "      <th>scheduled_departure</th>\n",
              "      <th>departure_time</th>\n",
              "      <th>departure_delay</th>\n",
              "      <th>scheduled_time</th>\n",
              "      <th>elapsed_time</th>\n",
              "      <th>distance</th>\n",
              "      <th>scheduled_arrival</th>\n",
              "      <th>arrival_time</th>\n",
              "      <th>arrival_delay</th>\n",
              "      <th>diverted</th>\n",
              "      <th>cancelled</th>\n",
              "      <th>cancellation_reason</th>\n",
              "      <th>air_system_delay</th>\n",
              "      <th>security_delay</th>\n",
              "      <th>airline_delay</th>\n",
              "      <th>late_aircraft_delay</th>\n",
              "      <th>weather_delay</th>\n",
              "    </tr>\n",
              "  </thead>\n",
              "  <tbody>\n",
              "    <tr>\n",
              "      <th>0</th>\n",
              "      <td>0</td>\n",
              "      <td>2015</td>\n",
              "      <td>1</td>\n",
              "      <td>1</td>\n",
              "      <td>4</td>\n",
              "      <td>AS</td>\n",
              "      <td>98</td>\n",
              "      <td>ANC</td>\n",
              "      <td>SEA</td>\n",
              "      <td>5</td>\n",
              "      <td>2354.0</td>\n",
              "      <td>-11.0</td>\n",
              "      <td>205.0</td>\n",
              "      <td>194.0</td>\n",
              "      <td>1448</td>\n",
              "      <td>430</td>\n",
              "      <td>408.0</td>\n",
              "      <td>-22.0</td>\n",
              "      <td>0</td>\n",
              "      <td>0</td>\n",
              "      <td>0</td>\n",
              "      <td>0.0</td>\n",
              "      <td>0.0</td>\n",
              "      <td>0.0</td>\n",
              "      <td>0.0</td>\n",
              "      <td>0.0</td>\n",
              "    </tr>\n",
              "    <tr>\n",
              "      <th>1</th>\n",
              "      <td>1</td>\n",
              "      <td>2015</td>\n",
              "      <td>1</td>\n",
              "      <td>1</td>\n",
              "      <td>4</td>\n",
              "      <td>AA</td>\n",
              "      <td>2336</td>\n",
              "      <td>LAX</td>\n",
              "      <td>PBI</td>\n",
              "      <td>10</td>\n",
              "      <td>2.0</td>\n",
              "      <td>-8.0</td>\n",
              "      <td>280.0</td>\n",
              "      <td>279.0</td>\n",
              "      <td>2330</td>\n",
              "      <td>750</td>\n",
              "      <td>741.0</td>\n",
              "      <td>-9.0</td>\n",
              "      <td>0</td>\n",
              "      <td>0</td>\n",
              "      <td>0</td>\n",
              "      <td>0.0</td>\n",
              "      <td>0.0</td>\n",
              "      <td>0.0</td>\n",
              "      <td>0.0</td>\n",
              "      <td>0.0</td>\n",
              "    </tr>\n",
              "    <tr>\n",
              "      <th>2</th>\n",
              "      <td>2</td>\n",
              "      <td>2015</td>\n",
              "      <td>1</td>\n",
              "      <td>1</td>\n",
              "      <td>4</td>\n",
              "      <td>US</td>\n",
              "      <td>840</td>\n",
              "      <td>SFO</td>\n",
              "      <td>CLT</td>\n",
              "      <td>20</td>\n",
              "      <td>18.0</td>\n",
              "      <td>-2.0</td>\n",
              "      <td>286.0</td>\n",
              "      <td>293.0</td>\n",
              "      <td>2296</td>\n",
              "      <td>806</td>\n",
              "      <td>811.0</td>\n",
              "      <td>5.0</td>\n",
              "      <td>0</td>\n",
              "      <td>0</td>\n",
              "      <td>0</td>\n",
              "      <td>0.0</td>\n",
              "      <td>0.0</td>\n",
              "      <td>0.0</td>\n",
              "      <td>0.0</td>\n",
              "      <td>0.0</td>\n",
              "    </tr>\n",
              "    <tr>\n",
              "      <th>3</th>\n",
              "      <td>3</td>\n",
              "      <td>2015</td>\n",
              "      <td>1</td>\n",
              "      <td>1</td>\n",
              "      <td>4</td>\n",
              "      <td>AA</td>\n",
              "      <td>258</td>\n",
              "      <td>LAX</td>\n",
              "      <td>MIA</td>\n",
              "      <td>20</td>\n",
              "      <td>15.0</td>\n",
              "      <td>-5.0</td>\n",
              "      <td>285.0</td>\n",
              "      <td>281.0</td>\n",
              "      <td>2342</td>\n",
              "      <td>805</td>\n",
              "      <td>756.0</td>\n",
              "      <td>-9.0</td>\n",
              "      <td>0</td>\n",
              "      <td>0</td>\n",
              "      <td>0</td>\n",
              "      <td>0.0</td>\n",
              "      <td>0.0</td>\n",
              "      <td>0.0</td>\n",
              "      <td>0.0</td>\n",
              "      <td>0.0</td>\n",
              "    </tr>\n",
              "    <tr>\n",
              "      <th>4</th>\n",
              "      <td>4</td>\n",
              "      <td>2015</td>\n",
              "      <td>1</td>\n",
              "      <td>1</td>\n",
              "      <td>4</td>\n",
              "      <td>AS</td>\n",
              "      <td>135</td>\n",
              "      <td>SEA</td>\n",
              "      <td>ANC</td>\n",
              "      <td>25</td>\n",
              "      <td>24.0</td>\n",
              "      <td>-1.0</td>\n",
              "      <td>235.0</td>\n",
              "      <td>215.0</td>\n",
              "      <td>1448</td>\n",
              "      <td>320</td>\n",
              "      <td>259.0</td>\n",
              "      <td>-21.0</td>\n",
              "      <td>0</td>\n",
              "      <td>0</td>\n",
              "      <td>0</td>\n",
              "      <td>0.0</td>\n",
              "      <td>0.0</td>\n",
              "      <td>0.0</td>\n",
              "      <td>0.0</td>\n",
              "      <td>0.0</td>\n",
              "    </tr>\n",
              "    <tr>\n",
              "      <th>...</th>\n",
              "      <td>...</td>\n",
              "      <td>...</td>\n",
              "      <td>...</td>\n",
              "      <td>...</td>\n",
              "      <td>...</td>\n",
              "      <td>...</td>\n",
              "      <td>...</td>\n",
              "      <td>...</td>\n",
              "      <td>...</td>\n",
              "      <td>...</td>\n",
              "      <td>...</td>\n",
              "      <td>...</td>\n",
              "      <td>...</td>\n",
              "      <td>...</td>\n",
              "      <td>...</td>\n",
              "      <td>...</td>\n",
              "      <td>...</td>\n",
              "      <td>...</td>\n",
              "      <td>...</td>\n",
              "      <td>...</td>\n",
              "      <td>...</td>\n",
              "      <td>...</td>\n",
              "      <td>...</td>\n",
              "      <td>...</td>\n",
              "      <td>...</td>\n",
              "      <td>...</td>\n",
              "    </tr>\n",
              "    <tr>\n",
              "      <th>999995</th>\n",
              "      <td>999995</td>\n",
              "      <td>2015</td>\n",
              "      <td>3</td>\n",
              "      <td>7</td>\n",
              "      <td>6</td>\n",
              "      <td>OO</td>\n",
              "      <td>6396</td>\n",
              "      <td>BOI</td>\n",
              "      <td>SFO</td>\n",
              "      <td>915</td>\n",
              "      <td>912.0</td>\n",
              "      <td>-3.0</td>\n",
              "      <td>118.0</td>\n",
              "      <td>105.0</td>\n",
              "      <td>522</td>\n",
              "      <td>1013</td>\n",
              "      <td>957.0</td>\n",
              "      <td>-16.0</td>\n",
              "      <td>0</td>\n",
              "      <td>0</td>\n",
              "      <td>0</td>\n",
              "      <td>0.0</td>\n",
              "      <td>0.0</td>\n",
              "      <td>0.0</td>\n",
              "      <td>0.0</td>\n",
              "      <td>0.0</td>\n",
              "    </tr>\n",
              "    <tr>\n",
              "      <th>999996</th>\n",
              "      <td>999996</td>\n",
              "      <td>2015</td>\n",
              "      <td>3</td>\n",
              "      <td>7</td>\n",
              "      <td>6</td>\n",
              "      <td>AA</td>\n",
              "      <td>334</td>\n",
              "      <td>DFW</td>\n",
              "      <td>MFE</td>\n",
              "      <td>916</td>\n",
              "      <td>919.0</td>\n",
              "      <td>3.0</td>\n",
              "      <td>94.0</td>\n",
              "      <td>83.0</td>\n",
              "      <td>469</td>\n",
              "      <td>1050</td>\n",
              "      <td>1042.0</td>\n",
              "      <td>-8.0</td>\n",
              "      <td>0</td>\n",
              "      <td>0</td>\n",
              "      <td>0</td>\n",
              "      <td>0.0</td>\n",
              "      <td>0.0</td>\n",
              "      <td>0.0</td>\n",
              "      <td>0.0</td>\n",
              "      <td>0.0</td>\n",
              "    </tr>\n",
              "    <tr>\n",
              "      <th>999997</th>\n",
              "      <td>999997</td>\n",
              "      <td>2015</td>\n",
              "      <td>3</td>\n",
              "      <td>7</td>\n",
              "      <td>6</td>\n",
              "      <td>MQ</td>\n",
              "      <td>3641</td>\n",
              "      <td>DSM</td>\n",
              "      <td>DFW</td>\n",
              "      <td>916</td>\n",
              "      <td>939.0</td>\n",
              "      <td>23.0</td>\n",
              "      <td>124.0</td>\n",
              "      <td>112.0</td>\n",
              "      <td>624</td>\n",
              "      <td>1120</td>\n",
              "      <td>1131.0</td>\n",
              "      <td>11.0</td>\n",
              "      <td>0</td>\n",
              "      <td>0</td>\n",
              "      <td>0</td>\n",
              "      <td>0.0</td>\n",
              "      <td>0.0</td>\n",
              "      <td>0.0</td>\n",
              "      <td>0.0</td>\n",
              "      <td>0.0</td>\n",
              "    </tr>\n",
              "    <tr>\n",
              "      <th>999998</th>\n",
              "      <td>999998</td>\n",
              "      <td>2015</td>\n",
              "      <td>3</td>\n",
              "      <td>7</td>\n",
              "      <td>6</td>\n",
              "      <td>OO</td>\n",
              "      <td>5244</td>\n",
              "      <td>LAX</td>\n",
              "      <td>ASE</td>\n",
              "      <td>916</td>\n",
              "      <td>915.0</td>\n",
              "      <td>-1.0</td>\n",
              "      <td>120.0</td>\n",
              "      <td>147.0</td>\n",
              "      <td>737</td>\n",
              "      <td>1216</td>\n",
              "      <td>1242.0</td>\n",
              "      <td>26.0</td>\n",
              "      <td>0</td>\n",
              "      <td>0</td>\n",
              "      <td>0</td>\n",
              "      <td>26.0</td>\n",
              "      <td>0.0</td>\n",
              "      <td>0.0</td>\n",
              "      <td>0.0</td>\n",
              "      <td>0.0</td>\n",
              "    </tr>\n",
              "    <tr>\n",
              "      <th>999999</th>\n",
              "      <td>999999</td>\n",
              "      <td>2015</td>\n",
              "      <td>3</td>\n",
              "      <td>7</td>\n",
              "      <td>6</td>\n",
              "      <td>DL</td>\n",
              "      <td>805</td>\n",
              "      <td>MSP</td>\n",
              "      <td>LAX</td>\n",
              "      <td>917</td>\n",
              "      <td>915.0</td>\n",
              "      <td>-2.0</td>\n",
              "      <td>251.0</td>\n",
              "      <td>217.0</td>\n",
              "      <td>1535</td>\n",
              "      <td>1128</td>\n",
              "      <td>1052.0</td>\n",
              "      <td>-36.0</td>\n",
              "      <td>0</td>\n",
              "      <td>0</td>\n",
              "      <td>0</td>\n",
              "      <td>0.0</td>\n",
              "      <td>0.0</td>\n",
              "      <td>0.0</td>\n",
              "      <td>0.0</td>\n",
              "      <td>0.0</td>\n",
              "    </tr>\n",
              "  </tbody>\n",
              "</table>\n",
              "<p>957394 rows × 26 columns</p>\n",
              "</div>"
            ],
            "text/plain": [
              "         index  year  month  ...  airline_delay  late_aircraft_delay weather_delay\n",
              "0            0  2015      1  ...            0.0                  0.0           0.0\n",
              "1            1  2015      1  ...            0.0                  0.0           0.0\n",
              "2            2  2015      1  ...            0.0                  0.0           0.0\n",
              "3            3  2015      1  ...            0.0                  0.0           0.0\n",
              "4            4  2015      1  ...            0.0                  0.0           0.0\n",
              "...        ...   ...    ...  ...            ...                  ...           ...\n",
              "999995  999995  2015      3  ...            0.0                  0.0           0.0\n",
              "999996  999996  2015      3  ...            0.0                  0.0           0.0\n",
              "999997  999997  2015      3  ...            0.0                  0.0           0.0\n",
              "999998  999998  2015      3  ...            0.0                  0.0           0.0\n",
              "999999  999999  2015      3  ...            0.0                  0.0           0.0\n",
              "\n",
              "[957394 rows x 26 columns]"
            ]
          },
          "metadata": {
            "tags": []
          },
          "execution_count": 13
        }
      ]
    },
    {
      "cell_type": "code",
      "metadata": {
        "id": "syW4VY8n5dFd",
        "colab": {
          "base_uri": "https://localhost:8080/"
        },
        "outputId": "46bb944b-c6bb-4c41-8510-2c533627988f"
      },
      "source": [
        "# check for unique values\r\n",
        "df1.nunique()\r\n",
        "#No anomalies in our dataset"
      ],
      "execution_count": null,
      "outputs": [
        {
          "output_type": "execute_result",
          "data": {
            "text/plain": [
              "index                  957394\n",
              "year                        1\n",
              "month                       3\n",
              "day                        31\n",
              "day_of_week                 7\n",
              "airline                    14\n",
              "flight_number            6474\n",
              "origin_airport            315\n",
              "destination_airport       315\n",
              "scheduled_departure      1220\n",
              "departure_time           1431\n",
              "departure_delay           845\n",
              "scheduled_time            455\n",
              "elapsed_time              681\n",
              "distance                 1263\n",
              "scheduled_arrival        1332\n",
              "arrival_time             1440\n",
              "arrival_delay             870\n",
              "diverted                    1\n",
              "cancelled                   1\n",
              "cancellation_reason         1\n",
              "air_system_delay          394\n",
              "security_delay             87\n",
              "airline_delay             662\n",
              "late_aircraft_delay       504\n",
              "weather_delay             462\n",
              "dtype: int64"
            ]
          },
          "metadata": {
            "tags": []
          },
          "execution_count": 14
        }
      ]
    },
    {
      "cell_type": "code",
      "metadata": {
        "id": "rwtQ0q-mByWA"
      },
      "source": [
        "# exporting the clean dataset\r\n",
        "df1.to_csv('Aviation_clean.csv')\r\n",
        "\r\n"
      ],
      "execution_count": 39,
      "outputs": []
    },
    {
      "cell_type": "markdown",
      "metadata": {
        "id": "B3cb-CRYVjMI"
      },
      "source": [
        "##DATA ANALYSIS"
      ]
    },
    {
      "cell_type": "markdown",
      "metadata": {
        "id": "_oduEilX413V"
      },
      "source": [
        "###**which airports were prone to delays**\r\n",
        "*we count all airline\t where arrival_delay > 0*"
      ]
    },
    {
      "cell_type": "markdown",
      "metadata": {
        "id": "rv4s232rAkfg"
      },
      "source": [
        "**A) Arrivals**"
      ]
    },
    {
      "cell_type": "code",
      "metadata": {
        "colab": {
          "base_uri": "https://localhost:8080/",
          "height": 450
        },
        "id": "rg3p0AmQ5C4s",
        "outputId": "fe413109-5973-4718-f5ff-9bf649f8bfa8"
      },
      "source": [
        "#Interms of Time \r\n",
        "airports_delay=df1[df1['arrival_delay']> 0]\r\n",
        "\r\n",
        "pd.DataFrame(airports_delay.groupby(airports_delay[\"destination_airport\"])[\"arrival_delay\"].sum().sort_values(ascending=False))\r\n"
      ],
      "execution_count": null,
      "outputs": [
        {
          "output_type": "execute_result",
          "data": {
            "text/html": [
              "<div>\n",
              "<style scoped>\n",
              "    .dataframe tbody tr th:only-of-type {\n",
              "        vertical-align: middle;\n",
              "    }\n",
              "\n",
              "    .dataframe tbody tr th {\n",
              "        vertical-align: top;\n",
              "    }\n",
              "\n",
              "    .dataframe thead th {\n",
              "        text-align: right;\n",
              "    }\n",
              "</style>\n",
              "<table border=\"1\" class=\"dataframe\">\n",
              "  <thead>\n",
              "    <tr style=\"text-align: right;\">\n",
              "      <th></th>\n",
              "      <th>arrival_delay</th>\n",
              "    </tr>\n",
              "    <tr>\n",
              "      <th>destination_airport</th>\n",
              "      <th></th>\n",
              "    </tr>\n",
              "  </thead>\n",
              "  <tbody>\n",
              "    <tr>\n",
              "      <th>ORD</th>\n",
              "      <td>1053452.0</td>\n",
              "    </tr>\n",
              "    <tr>\n",
              "      <th>DFW</th>\n",
              "      <td>784661.0</td>\n",
              "    </tr>\n",
              "    <tr>\n",
              "      <th>ATL</th>\n",
              "      <td>764688.0</td>\n",
              "    </tr>\n",
              "    <tr>\n",
              "      <th>DEN</th>\n",
              "      <td>572782.0</td>\n",
              "    </tr>\n",
              "    <tr>\n",
              "      <th>LAX</th>\n",
              "      <td>482743.0</td>\n",
              "    </tr>\n",
              "    <tr>\n",
              "      <th>...</th>\n",
              "      <td>...</td>\n",
              "    </tr>\n",
              "    <tr>\n",
              "      <th>CNY</th>\n",
              "      <td>277.0</td>\n",
              "    </tr>\n",
              "    <tr>\n",
              "      <th>VEL</th>\n",
              "      <td>147.0</td>\n",
              "    </tr>\n",
              "    <tr>\n",
              "      <th>PPG</th>\n",
              "      <td>104.0</td>\n",
              "    </tr>\n",
              "    <tr>\n",
              "      <th>ADK</th>\n",
              "      <td>76.0</td>\n",
              "    </tr>\n",
              "    <tr>\n",
              "      <th>ITH</th>\n",
              "      <td>69.0</td>\n",
              "    </tr>\n",
              "  </tbody>\n",
              "</table>\n",
              "<p>315 rows × 1 columns</p>\n",
              "</div>"
            ],
            "text/plain": [
              "                     arrival_delay\n",
              "destination_airport               \n",
              "ORD                      1053452.0\n",
              "DFW                       784661.0\n",
              "ATL                       764688.0\n",
              "DEN                       572782.0\n",
              "LAX                       482743.0\n",
              "...                            ...\n",
              "CNY                          277.0\n",
              "VEL                          147.0\n",
              "PPG                          104.0\n",
              "ADK                           76.0\n",
              "ITH                           69.0\n",
              "\n",
              "[315 rows x 1 columns]"
            ]
          },
          "metadata": {
            "tags": []
          },
          "execution_count": 15
        }
      ]
    },
    {
      "cell_type": "code",
      "metadata": {
        "colab": {
          "base_uri": "https://localhost:8080/",
          "height": 450
        },
        "id": "tBOdDQLt-v7s",
        "outputId": "6cebfd8c-de69-4d10-d24e-5ae084abe2ae"
      },
      "source": [
        "#Interms of Incidences\r\n",
        "airports_delay=df1[df1['arrival_delay']> 0]\r\n",
        "\r\n",
        "pd.DataFrame(airports_delay.groupby(airports_delay[\"destination_airport\"])[\"arrival_delay\"].count().sort_values(ascending=False))"
      ],
      "execution_count": null,
      "outputs": [
        {
          "output_type": "execute_result",
          "data": {
            "text/html": [
              "<div>\n",
              "<style scoped>\n",
              "    .dataframe tbody tr th:only-of-type {\n",
              "        vertical-align: middle;\n",
              "    }\n",
              "\n",
              "    .dataframe tbody tr th {\n",
              "        vertical-align: top;\n",
              "    }\n",
              "\n",
              "    .dataframe thead th {\n",
              "        text-align: right;\n",
              "    }\n",
              "</style>\n",
              "<table border=\"1\" class=\"dataframe\">\n",
              "  <thead>\n",
              "    <tr style=\"text-align: right;\">\n",
              "      <th></th>\n",
              "      <th>arrival_delay</th>\n",
              "    </tr>\n",
              "    <tr>\n",
              "      <th>destination_airport</th>\n",
              "      <th></th>\n",
              "    </tr>\n",
              "  </thead>\n",
              "  <tbody>\n",
              "    <tr>\n",
              "      <th>ORD</th>\n",
              "      <td>24170</td>\n",
              "    </tr>\n",
              "    <tr>\n",
              "      <th>ATL</th>\n",
              "      <td>21338</td>\n",
              "    </tr>\n",
              "    <tr>\n",
              "      <th>DFW</th>\n",
              "      <td>19657</td>\n",
              "    </tr>\n",
              "    <tr>\n",
              "      <th>DEN</th>\n",
              "      <td>15837</td>\n",
              "    </tr>\n",
              "    <tr>\n",
              "      <th>LAX</th>\n",
              "      <td>14682</td>\n",
              "    </tr>\n",
              "    <tr>\n",
              "      <th>...</th>\n",
              "      <td>...</td>\n",
              "    </tr>\n",
              "    <tr>\n",
              "      <th>BGR</th>\n",
              "      <td>13</td>\n",
              "    </tr>\n",
              "    <tr>\n",
              "      <th>CNY</th>\n",
              "      <td>12</td>\n",
              "    </tr>\n",
              "    <tr>\n",
              "      <th>PPG</th>\n",
              "      <td>10</td>\n",
              "    </tr>\n",
              "    <tr>\n",
              "      <th>ADK</th>\n",
              "      <td>3</td>\n",
              "    </tr>\n",
              "    <tr>\n",
              "      <th>ITH</th>\n",
              "      <td>2</td>\n",
              "    </tr>\n",
              "  </tbody>\n",
              "</table>\n",
              "<p>315 rows × 1 columns</p>\n",
              "</div>"
            ],
            "text/plain": [
              "                     arrival_delay\n",
              "destination_airport               \n",
              "ORD                          24170\n",
              "ATL                          21338\n",
              "DFW                          19657\n",
              "DEN                          15837\n",
              "LAX                          14682\n",
              "...                            ...\n",
              "BGR                             13\n",
              "CNY                             12\n",
              "PPG                             10\n",
              "ADK                              3\n",
              "ITH                              2\n",
              "\n",
              "[315 rows x 1 columns]"
            ]
          },
          "metadata": {
            "tags": []
          },
          "execution_count": 16
        }
      ]
    },
    {
      "cell_type": "markdown",
      "metadata": {
        "id": "L-0kYl8X8s2f"
      },
      "source": [
        "**Graphical Presentation**"
      ]
    },
    {
      "cell_type": "markdown",
      "metadata": {
        "id": "JgwSZTI-_Zes"
      },
      "source": [
        "### **Quiz 1 Air_Ports**\r\n"
      ]
    },
    {
      "cell_type": "markdown",
      "metadata": {
        "id": "8It-abdKE7pn"
      },
      "source": [
        "**A) Arrivals**"
      ]
    },
    {
      "cell_type": "code",
      "metadata": {
        "colab": {
          "base_uri": "https://localhost:8080/",
          "height": 290
        },
        "id": "rAieU9gJ8qd5",
        "outputId": "d1558224-c932-49f0-9649-18eae25ada89"
      },
      "source": [
        "import matplotlib.pyplot as plt\r\n",
        "\r\n",
        "#Interms of incidence Time\r\n",
        "fig, axs = plt.subplots(figsize=(12, 4))\r\n",
        "\r\n",
        "airports_delay=df1[df1['arrival_delay']> 0]\r\n",
        "airports_delay.groupby(airports_delay[\"destination_airport\"])[\"arrival_delay\"].sum().sort_values(ascending=False).head(20).plot(kind='bar', rot=0, ax=axs)\r\n",
        " \r\n",
        "plt.xlabel(\"AirPort\");  # custom x label using matplotlib\r\n",
        "\r\n",
        "plt.ylabel(\"Delay time\");"
      ],
      "execution_count": null,
      "outputs": [
        {
          "output_type": "display_data",
          "data": {
            "image/png": "[encoded data removed]",
            "text/plain": [
              "<Figure size 864x288 with 1 Axes>"
            ]
          },
          "metadata": {
            "tags": [],
            "needs_background": "light"
          }
        }
      ]
    },
    {
      "cell_type": "code",
      "metadata": {
        "colab": {
          "base_uri": "https://localhost:8080/",
          "height": 290
        },
        "id": "hpHpaKbICSMo",
        "outputId": "529d362f-5c4b-4ba9-bf0c-f6620a30ed88"
      },
      "source": [
        "#Interms of incidence count\r\n",
        "fig, axs = plt.subplots(figsize=(12, 4))\r\n",
        "\r\n",
        "airports_delay=df1[df1['arrival_delay']> 0]\r\n",
        "airports_delay.groupby(airports_delay[\"destination_airport\"])[\"arrival_delay\"].sum().sort_values(ascending=False).head(20).plot(kind='bar', rot=0, ax=axs)\r\n",
        " \r\n",
        "plt.xlabel(\"AirPort\");  # custom x label using matplotlib\r\n",
        "\r\n",
        "plt.ylabel(\"Delay Incidencies\");"
      ],
      "execution_count": null,
      "outputs": [
        {
          "output_type": "display_data",
          "data": {
            "image/png": "[encoded data removed]",
            "text/plain": [
              "<Figure size 864x288 with 1 Axes>"
            ]
          },
          "metadata": {
            "tags": [],
            "needs_background": "light"
          }
        }
      ]
    },
    {
      "cell_type": "markdown",
      "metadata": {
        "id": "0soF_F3wA9bv"
      },
      "source": [
        "**B) Depatures**"
      ]
    },
    {
      "cell_type": "code",
      "metadata": {
        "colab": {
          "base_uri": "https://localhost:8080/",
          "height": 290
        },
        "id": "2c2Ef4aaBEHz",
        "outputId": "874c52eb-7de8-42a4-c216-e70ed08df6dc"
      },
      "source": [
        "#Depatures Interms of Time\r\n",
        "fig, axs = plt.subplots(figsize=(12, 4))\r\n",
        "\r\n",
        "airports_departure_delay=df1[df1['departure_delay']> 0]\r\n",
        "airports_departure_delay.groupby(airports_departure_delay[\"origin_airport\"])[\"departure_delay\"].sum().sort_values(ascending=False).head(20).plot(kind='bar', rot=0, ax=axs)\r\n",
        " \r\n",
        "plt.xlabel(\"AirPort\");  # custom x label using matplotlib\r\n",
        "\r\n",
        "plt.ylabel(\"Delay time\");"
      ],
      "execution_count": null,
      "outputs": [
        {
          "output_type": "display_data",
          "data": {
            "image/png": "[encoded data removed]",
            "text/plain": [
              "<Figure size 864x288 with 1 Axes>"
            ]
          },
          "metadata": {
            "tags": [],
            "needs_background": "light"
          }
        }
      ]
    },
    {
      "cell_type": "code",
      "metadata": {
        "colab": {
          "base_uri": "https://localhost:8080/",
          "height": 279
        },
        "id": "6MPIiKLbC-m7",
        "outputId": "b8c64905-d479-4436-c649-525370d53c7e"
      },
      "source": [
        "#Depatures Interms of count\r\n",
        "fig, axs = plt.subplots(figsize=(12, 4))\r\n",
        "\r\n",
        "airports_departure_delay=df1[df1['departure_delay']> 0]\r\n",
        "airports_departure_delay.groupby(airports_departure_delay[\"origin_airport\"])[\"departure_delay\"].count().sort_values(ascending=False).head(20).plot(kind='bar', rot=0, ax=axs)\r\n",
        " \r\n",
        "plt.xlabel(\"AirPort\");  # custom x label using matplotlib\r\n",
        "\r\n",
        "plt.ylabel(\"Delay Incidences\");"
      ],
      "execution_count": null,
      "outputs": [
        {
          "output_type": "display_data",
          "data": {
            "image/png": "[encoded data removed]",
            "text/plain": [
              "<Figure size 864x288 with 1 Axes>"
            ]
          },
          "metadata": {
            "tags": [],
            "needs_background": "light"
          }
        }
      ]
    },
    {
      "cell_type": "markdown",
      "metadata": {
        "id": "9HdZKFTzDe6o"
      },
      "source": [
        "###**Quiz 2 Specific AIR LINE**"
      ]
    },
    {
      "cell_type": "markdown",
      "metadata": {
        "id": "T2IXjR5pHfF9"
      },
      "source": [
        "**A)Depatures**"
      ]
    },
    {
      "cell_type": "code",
      "metadata": {
        "colab": {
          "base_uri": "https://localhost:8080/",
          "height": 290
        },
        "id": "RbZU0Un8Dtsw",
        "outputId": "52b99c12-e362-4627-8dbd-faee6f9b2e62"
      },
      "source": [
        "#Depatures  for a specific Air_Line Interms of Time\r\n",
        "\r\n",
        "fig, axs = plt.subplots(figsize=(12, 4))\r\n",
        "\r\n",
        "airports_departure_delay=df1[df1['departure_delay']> 0]\r\n",
        "\r\n",
        "airports_departure_delay.groupby(airports_delay[\"airline\"])[\"departure_delay\"].sum().sort_values(ascending=False).head(20).plot(kind='bar', rot=0, ax=axs)\r\n",
        " \r\n",
        "plt.xlabel(\"Airline\");  # custom x label using matplotlib\r\n",
        "\r\n",
        "plt.ylabel(\"Delay time\");"
      ],
      "execution_count": null,
      "outputs": [
        {
          "output_type": "display_data",
          "data": {
            "image/png": "[encoded data removed]",
            "text/plain": [
              "<Figure size 864x288 with 1 Axes>"
            ]
          },
          "metadata": {
            "tags": [],
            "needs_background": "light"
          }
        }
      ]
    },
    {
      "cell_type": "code",
      "metadata": {
        "colab": {
          "base_uri": "https://localhost:8080/",
          "height": 279
        },
        "id": "JzDhDmUTIWHr",
        "outputId": "68cd4ec2-80ee-4bd7-9f74-f89e22f34283"
      },
      "source": [
        "#Depatures  for a specific Air_Line Interms of Incidences\r\n",
        "\r\n",
        "fig, axs = plt.subplots(figsize=(12, 4))\r\n",
        "\r\n",
        "airports_departure_delay=df1[df1['departure_delay']> 0]\r\n",
        "airports_departure_delay.groupby(airports_delay[\"airline\"])[\"departure_delay\"].count().sort_values(ascending=False).head(20).plot(kind='bar', rot=0, ax=axs)\r\n",
        " \r\n",
        "plt.xlabel(\"Airline\");  # custom x label using matplotlib\r\n",
        "\r\n",
        "plt.ylabel(\"Delay Incidencies\");"
      ],
      "execution_count": null,
      "outputs": [
        {
          "output_type": "display_data",
          "data": {
            "image/png": "[encoded data removed]",
            "text/plain": [
              "<Figure size 864x288 with 1 Axes>"
            ]
          },
          "metadata": {
            "tags": [],
            "needs_background": "light"
          }
        }
      ]
    },
    {
      "cell_type": "markdown",
      "metadata": {
        "id": "yw571f-YH9Qp"
      },
      "source": [
        "**B)Arrivals**"
      ]
    },
    {
      "cell_type": "code",
      "metadata": {
        "colab": {
          "base_uri": "https://localhost:8080/",
          "height": 290
        },
        "id": "EiHlHJAMEaS0",
        "outputId": "ee3b7332-58ea-4596-8a9e-3e24c209f3ac"
      },
      "source": [
        "#Arrivals  for a specific Air_Line Interms of Time\r\n",
        "\r\n",
        "fig, axs = plt.subplots(figsize=(12, 4))\r\n",
        "\r\n",
        "airports_delay=df1[df1['arrival_delay']> 0]\r\n",
        "airports_delay.groupby(airports_delay[\"airline\"])[\"arrival_delay\"].sum().sort_values(ascending=False).head(20).plot(kind='bar', rot=0, ax=axs)\r\n",
        " \r\n",
        "plt.xlabel(\"airline\");  # custom x label using matplotlib\r\n",
        "\r\n",
        "plt.ylabel(\"Arrival Delay time\");"
      ],
      "execution_count": null,
      "outputs": [
        {
          "output_type": "display_data",
          "data": {
            "image/png": "[encoded data removed]",
            "text/plain": [
              "<Figure size 864x288 with 1 Axes>"
            ]
          },
          "metadata": {
            "tags": [],
            "needs_background": "light"
          }
        }
      ]
    },
    {
      "cell_type": "code",
      "metadata": {
        "colab": {
          "base_uri": "https://localhost:8080/",
          "height": 279
        },
        "id": "6H4SnosfIpF_",
        "outputId": "ab0f3a69-24ef-44a3-dff6-b1ee48d860c4"
      },
      "source": [
        "#Arrivals  for a specific Air_Line Interms of Incidencies\r\n",
        "\r\n",
        "fig, axs = plt.subplots(figsize=(12, 4))\r\n",
        "\r\n",
        "airports_delay=df1[df1['arrival_delay']> 0]\r\n",
        "airports_delay.groupby(airports_delay[\"airline\"])[\"arrival_delay\"].count().sort_values(ascending=False).head(20).plot(kind='bar', rot=0, ax=axs)\r\n",
        " \r\n",
        "plt.xlabel(\"airline\");  # custom x label using matplotlib\r\n",
        "\r\n",
        "plt.ylabel(\"Arrival Delay Incidencies\");"
      ],
      "execution_count": null,
      "outputs": [
        {
          "output_type": "display_data",
          "data": {
            "image/png": "[encoded data removed]",
            "text/plain": [
              "<Figure size 864x288 with 1 Axes>"
            ]
          },
          "metadata": {
            "tags": [],
            "needs_background": "light"
          }
        }
      ]
    },
    {
      "cell_type": "markdown",
      "metadata": {
        "id": "59j_fTEGJJ3j"
      },
      "source": [
        "###**Quiz 3 Delays per Day of the Week**"
      ]
    },
    {
      "cell_type": "markdown",
      "metadata": {
        "id": "CrRdFAUeJyTO"
      },
      "source": [
        "**A) Arrival**"
      ]
    },
    {
      "cell_type": "code",
      "metadata": {
        "colab": {
          "base_uri": "https://localhost:8080/",
          "height": 279
        },
        "id": "ikpxFG4YJvb-",
        "outputId": "3ca60ceb-43d6-44c4-cc19-c75676d2352e"
      },
      "source": [
        "#Arrivals  for a specific day of the week Interms of Incidencies\r\n",
        "\r\n",
        "fig, axs = plt.subplots(figsize=(12, 4))\r\n",
        "\r\n",
        "airports_delay=df1[df1['arrival_delay']> 0]\r\n",
        "airports_delay.groupby(airports_delay[\"day_of_week\"])[\"arrival_delay\"].count().sort_values(ascending=True).head(20).plot(kind='bar', rot=0, ax=axs)\r\n",
        " \r\n",
        "plt.xlabel(\"Day of the Week\");  # custom x label using matplotlib\r\n",
        "\r\n",
        "plt.ylabel(\"Arrival Delay Incidencies\");"
      ],
      "execution_count": null,
      "outputs": [
        {
          "output_type": "display_data",
          "data": {
            "image/png": "[encoded data removed]",
            "text/plain": [
              "<Figure size 864x288 with 1 Axes>"
            ]
          },
          "metadata": {
            "tags": [],
            "needs_background": "light"
          }
        }
      ]
    },
    {
      "cell_type": "code",
      "metadata": {
        "colab": {
          "base_uri": "https://localhost:8080/",
          "height": 290
        },
        "id": "uIAXBBeOLLlD",
        "outputId": "fa85b2c7-4bca-43cf-9bc4-671800c78cc4"
      },
      "source": [
        "#Arrivals  for a specific day of the week Interms of Time\r\n",
        "\r\n",
        "fig, axs = plt.subplots(figsize=(12, 4))\r\n",
        "\r\n",
        "airports_delay=df1[df1['arrival_delay']> 0]\r\n",
        "airports_delay.groupby(airports_delay[\"day_of_week\"])[\"arrival_delay\"].sum().sort_values(ascending=True).head(20).plot(kind='bar', rot=0, ax=axs)\r\n",
        " \r\n",
        "plt.xlabel(\"Day of the Week\");  # custom x label using matplotlib\r\n",
        "\r\n",
        "plt.ylabel(\"Arrival Delay Time\");"
      ],
      "execution_count": null,
      "outputs": [
        {
          "output_type": "display_data",
          "data": {
            "image/png": "[encoded data removed]",
            "text/plain": [
              "<Figure size 864x288 with 1 Axes>"
            ]
          },
          "metadata": {
            "tags": [],
            "needs_background": "light"
          }
        }
      ]
    },
    {
      "cell_type": "markdown",
      "metadata": {
        "id": "3xVBHicvK9ln"
      },
      "source": [
        "**B)Depatures**"
      ]
    },
    {
      "cell_type": "code",
      "metadata": {
        "colab": {
          "base_uri": "https://localhost:8080/",
          "height": 281
        },
        "id": "mMaQ8tXxLFcR",
        "outputId": "4a619863-a833-4d16-effc-91ecd3084ffa"
      },
      "source": [
        "#Depatures  for a specific day of the week in terms of Incidences\r\n",
        "\r\n",
        "fig, axs = plt.subplots(figsize=(12, 4))\r\n",
        "\r\n",
        "airports_departure_delay=df1[df1['departure_delay']> 0]\r\n",
        "airports_departure_delay.groupby(airports_departure_delay[\"day_of_week\"])[\"departure_delay\"].count().sort_values(ascending=True).head(20).plot(kind='bar', rot=0, ax=axs)\r\n",
        " \r\n",
        "plt.xlabel(\"Day of the week\");  # custom x label using matplotlib\r\n",
        "\r\n",
        "plt.ylabel(\"Depature Delay Incidencies\");"
      ],
      "execution_count": null,
      "outputs": [
        {
          "output_type": "display_data",
          "data": {
            "image/png": "[encoded data removed]",
            "text/plain": [
              "<Figure size 864x288 with 1 Axes>"
            ]
          },
          "metadata": {
            "tags": [],
            "needs_background": "light"
          }
        }
      ]
    },
    {
      "cell_type": "code",
      "metadata": {
        "colab": {
          "base_uri": "https://localhost:8080/",
          "height": 290
        },
        "id": "XNKkctlEMR_b",
        "outputId": "727cda04-84ed-4173-bc87-6a1b7402b9d8"
      },
      "source": [
        "#Depatures  for a specific day of the week in terms of Time\r\n",
        "\r\n",
        "fig, axs = plt.subplots(figsize=(12, 4))\r\n",
        "\r\n",
        "airports_departure_delay=df1[df1['departure_delay']> 0]\r\n",
        "airports_departure_delay.groupby(airports_departure_delay[\"day_of_week\"])[\"departure_delay\"].sum().sort_values(ascending=True).head(20).plot(kind='bar', rot=0, ax=axs)\r\n",
        " \r\n",
        "plt.xlabel(\"Day of the week\");  # custom x label using matplotlib\r\n",
        "\r\n",
        "plt.ylabel(\"Depature Delay time\");"
      ],
      "execution_count": null,
      "outputs": [
        {
          "output_type": "display_data",
          "data": {
            "image/png": "[encoded data removed]",
            "text/plain": [
              "<Figure size 864x288 with 1 Axes>"
            ]
          },
          "metadata": {
            "tags": [],
            "needs_background": "light"
          }
        }
      ]
    },
    {
      "cell_type": "markdown",
      "metadata": {
        "id": "XihSsjPEM4oo"
      },
      "source": [
        "###**Quiz 4(a) Relative Depature delay  AirPort**"
      ]
    },
    {
      "cell_type": "code",
      "metadata": {
        "colab": {
          "base_uri": "https://localhost:8080/",
          "height": 700
        },
        "id": "tUPeBFZzNNAt",
        "outputId": "3682897f-e21c-45e6-ed1d-81846887571c"
      },
      "source": [
        "#airports_departure_delay=df1[df1['departure_delay']> 0]\r\n",
        "Mean_delay_time=airports_departure_delay.groupby(airports_departure_delay[\"origin_airport\"])[\"departure_delay\"].mean()\r\n",
        "pd.DataFrame(Mean_delay_time.sort_values(ascending=False).head(20))\r\n"
      ],
      "execution_count": null,
      "outputs": [
        {
          "output_type": "execute_result",
          "data": {
            "text/html": [
              "<div>\n",
              "<style scoped>\n",
              "    .dataframe tbody tr th:only-of-type {\n",
              "        vertical-align: middle;\n",
              "    }\n",
              "\n",
              "    .dataframe tbody tr th {\n",
              "        vertical-align: top;\n",
              "    }\n",
              "\n",
              "    .dataframe thead th {\n",
              "        text-align: right;\n",
              "    }\n",
              "</style>\n",
              "<table border=\"1\" class=\"dataframe\">\n",
              "  <thead>\n",
              "    <tr style=\"text-align: right;\">\n",
              "      <th></th>\n",
              "      <th>departure_delay</th>\n",
              "    </tr>\n",
              "    <tr>\n",
              "      <th>origin_airport</th>\n",
              "      <th></th>\n",
              "    </tr>\n",
              "  </thead>\n",
              "  <tbody>\n",
              "    <tr>\n",
              "      <th>VEL</th>\n",
              "      <td>164.375000</td>\n",
              "    </tr>\n",
              "    <tr>\n",
              "      <th>PIH</th>\n",
              "      <td>135.500000</td>\n",
              "    </tr>\n",
              "    <tr>\n",
              "      <th>BGR</th>\n",
              "      <td>125.750000</td>\n",
              "    </tr>\n",
              "    <tr>\n",
              "      <th>PLN</th>\n",
              "      <td>121.136364</td>\n",
              "    </tr>\n",
              "    <tr>\n",
              "      <th>ABR</th>\n",
              "      <td>100.285714</td>\n",
              "    </tr>\n",
              "    <tr>\n",
              "      <th>BJI</th>\n",
              "      <td>99.187500</td>\n",
              "    </tr>\n",
              "    <tr>\n",
              "      <th>INL</th>\n",
              "      <td>95.631579</td>\n",
              "    </tr>\n",
              "    <tr>\n",
              "      <th>ESC</th>\n",
              "      <td>95.217391</td>\n",
              "    </tr>\n",
              "    <tr>\n",
              "      <th>SMX</th>\n",
              "      <td>94.657143</td>\n",
              "    </tr>\n",
              "    <tr>\n",
              "      <th>APN</th>\n",
              "      <td>81.937500</td>\n",
              "    </tr>\n",
              "    <tr>\n",
              "      <th>DIK</th>\n",
              "      <td>80.480000</td>\n",
              "    </tr>\n",
              "    <tr>\n",
              "      <th>PAH</th>\n",
              "      <td>77.884615</td>\n",
              "    </tr>\n",
              "    <tr>\n",
              "      <th>ACV</th>\n",
              "      <td>77.849462</td>\n",
              "    </tr>\n",
              "    <tr>\n",
              "      <th>CEC</th>\n",
              "      <td>76.139535</td>\n",
              "    </tr>\n",
              "    <tr>\n",
              "      <th>HOB</th>\n",
              "      <td>75.000000</td>\n",
              "    </tr>\n",
              "    <tr>\n",
              "      <th>EAU</th>\n",
              "      <td>74.757576</td>\n",
              "    </tr>\n",
              "    <tr>\n",
              "      <th>TTN</th>\n",
              "      <td>70.256228</td>\n",
              "    </tr>\n",
              "    <tr>\n",
              "      <th>ILG</th>\n",
              "      <td>68.413793</td>\n",
              "    </tr>\n",
              "    <tr>\n",
              "      <th>EKO</th>\n",
              "      <td>66.500000</td>\n",
              "    </tr>\n",
              "    <tr>\n",
              "      <th>STC</th>\n",
              "      <td>66.074074</td>\n",
              "    </tr>\n",
              "  </tbody>\n",
              "</table>\n",
              "</div>"
            ],
            "text/plain": [
              "                departure_delay\n",
              "origin_airport                 \n",
              "VEL                  164.375000\n",
              "PIH                  135.500000\n",
              "BGR                  125.750000\n",
              "PLN                  121.136364\n",
              "ABR                  100.285714\n",
              "BJI                   99.187500\n",
              "INL                   95.631579\n",
              "ESC                   95.217391\n",
              "SMX                   94.657143\n",
              "APN                   81.937500\n",
              "DIK                   80.480000\n",
              "PAH                   77.884615\n",
              "ACV                   77.849462\n",
              "CEC                   76.139535\n",
              "HOB                   75.000000\n",
              "EAU                   74.757576\n",
              "TTN                   70.256228\n",
              "ILG                   68.413793\n",
              "EKO                   66.500000\n",
              "STC                   66.074074"
            ]
          },
          "metadata": {
            "tags": []
          },
          "execution_count": 29
        }
      ]
    },
    {
      "cell_type": "markdown",
      "metadata": {
        "id": "AAWnnIOc5obg"
      },
      "source": [
        "###**Quiz 4 (b) Relative Depature delay Time Air Line**"
      ]
    },
    {
      "cell_type": "code",
      "metadata": {
        "colab": {
          "base_uri": "https://localhost:8080/",
          "height": 491
        },
        "id": "37_rPGXB5f9U",
        "outputId": "95124fa4-70c6-446d-ee9a-204a20caa4be"
      },
      "source": [
        "#airports_departure_delay=df1[df1['departure_delay']> 0]\r\n",
        "Mean_delay_time=airports_departure_delay.groupby(airports_departure_delay[\"airline\"])[\"departure_delay\"].mean()\r\n",
        "pd.DataFrame(Mean_delay_time.sort_values(ascending=False).head(20))\r\n"
      ],
      "execution_count": null,
      "outputs": [
        {
          "output_type": "execute_result",
          "data": {
            "text/html": [
              "<div>\n",
              "<style scoped>\n",
              "    .dataframe tbody tr th:only-of-type {\n",
              "        vertical-align: middle;\n",
              "    }\n",
              "\n",
              "    .dataframe tbody tr th {\n",
              "        vertical-align: top;\n",
              "    }\n",
              "\n",
              "    .dataframe thead th {\n",
              "        text-align: right;\n",
              "    }\n",
              "</style>\n",
              "<table border=\"1\" class=\"dataframe\">\n",
              "  <thead>\n",
              "    <tr style=\"text-align: right;\">\n",
              "      <th></th>\n",
              "      <th>departure_delay</th>\n",
              "    </tr>\n",
              "    <tr>\n",
              "      <th>airline</th>\n",
              "      <th></th>\n",
              "    </tr>\n",
              "  </thead>\n",
              "  <tbody>\n",
              "    <tr>\n",
              "      <th>F9</th>\n",
              "      <td>53.962710</td>\n",
              "    </tr>\n",
              "    <tr>\n",
              "      <th>MQ</th>\n",
              "      <td>43.530810</td>\n",
              "    </tr>\n",
              "    <tr>\n",
              "      <th>OO</th>\n",
              "      <td>43.015692</td>\n",
              "    </tr>\n",
              "    <tr>\n",
              "      <th>B6</th>\n",
              "      <td>42.817037</td>\n",
              "    </tr>\n",
              "    <tr>\n",
              "      <th>NK</th>\n",
              "      <td>41.500891</td>\n",
              "    </tr>\n",
              "    <tr>\n",
              "      <th>EV</th>\n",
              "      <td>40.261466</td>\n",
              "    </tr>\n",
              "    <tr>\n",
              "      <th>AA</th>\n",
              "      <td>35.667925</td>\n",
              "    </tr>\n",
              "    <tr>\n",
              "      <th>VX</th>\n",
              "      <td>35.529562</td>\n",
              "    </tr>\n",
              "    <tr>\n",
              "      <th>DL</th>\n",
              "      <td>31.662137</td>\n",
              "    </tr>\n",
              "    <tr>\n",
              "      <th>AS</th>\n",
              "      <td>29.850225</td>\n",
              "    </tr>\n",
              "    <tr>\n",
              "      <th>UA</th>\n",
              "      <td>29.779306</td>\n",
              "    </tr>\n",
              "    <tr>\n",
              "      <th>US</th>\n",
              "      <td>29.648796</td>\n",
              "    </tr>\n",
              "    <tr>\n",
              "      <th>WN</th>\n",
              "      <td>25.686367</td>\n",
              "    </tr>\n",
              "    <tr>\n",
              "      <th>HA</th>\n",
              "      <td>17.742550</td>\n",
              "    </tr>\n",
              "  </tbody>\n",
              "</table>\n",
              "</div>"
            ],
            "text/plain": [
              "         departure_delay\n",
              "airline                 \n",
              "F9             53.962710\n",
              "MQ             43.530810\n",
              "OO             43.015692\n",
              "B6             42.817037\n",
              "NK             41.500891\n",
              "EV             40.261466\n",
              "AA             35.667925\n",
              "VX             35.529562\n",
              "DL             31.662137\n",
              "AS             29.850225\n",
              "UA             29.779306\n",
              "US             29.648796\n",
              "WN             25.686367\n",
              "HA             17.742550"
            ]
          },
          "metadata": {
            "tags": []
          },
          "execution_count": 52
        }
      ]
    },
    {
      "cell_type": "markdown",
      "metadata": {
        "id": "FExM61A56294"
      },
      "source": [
        "###**Quiz 4 (c) Relative Arrival delay Airport**"
      ]
    },
    {
      "cell_type": "code",
      "metadata": {
        "colab": {
          "base_uri": "https://localhost:8080/",
          "height": 545
        },
        "id": "r6C8QbK16-ea",
        "outputId": "93ae6347-9f02-484b-dfe6-ab73e1c889ed"
      },
      "source": [
        "airports_arrival_delay=df1[df1['arrival_delay']> 0]\r\n",
        "Mean_delay_time_Arrival_Airport=airports_arrival_delay.groupby(airports_arrival_delay[\"destination_airport\"])[\"arrival_delay\"].mean()\r\n",
        "pd.DataFrame(Mean_delay_time_Arrival_Airport.sort_values(ascending=False)).head(15)"
      ],
      "execution_count": null,
      "outputs": [
        {
          "output_type": "execute_result",
          "data": {
            "text/html": [
              "<div>\n",
              "<style scoped>\n",
              "    .dataframe tbody tr th:only-of-type {\n",
              "        vertical-align: middle;\n",
              "    }\n",
              "\n",
              "    .dataframe tbody tr th {\n",
              "        vertical-align: top;\n",
              "    }\n",
              "\n",
              "    .dataframe thead th {\n",
              "        text-align: right;\n",
              "    }\n",
              "</style>\n",
              "<table border=\"1\" class=\"dataframe\">\n",
              "  <thead>\n",
              "    <tr style=\"text-align: right;\">\n",
              "      <th></th>\n",
              "      <th>arrival_delay</th>\n",
              "    </tr>\n",
              "    <tr>\n",
              "      <th>destination_airport</th>\n",
              "      <th></th>\n",
              "    </tr>\n",
              "  </thead>\n",
              "  <tbody>\n",
              "    <tr>\n",
              "      <th>TTN</th>\n",
              "      <td>67.642857</td>\n",
              "    </tr>\n",
              "    <tr>\n",
              "      <th>MQT</th>\n",
              "      <td>61.611111</td>\n",
              "    </tr>\n",
              "    <tr>\n",
              "      <th>PLN</th>\n",
              "      <td>57.740000</td>\n",
              "    </tr>\n",
              "    <tr>\n",
              "      <th>APN</th>\n",
              "      <td>56.695652</td>\n",
              "    </tr>\n",
              "    <tr>\n",
              "      <th>CMI</th>\n",
              "      <td>53.737069</td>\n",
              "    </tr>\n",
              "    <tr>\n",
              "      <th>WRG</th>\n",
              "      <td>53.694444</td>\n",
              "    </tr>\n",
              "    <tr>\n",
              "      <th>COU</th>\n",
              "      <td>52.936170</td>\n",
              "    </tr>\n",
              "    <tr>\n",
              "      <th>MKG</th>\n",
              "      <td>52.875000</td>\n",
              "    </tr>\n",
              "    <tr>\n",
              "      <th>PSG</th>\n",
              "      <td>52.425532</td>\n",
              "    </tr>\n",
              "    <tr>\n",
              "      <th>OTH</th>\n",
              "      <td>52.000000</td>\n",
              "    </tr>\n",
              "    <tr>\n",
              "      <th>CIU</th>\n",
              "      <td>51.740741</td>\n",
              "    </tr>\n",
              "    <tr>\n",
              "      <th>ALO</th>\n",
              "      <td>51.520548</td>\n",
              "    </tr>\n",
              "    <tr>\n",
              "      <th>SUX</th>\n",
              "      <td>51.333333</td>\n",
              "    </tr>\n",
              "    <tr>\n",
              "      <th>EAU</th>\n",
              "      <td>51.000000</td>\n",
              "    </tr>\n",
              "    <tr>\n",
              "      <th>ACV</th>\n",
              "      <td>50.969388</td>\n",
              "    </tr>\n",
              "  </tbody>\n",
              "</table>\n",
              "</div>"
            ],
            "text/plain": [
              "                     arrival_delay\n",
              "destination_airport               \n",
              "TTN                      67.642857\n",
              "MQT                      61.611111\n",
              "PLN                      57.740000\n",
              "APN                      56.695652\n",
              "CMI                      53.737069\n",
              "WRG                      53.694444\n",
              "COU                      52.936170\n",
              "MKG                      52.875000\n",
              "PSG                      52.425532\n",
              "OTH                      52.000000\n",
              "CIU                      51.740741\n",
              "ALO                      51.520548\n",
              "SUX                      51.333333\n",
              "EAU                      51.000000\n",
              "ACV                      50.969388"
            ]
          },
          "metadata": {
            "tags": []
          },
          "execution_count": 30
        }
      ]
    },
    {
      "cell_type": "code",
      "metadata": {
        "colab": {
          "base_uri": "https://localhost:8080/",
          "height": 280
        },
        "id": "lLPgycN7AI2M",
        "outputId": "0fefdfe8-af16-415e-b3ce-f8d0c779b25f"
      },
      "source": [
        "#Graph  Mean Arrival delay Air Line\r\n",
        "\r\n",
        "fig, axs = plt.subplots(figsize=(12, 4))\r\n",
        "Mean_delay_time_Arrival_Airport.sort_values(ascending=False).head(15).plot(kind='bar', rot=0, ax=axs)\r\n",
        "plt.xlabel(\"AirPorts\");  # custom x label using matplotlib\r\n",
        "\r\n",
        "plt.ylabel(\"Mean Delay time\");"
      ],
      "execution_count": null,
      "outputs": [
        {
          "output_type": "display_data",
          "data": {
            "image/png": "[encoded data removed]",
            "text/plain": [
              "<Figure size 864x288 with 1 Axes>"
            ]
          },
          "metadata": {
            "tags": [],
            "needs_background": "light"
          }
        }
      ]
    },
    {
      "cell_type": "markdown",
      "metadata": {
        "id": "AkURPSqA9Ixt"
      },
      "source": [
        "###**Quiz 4 (d) Mean Arrival delay Air Line**"
      ]
    },
    {
      "cell_type": "code",
      "metadata": {
        "colab": {
          "base_uri": "https://localhost:8080/",
          "height": 514
        },
        "id": "5XTWm5e89FnR",
        "outputId": "729efddd-875e-4539-fe8f-93e90b5422ce"
      },
      "source": [
        "airports_arrival_delay=df1[df1['arrival_delay']> 0]\r\n",
        "Mean_delay_time_Arrival=airports_arrival_delay.groupby(airports_arrival_delay[\"airline\"])[\"arrival_delay\"].mean()\r\n",
        "pd.DataFrame(Mean_delay_time_Arrival.sort_values(ascending=False))"
      ],
      "execution_count": null,
      "outputs": [
        {
          "output_type": "execute_result",
          "data": {
            "text/html": [
              "<div>\n",
              "<style scoped>\n",
              "    .dataframe tbody tr th:only-of-type {\n",
              "        vertical-align: middle;\n",
              "    }\n",
              "\n",
              "    .dataframe tbody tr th {\n",
              "        vertical-align: top;\n",
              "    }\n",
              "\n",
              "    .dataframe thead th {\n",
              "        text-align: right;\n",
              "    }\n",
              "</style>\n",
              "<table border=\"1\" class=\"dataframe\">\n",
              "  <thead>\n",
              "    <tr style=\"text-align: right;\">\n",
              "      <th></th>\n",
              "      <th>arrival_delay</th>\n",
              "    </tr>\n",
              "    <tr>\n",
              "      <th>airline</th>\n",
              "      <th></th>\n",
              "    </tr>\n",
              "  </thead>\n",
              "  <tbody>\n",
              "    <tr>\n",
              "      <th>F9</th>\n",
              "      <td>50.890099</td>\n",
              "    </tr>\n",
              "    <tr>\n",
              "      <th>MQ</th>\n",
              "      <td>45.063235</td>\n",
              "    </tr>\n",
              "    <tr>\n",
              "      <th>B6</th>\n",
              "      <td>42.744953</td>\n",
              "    </tr>\n",
              "    <tr>\n",
              "      <th>NK</th>\n",
              "      <td>41.017456</td>\n",
              "    </tr>\n",
              "    <tr>\n",
              "      <th>OO</th>\n",
              "      <td>36.864798</td>\n",
              "    </tr>\n",
              "    <tr>\n",
              "      <th>EV</th>\n",
              "      <td>36.092792</td>\n",
              "    </tr>\n",
              "    <tr>\n",
              "      <th>AA</th>\n",
              "      <td>35.573638</td>\n",
              "    </tr>\n",
              "    <tr>\n",
              "      <th>UA</th>\n",
              "      <td>35.436628</td>\n",
              "    </tr>\n",
              "    <tr>\n",
              "      <th>VX</th>\n",
              "      <td>34.985691</td>\n",
              "    </tr>\n",
              "    <tr>\n",
              "      <th>DL</th>\n",
              "      <td>34.883737</td>\n",
              "    </tr>\n",
              "    <tr>\n",
              "      <th>US</th>\n",
              "      <td>29.509288</td>\n",
              "    </tr>\n",
              "    <tr>\n",
              "      <th>WN</th>\n",
              "      <td>27.742784</td>\n",
              "    </tr>\n",
              "    <tr>\n",
              "      <th>AS</th>\n",
              "      <td>26.106518</td>\n",
              "    </tr>\n",
              "    <tr>\n",
              "      <th>HA</th>\n",
              "      <td>16.407574</td>\n",
              "    </tr>\n",
              "  </tbody>\n",
              "</table>\n",
              "</div>"
            ],
            "text/plain": [
              "         arrival_delay\n",
              "airline               \n",
              "F9           50.890099\n",
              "MQ           45.063235\n",
              "B6           42.744953\n",
              "NK           41.017456\n",
              "OO           36.864798\n",
              "EV           36.092792\n",
              "AA           35.573638\n",
              "UA           35.436628\n",
              "VX           34.985691\n",
              "DL           34.883737\n",
              "US           29.509288\n",
              "WN           27.742784\n",
              "AS           26.106518\n",
              "HA           16.407574"
            ]
          },
          "metadata": {
            "tags": []
          },
          "execution_count": 32
        }
      ]
    },
    {
      "cell_type": "code",
      "metadata": {
        "colab": {
          "base_uri": "https://localhost:8080/",
          "height": 279
        },
        "id": "48iSpcgf_V8B",
        "outputId": "4a1c24f7-bb61-4791-ce16-caf887bc9e7d"
      },
      "source": [
        "#Graph  Mean Arrival delay Air Line\r\n",
        "\r\n",
        "fig, axs = plt.subplots(figsize=(12, 4))\r\n",
        "Mean_delay_time_Arrival.sort_values(ascending=False).plot(kind='bar', rot=0, ax=axs)\r\n",
        "plt.xlabel(\"Airline\");  # custom x label using matplotlib\r\n",
        "\r\n",
        "plt.ylabel(\"Mean Delay  time\");"
      ],
      "execution_count": null,
      "outputs": [
        {
          "output_type": "display_data",
          "data": {
            "image/png": "[encoded data removed]",
            "text/plain": [
              "<Figure size 864x288 with 1 Axes>"
            ]
          },
          "metadata": {
            "tags": [],
            "needs_background": "light"
          }
        }
      ]
    },
    {
      "cell_type": "markdown",
      "metadata": {
        "id": "xxmV2sFt-D5h"
      },
      "source": [
        "#General Specified Causes of Delay"
      ]
    },
    {
      "cell_type": "code",
      "metadata": {
        "id": "9CvS-OvNSasA"
      },
      "source": [
        "#General causes of delay\r\n",
        "airports_arrival_delay=df1[df1['arrival_delay']> 0]\r\n",
        "\r\n",
        "Cumulatives_delays=airports_departure_delay.groupby(airports_departure_delay[\"origin_airport\"]).sum(numeric_only=True)\r\n",
        "\r\n"
      ],
      "execution_count": null,
      "outputs": []
    },
    {
      "cell_type": "code",
      "metadata": {
        "colab": {
          "base_uri": "https://localhost:8080/",
          "height": 291
        },
        "id": "H_rOz0gcG0Cy",
        "outputId": "b9d0f277-6f51-467c-93a7-9bc92697b6d5"
      },
      "source": [
        "airports_arrival_delay=df1[df1['arrival_delay']> 0]\r\n",
        "Cumulatives_delaysb=pd.DataFrame(airports_departure_delay[['air_system_delay','security_delay','airline_delay','late_aircraft_delay','weather_delay']])#.sum(numeric_only=True)\r\n",
        "Cumulatives_delaysb=pd.DataFrame(Cumulatives_delaysb.sum(numeric_only=True).sort_values(ascending=False))\r\n",
        "Cumulatives_delaysb\r\n",
        "\r\n",
        "fig, axs = plt.subplots(figsize=(12, 4))\r\n",
        "Cumulatives_delaysb.plot(kind='bar', rot=0, ax=axs)\r\n",
        "plt.xlabel(\"Cause of delay\");  # custom x label using matplotlib\r\n",
        "\r\n",
        "plt.ylabel(\"Cumulative Delay time\");\r\n"
      ],
      "execution_count": null,
      "outputs": [
        {
          "output_type": "display_data",
          "data": {
            "image/png": "[encoded data removed]",
            "text/plain": [
              "<Figure size 864x288 with 1 Axes>"
            ]
          },
          "metadata": {
            "tags": [],
            "needs_background": "light"
          }
        }
      ]
    }
  ]
}